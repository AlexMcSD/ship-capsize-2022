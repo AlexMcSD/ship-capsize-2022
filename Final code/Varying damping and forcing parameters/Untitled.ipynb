{
 "cells": [
  {
   "cell_type": "code",
   "execution_count": 16,
   "id": "dcdfe399-d988-431a-9229-06a3d3e9dad9",
   "metadata": {},
   "outputs": [],
   "source": [
    "import numpy as np\n",
    "import matplotlib.pyplot as plt\n",
    "V = lambda x: .5*x[1]**2 + .25*x[0]**2 - .5*x[0]*x[1]**2\n",
    "def plotH(H,N):\n",
    "    x = np.meshgrid(np.linspace(-1.5, 3,N) , np.linspace(-3,3,N),indexing= 'ij')\n",
    "\n",
    "    z = np.zeros((np.shape(x)[1],np.shape(x)[2]))\n",
    "    for i in range(0,np.shape(x)[1]):\n",
    "        for j in range(0,np.shape(x)[2]):\n",
    "            y0 = np.array([x[0][j,i],x[1][j,i]])\n",
    "            if V(y0) > H:\n",
    "                z[i,j] = 0\n",
    "            else:\n",
    "                z[i,j] = 1\n",
    "    fig = plt.figure(figsize=(15,15)) \n",
    "    plt.contourf(x[0][:],x[1][:],z)\n",
    "#    plt.colorbar()\n",
    "    plt.xlabel(\"x\", fontsize=14)\n",
    "    plt.ylabel(\"y\", fontsize=14)\n",
    "    plt.show()\n"
   ]
  },
  {
   "cell_type": "code",
   "execution_count": 20,
   "id": "1faef0c4-3ed8-43f6-b481-8e2bbbe2300d",
   "metadata": {},
   "outputs": [],
   "source": [
    "%matplotlib qt\n",
    "\n",
    "plotH(.3,1000)"
   ]
  },
  {
   "cell_type": "code",
   "execution_count": null,
   "id": "fca0fce7-9412-4d18-b1e8-5cdc03d7defd",
   "metadata": {},
   "outputs": [],
   "source": []
  }
 ],
 "metadata": {
  "kernelspec": {
   "display_name": "Python 3 (ipykernel)",
   "language": "python",
   "name": "python3"
  },
  "language_info": {
   "codemirror_mode": {
    "name": "ipython",
    "version": 3
   },
   "file_extension": ".py",
   "mimetype": "text/x-python",
   "name": "python",
   "nbconvert_exporter": "python",
   "pygments_lexer": "ipython3",
   "version": "3.9.7"
  }
 },
 "nbformat": 4,
 "nbformat_minor": 5
}
