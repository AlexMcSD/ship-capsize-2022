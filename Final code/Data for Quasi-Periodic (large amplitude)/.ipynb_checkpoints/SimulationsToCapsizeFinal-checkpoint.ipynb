{
 "cells": [
  {
   "cell_type": "markdown",
   "id": "68ac3e55-f51c-4ea0-87ef-f5329a487c25",
   "metadata": {},
   "source": [
    "# Running simulation data\n",
    "-----"
   ]
  },
  {
   "cell_type": "markdown",
   "id": "e734d4f6-ada5-4009-b2a7-a167c5887802",
   "metadata": {},
   "source": [
    "First we import data and define functions."
   ]
  },
  {
   "cell_type": "code",
   "execution_count": 1,
   "id": "8bc969d4-14e9-4036-976b-c78caaad1dc3",
   "metadata": {
    "tags": []
   },
   "outputs": [],
   "source": [
    "import numpy as np\n",
    "from numpy import cos, sin, cosh, sinh, tanh, array,pi, exp,array,sqrt\n",
    "from numpy.linalg import norm,solve\n",
    "import matplotlib.pyplot as plt\n",
    "from scipy.integrate import solve_ivp\n",
    "import scipy.linalg\n",
    "import scipy.io\n",
    "from model import linearisedSystem,model,eigen,Usolve,Lsolve\n",
    "from StableManifoldImmersion import getInterpolatedImmersionS\n",
    "h,k = tuple(np.load(\"ModelParameters.npy\"))\n",
    "D  =lambda v: k*v\n",
    "ForcingParameters = tuple(np.load(\"ForcingParameters.npy\"))\n",
    "T,N = tuple(np.load(\"TimeInterval.npy\"))\n",
    "N = int(N)\n",
    "forcingtypevector = np.load(\"forcingtype.npy\")\n",
    "if forcingtypevector[0] == 0:\n",
    "    forcingtype = \"periodic\"\n",
    "elif forcingtypevector[0] == 1:\n",
    "    forcingtype = \"quasi-periodic\"\n",
    "else:\n",
    "    print(\"clarify forcingtype\")\n",
    "if   forcingtype == \"periodic\":\n",
    "    Amp1,w1 = ForcingParameters\n",
    "    G = lambda t : Amp1*cos(w1*t)        \n",
    "elif forcingtype == \"quasi-periodic\":\n",
    "    Amp1,w1,Amp2,w2 = ForcingParameters\n",
    "    G = lambda t : Amp1*cos(w1*t) + Amp2*cos(w2*t)\n",
    "\n",
    "thyperbolic = np.linspace(-T,T,N)\n",
    "f,Aplus, Aminus, xplus, xminus = model(h,k,D,G)\n",
    "dt = 2*T/N\n",
    "Pplus,Pplusinv,Pminus,Pinvminus,lambda2, omega, lambda3, lambda4  =  eigen(h,k)\n",
    "Xhyperbolicplus= np.load('Xhyperbolicplus.npy')\n",
    "Xhyperbolicminus= np.load('Xhyperbolicminus.npy')\n",
    "# Importing the data of points of the stable manifold\n",
    "pointsSMplus= np.load(\"pointsSMplus.npy\")\n",
    "valxSplus = np.load(\"valxSplus.npy\")\n",
    "valySplus= np.load(\"valySplus.npy\")\n",
    "valvxSplus= np.load(\"valvxSplus.npy\")\n",
    "valvySplus= np.load(\"valvySplus.npy\")\n",
    "pointsSMminus = np.load(\"pointsSMminus.npy\")\n",
    "valxSminus = np.load(\"valxSminus.npy\")\n",
    "valySminus= np.load(\"valySminus.npy\")\n",
    "valvxSminus= np.load(\"valvxSminus.npy\")\n",
    "valvySminus= np.load(\"valvySminus.npy\")\n",
    "\n",
    "#Data used to contruct the interpolation of the immersion\n",
    "timekeyminus  = np.load(\"timekeyminus.npy\")\n",
    "timekeyplus = np.load(\"timekeyplus.npy\")\n",
    "Rplus = np.load(\"Rplus.npy\")[0]\n",
    "Rminus = np.load(\"Rminus.npy\")[0]\n",
    "# we create the parameterisation of the stable manifolds\n",
    "iotaplus, Diotaplus,xSMplus,ySMplus,vxSMplus,vySMplus = getInterpolatedImmersionS(\"positive\",'rbf')  \n",
    "iotaminus, Diotaminus,xSMminus,ySMminus,vxSMminus,vySMminus = getInterpolatedImmersionS(\"negative\",'rbf')\n",
    "tindicesSplus = np.load(\"tindicesSplus.npy\")\n",
    "tindicesSminus = np.load(\"tindicesSminus.npy\")\n",
    "tindices = tindicesSplus.astype(int)"
   ]
  },
  {
   "cell_type": "code",
   "execution_count": 2,
   "id": "b2ffbe40-d35c-4246-bd66-891c2978a967",
   "metadata": {},
   "outputs": [
    {
     "data": {
      "text/plain": [
       "(1.0, 1.4142135623730951, 2.0, 4.0)"
      ]
     },
     "execution_count": 2,
     "metadata": {},
     "output_type": "execute_result"
    }
   ],
   "source": [
    "ForcingParameters"
   ]
  },
  {
   "cell_type": "code",
   "execution_count": 3,
   "id": "3a32feee-a529-45c8-94d2-0c2565185896",
   "metadata": {},
   "outputs": [
    {
     "name": "stdout",
     "output_type": "stream",
     "text": [
      "quasi-periodic\n"
     ]
    }
   ],
   "source": [
    "print(forcingtype)"
   ]
  },
  {
   "cell_type": "markdown",
   "id": "1ca638dc-cbf2-4526-8fcf-64623688ee2d",
   "metadata": {},
   "source": [
    "We first consider capsizing over the positive side beginning at $t=t_0$. ALL PLOTS ARE DONE WITH INITIAL CONDITIONS AT $t =t_0$."
   ]
  },
  {
   "cell_type": "markdown",
   "id": "e1532155-5a1d-462f-89e7-10dccd275ee6",
   "metadata": {},
   "source": [
    "The dividing manifold depends on the direction of capsize we consider. We define the dividing manifold at time $t$ to be the hyperplane between the stable manifold and an unstable direction."
   ]
  },
  {
   "cell_type": "code",
   "execution_count": 4,
   "id": "2de2e4d0-87b7-4832-95e7-5d4020c4f206",
   "metadata": {
    "tags": []
   },
   "outputs": [],
   "source": [
    "# We add interpolation for the hyperbolic trajectory\n",
    "def MakeDividingManifold(CapsizeSide):\n",
    "    if CapsizeSide == \"positive\":\n",
    "        Xhyperbolic = Xhyperbolicplus\n",
    "        A = Aplus\n",
    "        P = Pplus\n",
    "        Pinv =  Pplusinv\n",
    "        Xhyperbolic1 = Xhyperbolicplus[:,0]\n",
    "        Xhyperbolic2 = Xhyperbolicplus[:,1]\n",
    "        Xhyperbolic3 = Xhyperbolicplus[:,2]\n",
    "        Xhyperbolic4 = Xhyperbolicplus[:,3]\n",
    "        iota = iotaplus\n",
    "        Diota = Diotaplus\n",
    "    elif CapsizeSide == \"negative\":\n",
    "        Xhyperbolic = Xhyperbolicminus\n",
    "        A = Aminus\n",
    "        P = Pminus\n",
    "        Pinv =  Pinvminus\n",
    "        Xhyperbolic1 = Xhyperbolicminus[:,0]\n",
    "        Xhyperbolic2 = Xhyperbolicminus[:,1]\n",
    "        Xhyperbolic3 = Xhyperbolicminus[:,2]\n",
    "        Xhyperbolic4 = Xhyperbolicminus[:,3]\n",
    "        iota = iotaminus\n",
    "        Diota = Diotaminus\n",
    "    e1 = array([1,0,0])\n",
    "    e2 = array([0,1,0])\n",
    "    e3 = array([0,0,1])\n",
    "    interpXhyperbolic1 = scipy.interpolate.UnivariateSpline(thyperbolic,Xhyperbolic1,k=3)\n",
    "    interpXhyperbolic2 = scipy.interpolate.UnivariateSpline(thyperbolic,Xhyperbolic2,k=3)\n",
    "    interpXhyperbolic3 = scipy.interpolate.UnivariateSpline(thyperbolic,Xhyperbolic3,k=3)\n",
    "    interpXhyperbolic4 = scipy.interpolate.UnivariateSpline(thyperbolic,Xhyperbolic4,k=3)\n",
    "    Xhyperbolic = lambda t: array([interpXhyperbolic1(t),interpXhyperbolic2(t),interpXhyperbolic3(t),interpXhyperbolic4(t)]) # We interpolate the hyperbolic trajectory, to get a smooth function\n",
    "    def dividingManifold(y,t):    # need stable manifold for a longer time interval\n",
    "        if np.linalg.norm(Diota(array([0,0,0]),t)) < 10000:\n",
    "            e1 = array([1,0,0])\n",
    "            e2 = array([0,1,0])\n",
    "            e3 = array([0,0,1])\n",
    "            stable = (Diota(array([0,0,0]),t).dot(e3))/np.linalg.norm((Diota(array([0,0,0]),t).dot(e3)))\n",
    "            centre1 = (Diota(array([0,0,0]),t).dot(e1))/np.linalg.norm((Diota(array([0,0,0]),t).dot(e1)))\n",
    "            centre2 = (Diota(array([0,0,0]),t).dot(e2))/np.linalg.norm((Diota(array([0,0,0]),t).dot(e2)))\n",
    "            A = np.vstack((centre1,centre2,stable + P.dot(array([0,0,0,1])))).transpose() # The direction vectors of the dividing manifold at time $t$\n",
    "            DividingPlane = scipy.linalg.orth(A)\n",
    "            u1,u2,u3 = DividingPlane.dot(array([1,0,0])),DividingPlane.dot(array([0,1,0])),DividingPlane.dot(array([0,0,1]))\n",
    "            normal = (stable  - u1.dot(stable)*u1 - u2.dot(stable)*u2 - u3.dot(stable)*u3)/np.linalg.norm(stable  - u1.dot(stable)*u1 - u2.dot(stable)*u2 - u3.dot(stable)*u3) # normal to the hyperplane\n",
    "            d = normal.dot(Xhyperbolic(t))\n",
    "            return normal.dot(y) - d # This is zero when (y,t) lies on the dividing manifold \n",
    "        else:\n",
    "            return nan\n",
    "    return dividingManifold"
   ]
  },
  {
   "cell_type": "markdown",
   "id": "77794ada-4726-4a87-81eb-628cafc3fc60",
   "metadata": {},
   "source": [
    "If a point starts too close to the stable manifold we will be unable to determine which side it lies on with sufficient accuracy. We will require that the distance is at least greater than 0.05, which was a bound determined by numerical experiments"
   ]
  },
  {
   "cell_type": "code",
   "execution_count": 5,
   "id": "4b0cf6ed-ef1e-4b43-a58f-b18025ab7939",
   "metadata": {
    "tags": []
   },
   "outputs": [],
   "source": [
    "def MakefindDistanceSM(CapsizeSide): \n",
    "    if CapsizeSide == \"positive\":\n",
    "        iota = iotaplus\n",
    "        Diota = Diotaplus\n",
    "    elif CapsizeSide == \"negative\":\n",
    "        iota = iotaminus\n",
    "        Diota = iotaminus\n",
    "    def findDistanceSM(y0,t0):\n",
    "        # thiis computes the distance between y0 and the stable manifold at $t = t_0$.\n",
    "        dist = lambda q : np.linalg.norm(iota(q,t0) - y0)**2 # distance of a point on the SM and y0\n",
    "        Ddist = lambda q: 2*Diota(q,t0).transpose().dot((iota(q,t0) -y0)[0])\n",
    "        q0 = array([0,0,0])\n",
    "        eps = 1e-3\n",
    "        minimise = scipy.optimize.minimize(dist,q0, method='Powell' ) # we minimise the distance function\n",
    "        if minimise.success:\n",
    "            q = minimise.x\n",
    "            d = np.linalg.norm(iota(q,t0) - y0)\n",
    "            return q,d, minimise.success\n",
    "        else:\n",
    "            q = minimise.x\n",
    "            if dist(q) < eps:\n",
    "                d = dist(q)\n",
    "                return q,d**0.5, True\n",
    "            else:\n",
    "                print(\"Error for y0 = \" + str(y0) + \": \" + minimise.message)\n",
    "            return q0,-1,False\n",
    "    return findDistanceSM"
   ]
  },
  {
   "cell_type": "markdown",
   "id": "1e1783d6-ddc3-4130-b2cc-505e5bbb68ab",
   "metadata": {},
   "source": [
    "The functions used to determine whether a point is a \"capsize\" point, that is does it lie in the region that will pass thtough the dividing manifold and into the unsafe region. We do this by expressing the stable manifold as a graph of a function $v_y(x,y,v_x)$. To do this we sample a number of points on the stable manifold at $t=t_0$ and use RBF interpolation to obtain the function $v_y$. We then "
   ]
  },
  {
   "cell_type": "code",
   "execution_count": 6,
   "id": "308de563-c73d-479c-be9e-9b86f69d7766",
   "metadata": {},
   "outputs": [],
   "source": [
    "CapsizeSide = 'negative'\n",
    "t0index = tindices[len(tindices)//2]\n",
    "t0 = thyperbolic[t0index]"
   ]
  },
  {
   "cell_type": "code",
   "execution_count": 7,
   "id": "ec6908ba-83ff-4dae-a047-8d2d31e15589",
   "metadata": {},
   "outputs": [],
   "source": [
    "from scipy.interpolate import RBFInterpolator\n",
    "q1Splus = np.linspace(-Rplus+0.1,Rplus-0.2,25)\n",
    "q2Splus =np.linspace(-Rplus+0.1,Rplus-0.2,25)\n",
    "q3Splus =np.linspace(-Rplus+0.1,Rplus-0.2,25)\n",
    "t0 = thyperbolic[t0index]\n",
    "#t = thyperbolic[t0indices[0]:t0indices[-1]+1]\n",
    "#tindices = np.arange(t0indices[0],t0indices[-1],2)\n",
    "xplus = np.zeros((len(q1Splus),len(q2Splus),len(q3Splus)))\n",
    "yplus = np.zeros((len(q1Splus),len(q2Splus),len(q3Splus)))\n",
    "vxplus = np.zeros((len(q1Splus),len(q2Splus),len(q3Splus)))\n",
    "vyplus = np.zeros((len(q1Splus),len(q2Splus),len(q3Splus)))\n",
    "startPoints = True\n",
    "for l in range(0, len(q1Splus)):\n",
    "    for j in range(0,len(q2Splus)):\n",
    "        for m in range(0,len(q3Splus)):\n",
    "            xplus[l,j,m] = xSMplus(array([q1Splus[l],q2Splus[j],q3Splus[m]]),t0 )   \n",
    "            yplus[l,j,m] = ySMplus(array([q1Splus[l],q2Splus[j],q3Splus[m]]),t0)  \n",
    "            vxplus[l,j,m] = vxSMplus(array([q1Splus[l],q2Splus[j],q3Splus[m]]),t0)\n",
    "            vyplus[l,j,m] = vySMplus(array([q1Splus[l],q2Splus[j],q3Splus[m]]),t0)\n",
    "            if startPoints:\n",
    "                pointsplus = array( [xplus[l,j,m],yplus[l,j,m],vxplus[l,j,m]])\n",
    "                vyvalsplus =array([vyplus[l,j,m ]])\n",
    "                startPoints = False\n",
    "            else:\n",
    "                pointsplus = np.vstack((pointsplus,array([xplus[l,j,m],yplus[l,j,m],vxplus[l,j,m]])))\n",
    "                vyvalsplus = np.hstack((vyvalsplus,array([vyplus[l,j,m ]])))\n",
    "vyvalsgraphplus = RBFInterpolator(pointsplus,vyvalsplus)                           \n",
    "\n",
    "q1Sminus = np.linspace(-Rminus+0.1,Rminus-0.2,25)\n",
    "q2Sminus =np.linspace(-Rminus+0.1,Rminus-0.2,25)\n",
    "q3Sminus =np.linspace(-Rminus+0.1,Rminus-0.2,25)\n",
    "t0 = thyperbolic[t0index]\n",
    "#t = thyperbolic[t0indices[0]:t0indices[-1]+1]\n",
    "#tindices = np.arange(t0indices[0],t0indices[-1],2)\n",
    "xminus = np.zeros((len(q1Sminus),len(q2Sminus),len(q3Sminus)))\n",
    "yminus = np.zeros((len(q1Sminus),len(q2Sminus),len(q3Sminus)))\n",
    "vxminus = np.zeros((len(q1Sminus),len(q2Sminus),len(q3Sminus)))\n",
    "vyminus = np.zeros((len(q1Sminus),len(q2Sminus),len(q3Sminus)))\n",
    "startPoints = True\n",
    "for l in range(0, len(q1Sminus)):\n",
    "    for j in range(0,len(q2Sminus)):\n",
    "        for m in range(0,len(q3Sminus)):\n",
    "            xminus[l,j,m] = xSMminus(array([q1Sminus[l],q2Sminus[j],q3Sminus[m]]),t0 )   \n",
    "            yminus[l,j,m] = ySMminus(array([q1Sminus[l],q2Sminus[j],q3Sminus[m]]),t0)  \n",
    "            vxminus[l,j,m] = vxSMminus(array([q1Sminus[l],q2Sminus[j],q3Sminus[m]]),t0)\n",
    "            vyminus[l,j,m] = vySMminus(array([q1Sminus[l],q2Sminus[j],q3Sminus[m]]),t0)\n",
    "            if startPoints:\n",
    "                pointsminus = array( [xminus[l,j,m],yminus[l,j,m],vxminus[l,j,m]])\n",
    "                vyvalsminus =array([vyminus[l,j,m ]])\n",
    "                startPoints = False\n",
    "            else:\n",
    "                pointsminus = np.vstack((pointsminus,array([xminus[l,j,m],yminus[l,j,m],vxminus[l,j,m]])))\n",
    "                vyvalsminus = np.hstack((vyvalsminus,array([vyminus[l,j,m ]])))\n",
    "vyvalsgraphminus = RBFInterpolator(pointsminus,vyvalsminus)                           \n",
    "\n",
    "def isCapsizepoint(y0,t0,findDistanceSM,dividingManifold,CapsizeSide,capsizeregion):\n",
    "    if CapsizeSide == 'positive':\n",
    "        vyvalsgraph = vyvalsgraphplus\n",
    "    if CapsizeSide == 'negative':\n",
    "        vyvalsgraph = vyvalsgraphminus\n",
    "    SMintersection = findDistanceSM(y0,t0) # check intial distance\n",
    "    distSM   = SMintersection[1]\n",
    "    notTooCloseToSM = (distSM > 0.05) # check to make sure it is significantly far away from stable manifold\n",
    "    point = y0[0:3] # the x,y,vx values\n",
    "    if CapsizeSide == 'positive':\n",
    "        if y0[3] < vyvalsgraph(array([point])): # checking the side of stable manifold\n",
    "            return False,notTooCloseToSM\n",
    "        else:\n",
    "            return True, notTooCloseToSM\n",
    "    elif CapsizeSide == 'negative':\n",
    "        if y0[3] > vyvalsgraph(array([point])): # checking the side of stable manifold\n",
    "            return False,notTooCloseToSM\n",
    "        else:\n",
    "            return True, notTooCloseToSM"
   ]
  },
  {
   "cell_type": "markdown",
   "id": "dd8f87f0-23ac-494d-8caa-ca15e06024bc",
   "metadata": {},
   "source": [
    "A check function, to check if a point is indeed a capsize point by intergrating the ODE."
   ]
  },
  {
   "cell_type": "code",
   "execution_count": 8,
   "id": "8b0b3cd7-35cc-4786-ace7-bec0f997d839",
   "metadata": {},
   "outputs": [],
   "source": [
    "def checkCapsize(y0,CapsizeSide):\n",
    "    if CapsizeSide =='positive':\n",
    "        def event(t,y):\n",
    "            return y[1] - 30\n",
    "    elif CapsizeSide == 'negative':\n",
    "        def event(t,y):\n",
    "            return y[1] + 30\n",
    "    event.terminal = True\n",
    "    res = solve_ivp (f, [t0,100+t0], y0 , method = \"Radau\" , events=[event],  max_step =0.05 , rtol = 1e-12 )\n",
    "    y = res .y. transpose()\n",
    "    T =res.t.transpose()\n",
    "#    fig = plt.figure(figsize=(6,6))\n",
    " #   plt.plot(T,y)\n",
    "  #  print(y[-1])\n",
    "    if CapsizeSide =='positive':\n",
    "        if y[-1,1] > 29:\n",
    "            return True\n",
    "        else:\n",
    "            return False\n",
    "    elif CapsizeSide == 'negative':\n",
    "        if y[-1,1] <- 29:\n",
    "            return True\n",
    "        else:\n",
    "            return False"
   ]
  },
  {
   "cell_type": "markdown",
   "id": "277278af-b919-454b-8ba5-790573c6e76d",
   "metadata": {},
   "source": [
    "Here we use our function to determine the time to capsize, 0 meaning that it has already capsized."
   ]
  },
  {
   "cell_type": "code",
   "execution_count": 9,
   "id": "5a91841a-4873-4192-af85-7b185a4b836f",
   "metadata": {},
   "outputs": [],
   "source": [
    "#This will depend on the initial time, to be set later\n",
    "# \n",
    "from numpy import nan\n",
    "def TimetoCapsize(y0,dividingManifold,CapsizeSide,capsizeregion):\n",
    "    if abs( np.sign(dividingManifold(y0,t0))- capsizeregion) >1:\n",
    "        iscapsize, notTooCloseToSM =  isCapsizepoint(y0,t0,findDistanceSM,dividingManifold,CapsizeSide,capsizeregion)\n",
    "        if iscapsize:\n",
    "            return 0\n",
    "        else:\n",
    "            return nan\n",
    "    else:\n",
    "        def event(t,y):\n",
    "            return dividingManifold(y,t)\n",
    "        event.terminal = True\n",
    "        res = solve_ivp (f, [t0,100+t0], y0 , method = \"RK45\" , events=[event],  max_step =0.05 , rtol = 1e-12 )\n",
    "        y = res .y. transpose()\n",
    "        T =res.t.transpose()\n",
    "        if CapsizeSide == 'positive':\n",
    "            if T[-1]<40 and y[-1,1] > 0:  # test for positive roll angle only\n",
    "                return T[-1] # -t0\n",
    "            else:\n",
    "                return nan\n",
    "        elif CapsizeSide == 'negative':\n",
    "            if y[-1,1] < 0:\n",
    "                return T[-1] # -t0\n",
    "            else:\n",
    "                return nan"
   ]
  },
  {
   "cell_type": "markdown",
   "id": "a18a3de9-aa3a-4226-9c64-0eae93f7af54",
   "metadata": {
    "jp-MarkdownHeadingCollapsed": true,
    "tags": []
   },
   "source": [
    "## Monte Carlo testing\n",
    "----\n",
    "This tests how our dividing manifold performs by checking it against direct integration of the equations.\n"
   ]
  },
  {
   "cell_type": "code",
   "execution_count": 13,
   "id": "409b4969-6713-4bd8-bfd2-7b0fa67333a0",
   "metadata": {
    "tags": []
   },
   "outputs": [],
   "source": [
    "Npoints = 10\n",
    "R = 2\n",
    "X =  np.random.uniform(-R,R,Npoints)  # choose a bounding rectangle\n",
    "Y = np.random.uniform(-R,R,Npoints)\n",
    "#Y = array([0])\n",
    "VX = np.random.uniform(-R,R,Npoints)\n",
    "VY = np.random.uniform(-R,R,Npoints)"
   ]
  },
  {
   "cell_type": "markdown",
   "id": "d90e42c1-cec1-4d67-a713-363c10770060",
   "metadata": {
    "tags": []
   },
   "source": [
    "## Finding the quadrant of a point\n",
    "----"
   ]
  },
  {
   "cell_type": "code",
   "execution_count": 14,
   "id": "3612819d-a961-4df2-9a36-6772d880dc54",
   "metadata": {},
   "outputs": [],
   "source": [
    "findDistanceSM = MakefindDistanceSM(CapsizeSide)\n",
    "dividingManifold = MakeDividingManifold(CapsizeSide)\n",
    "strongstablepoint = Xhyperbolicminus[t0index] +Pminus.dot(array([0,0,1,0])) # This is a point that should be on the \"capsize side\" of the dividing manifold \n",
    "unstablepoint = Xhyperbolicminus[t0index] + array([0,-10,0,0]) # could perhaps improve this\n",
    "dividingManifold = MakeDividingManifold(CapsizeSide)\n",
    "capsizeregion  = np.sign(dividingManifold(strongstablepoint,t0))"
   ]
  },
  {
   "cell_type": "code",
   "execution_count": 15,
   "id": "ce96049b-fdd9-4792-8169-b1ae9f5d8e68",
   "metadata": {
    "collapsed": true,
    "jupyter": {
     "outputs_hidden": true
    },
    "tags": []
   },
   "outputs": [
    {
     "name": "stdout",
     "output_type": "stream",
     "text": [
      "1.0 % completed\n",
      "2.0 % completed\n",
      "3.0 % completed\n",
      "4.0 % completed\n",
      "5.0 % completed\n",
      "6.0 % completed\n",
      "7.0 % completed\n",
      "8.0 % completed\n",
      "9.0 % completed\n",
      "10.0 % completed\n",
      "11.0 % completed\n",
      "12.0 % completed\n",
      "13.0 % completed\n",
      "14.0 % completed\n",
      "15.0 % completed\n",
      "16.0 % completed\n",
      "17.0 % completed\n",
      "18.0 % completed\n",
      "19.0 % completed\n",
      "20.0 % completed\n",
      "21.0 % completed\n",
      "22.0 % completed\n",
      "23.0 % completed\n",
      "24.0 % completed\n",
      "25.0 % completed\n",
      "26.0 % completed\n",
      "27.0 % completed\n",
      "28.0 % completed\n",
      "29.0 % completed\n",
      "30.0 % completed\n",
      "31.0 % completed\n",
      "32.0 % completed\n",
      "33.0 % completed\n",
      "34.0 % completed\n",
      "35.0 % completed\n",
      "36.0 % completed\n",
      "37.0 % completed\n",
      "38.0 % completed\n",
      "39.0 % completed\n",
      "40.0 % completed\n",
      "41.0 % completed\n",
      "42.0 % completed\n",
      "43.0 % completed\n",
      "44.0 % completed\n",
      "45.0 % completed\n",
      "46.0 % completed\n",
      "47.0 % completed\n",
      "48.0 % completed\n",
      "49.0 % completed\n",
      "50.0 % completed\n",
      "51.0 % completed\n",
      "52.0 % completed\n",
      "53.0 % completed\n",
      "54.0 % completed\n",
      "55.0 % completed\n",
      "56.0 % completed\n",
      "57.0 % completed\n",
      "58.0 % completed\n",
      "59.0 % completed\n",
      "60.0 % completed\n",
      "61.0 % completed\n",
      "62.0 % completed\n",
      "63.0 % completed\n",
      "64.0 % completed\n",
      "65.0 % completed\n",
      "66.0 % completed\n",
      "67.0 % completed\n",
      "68.0 % completed\n",
      "69.0 % completed\n",
      "70.0 % completed\n",
      "71.0 % completed\n",
      "72.0 % completed\n",
      "73.0 % completed\n",
      "74.0 % completed\n",
      "75.0 % completed\n",
      "76.0 % completed\n",
      "77.0 % completed\n",
      "78.0 % completed\n",
      "79.0 % completed\n",
      "80.0 % completed\n",
      "81.0 % completed\n",
      "82.0 % completed\n",
      "83.0 % completed\n",
      "84.0 % completed\n",
      "85.0 % completed\n",
      "86.0 % completed\n",
      "87.0 % completed\n",
      "88.0 % completed\n",
      "89.0 % completed\n",
      "90.0 % completed\n",
      "91.0 % completed\n",
      "92.0 % completed\n",
      "93.0 % completed\n",
      "94.0 % completed\n",
      "95.0 % completed\n",
      "96.0 % completed\n",
      "97.0 % completed\n",
      "98.0 % completed\n",
      "99.0 % completed\n",
      "100.0 % completed\n"
     ]
    }
   ],
   "source": [
    "capsizes =0\n",
    "safepoints =0\n",
    "total = 0\n",
    "tooclose = 0\n",
    "errorsdivM,errorsSMside = 0,0\n",
    "for i in range(0,len(X)):\n",
    "    for j in range(0,len(Y)):\n",
    "        for l in range(0,len(VX)):\n",
    "            for m in range(0,len(VY)):\n",
    "                y0 = array([X[i],Y[j],VX[l],VY[m]])\n",
    "                total +=1\n",
    "                if total % 100 ==0:\n",
    "                    print(str(100*total/(len(X)*len(Y)*len(VX)*len(VY))) + \" % completed\")\n",
    "             #   check = checkCapsize(y0,CapsizeSide)\n",
    "                iscapsize,nottoclose = isCapsizepoint(y0,t0,findDistanceSM,dividingManifold,CapsizeSide,capsizeregion)\n",
    "                check = iscapsize\n",
    "                if nottoclose:\n",
    "                    if check != iscapsize:\n",
    "                        errorsSMside +=1\n",
    "                        print(\"Error: \" + str(y0))\n",
    "                    else:\n",
    "                        if check == True:\n",
    "                            #times , crossing = CrossingDivM(y0,dividingManifold,CapsizeSide,capsizeregion)\n",
    "                            capsizes +=1\n",
    "                            T =TimetoCapsize(y0,dividingManifold,CapsizeSide,capsizeregion)\n",
    "                            if capsizes == 1:\n",
    "                                capsizepoints = y0.copy().astype(np.float64)\n",
    "                                capsizeTimes = array([T])\n",
    "                            else:\n",
    "                                capsizepoints = np.vstack((capsizepoints,y0.copy().astype(np.float64)))\n",
    "                                capsizeTimes = np.vstack((capsizeTimes,array([T])))\n",
    "                        else:\n",
    "                            safepoints +=1\n",
    "                            if safepoints == 1:\n",
    "                                noncapsizepoints = y0.copy().astype(np.float64)\n",
    "                            else:\n",
    "                                noncapsizepoints = np.vstack((noncapsizepoints,y0.copy().astype(np.float64)))\n",
    "                else:\n",
    "                    tooclose +=1\n",
    "                "
   ]
  },
  {
   "cell_type": "markdown",
   "id": "2016bfe9-0949-44cf-ada6-35bff1a725d0",
   "metadata": {},
   "source": [
    "Here we present the numerical results. We desire the errors to be zero"
   ]
  },
  {
   "cell_type": "code",
   "execution_count": 16,
   "id": "38142c69-c6ed-4903-9925-d3e95f49f079",
   "metadata": {},
   "outputs": [
    {
     "name": "stdout",
     "output_type": "stream",
     "text": [
      "0\n",
      "0.0959\n",
      "0.0166\n"
     ]
    }
   ],
   "source": [
    "print(errorsSMside)\n",
    "print(capsizes/total)\n",
    "\n",
    "print(tooclose/total)"
   ]
  },
  {
   "cell_type": "markdown",
   "id": "e9625fd0-1901-4f2e-9d74-2c37a369f650",
   "metadata": {},
   "source": [
    "## Estimating integrity Basin\n",
    "-----\n",
    "We will sample our points in the domain of $U = \\{H < 0.25\\}$ at $t= t_0$. This set is within the basin of attraction for the stable equilibrium for the undamped system, and so will provide a good measure for the loss of stability"
   ]
  },
  {
   "cell_type": "code",
   "execution_count": 10,
   "id": "12575ab9-4565-4a08-ab33-45dd85e53498",
   "metadata": {},
   "outputs": [],
   "source": [
    "findDistanceSMminus = MakefindDistanceSM('negative')\n",
    "dividingManifoldminus = MakeDividingManifold('negative')\n",
    "strongstablepointminus =  Xhyperbolicminus[t0index] -0.1*Pminus.dot(array([0,0,1,0]))\n",
    "capsizeregionminus  = dividingManifoldminus(strongstablepointminus,t0)\n",
    "findDistanceSMplus = MakefindDistanceSM('positive')\n",
    "dividingManifoldplus = MakeDividingManifold('positive')\n",
    "strongstablepointplus =  Xhyperbolicplus[t0index] +0.1*Pplus.dot(array([0,0,1,0]))\n",
    "capsizeregionplus  = np.sign(dividingManifoldplus(strongstablepointplus,t0))"
   ]
  },
  {
   "cell_type": "code",
   "execution_count": 21,
   "id": "64edc52c-bb76-4299-bbb3-cf359c229ad7",
   "metadata": {},
   "outputs": [
    {
     "data": {
      "text/plain": [
       "0.010390109965166313"
      ]
     },
     "execution_count": 21,
     "metadata": {},
     "output_type": "execute_result"
    }
   ],
   "source": [
    "total/Npoints**4"
   ]
  },
  {
   "cell_type": "code",
   "execution_count": null,
   "id": "2201492d-5f82-4869-91b6-9afeec1be2c9",
   "metadata": {
    "jupyter": {
     "source_hidden": true
    },
    "tags": []
   },
   "outputs": [
    {
     "name": "stdout",
     "output_type": "stream",
     "text": [
      "201.0 % completed\n",
      "202.0 % completed\n",
      "203.0 % completed\n",
      "204.0 % completed\n",
      "205.0 % completed\n",
      "206.0 % completed\n",
      "207.0 % completed\n",
      "208.0 % completed\n",
      "209.0 % completed\n",
      "210.0 % completed\n",
      "211.0 % completed\n",
      "212.0 % completed\n",
      "213.0 % completed\n",
      "214.0 % completed\n",
      "215.0 % completed\n",
      "216.0 % completed\n",
      "217.0 % completed\n",
      "218.0 % completed\n",
      "219.0 % completed\n",
      "220.0 % completed\n",
      "221.0 % completed\n",
      "222.0 % completed\n",
      "223.0 % completed\n",
      "224.0 % completed\n",
      "225.0 % completed\n",
      "226.0 % completed\n",
      "227.0 % completed\n",
      "228.0 % completed\n",
      "229.0 % completed\n",
      "230.0 % completed\n",
      "231.0 % completed\n",
      "232.0 % completed\n",
      "233.0 % completed\n",
      "234.0 % completed\n",
      "235.0 % completed\n",
      "236.0 % completed\n",
      "237.0 % completed\n",
      "238.0 % completed\n",
      "239.0 % completed\n",
      "240.0 % completed\n",
      "241.0 % completed\n",
      "242.0 % completed\n"
     ]
    }
   ],
   "source": [
    "H = lambda y: (.25*y[2]**2)/h + .5*y[3]**2 + .5*(y[1]**2 +.5*y[0]**2 - y[0]*y[1]**2)\n",
    "def U(y0):\n",
    "    return H(y0) <.25 and abs(y0[1]) <= 1\n",
    "R  = 1\n",
    "Npoints = 30\n",
    "# need to esti`mate maximum values to find the volume\n",
    "X =  np.random.uniform(-R,R,Npoints)  # choose a bounding rectangle\n",
    "Y = np.random.uniform(-R,R,Npoints)\n",
    "#Y = array([valy0])\n",
    "VX = np.random.uniform(-R,R,Npoints)\n",
    "VY = np.random.uniform(-sqrt(2),sqrt(2),Npoints)\n",
    "#totalinU = 0\n",
    "#total = 0\n",
    "#capsizes = 0\n",
    "#tooclose = 0\n",
    "#safepoints = 0\n",
    "for i in range(0,len(X)):\n",
    "    for j in range(0,len(Y)):\n",
    "        for l in range(0,len(VX)):\n",
    "            for m in range(0,len(VY)):\n",
    "                y0 = array([X[i],Y[j],VX[l],VY[m]])\n",
    "                total +=1\n",
    "                if total % (Npoints**4//100) ==0:\n",
    "                    print(str(100*total/(len(X)*len(Y)*len(VX)*len(VY))) + \" % completed\")\n",
    "                if U(y0):\n",
    "                    totalinU +=1\n",
    "                    confirmedCapsize = False\n",
    "                    for CapsizeSide in ('positive','negative'):\n",
    "                        if confirmedCapsize == False:\n",
    "                            if CapsizeSide == 'positive':\n",
    "                                findDistanceSM = findDistanceSMplus\n",
    "                                dividingManifold = dividingManifoldplus\n",
    "                                capsizeregion  = capsizeregionplus\n",
    "                            elif CapsizeSide == 'negative':\n",
    "                                findDistanceSM = findDistanceSMminus\n",
    "                                dividingManifold = dividingManifoldminus\n",
    "                                capsizeregion  = capsizeregionminus\n",
    "                            iscapsize,nottoclose = isCapsizepoint(y0,t0,findDistanceSM,dividingManifold,CapsizeSide,capsizeregion)\n",
    "                            if nottoclose:\n",
    "                                if iscapsize == True:\n",
    "                                    capsizes +=1\n",
    "                                    T =TimetoCapsize(y0,dividingManifold,CapsizeSide,capsizeregion)\n",
    "                                    if capsizes == 1:\n",
    "                                        capsizepoints = y0.copy().astype(np.float64)\n",
    "                                        capsizeTimes = array([T])\n",
    "                                    else:\n",
    "                                        capsizepoints = np.vstack((capsizepoints,y0.copy().astype(np.float64)))\n",
    "                                        capsizeTimes = np.vstack((capsizeTimes,array([T])))\n",
    "                                    confirmedCapsize = True\n",
    "                                else:\n",
    "                                    safepoints +=1\n",
    "                                    if safepoints == 1:\n",
    "                                        noncapsizepoints = y0.copy().astype(np.float64)\n",
    "                                    else:\n",
    "                                        noncapsizepoints = np.vstack((noncapsizepoints,y0.copy().astype(np.float64)))\n",
    "                            else:\n",
    "                                tooclose +=1\n",
    "                            "
   ]
  },
  {
   "cell_type": "code",
   "execution_count": null,
   "id": "07da1500-a0a5-4da1-b01f-aeb84a087d48",
   "metadata": {},
   "outputs": [],
   "source": [
    "# Npoints = 100 for volume for reference\n",
    "trial1 = 2.449669959455558\n",
    "trial2 = 2.6137393236403055\n",
    "trial3 = 2.8475115407906175\n",
    "#Npoints = 150\n",
    "trial4 = 2.563659572886674"
   ]
  },
  {
   "cell_type": "code",
   "execution_count": 11,
   "id": "e134d6eb-f972-435a-9d8a-1728529cccc0",
   "metadata": {},
   "outputs": [
    {
     "ename": "NameError",
     "evalue": "name 'total' is not defined",
     "output_type": "error",
     "traceback": [
      "\u001b[1;31m---------------------------------------------------------------------------\u001b[0m",
      "\u001b[1;31mNameError\u001b[0m                                 Traceback (most recent call last)",
      "\u001b[1;32m~\\AppData\\Local\\Temp/ipykernel_12284/3622157915.py\u001b[0m in \u001b[0;36m<module>\u001b[1;34m\u001b[0m\n\u001b[1;32m----> 1\u001b[1;33m \u001b[0mtotal\u001b[0m\u001b[1;31m# total points\u001b[0m\u001b[1;33m\u001b[0m\u001b[1;33m\u001b[0m\u001b[0m\n\u001b[0m",
      "\u001b[1;31mNameError\u001b[0m: name 'total' is not defined"
     ]
    }
   ],
   "source": [
    "total# total points"
   ]
  },
  {
   "cell_type": "code",
   "execution_count": 30,
   "id": "2c50362b-b149-4f2d-b699-c5454c989951",
   "metadata": {},
   "outputs": [
    {
     "name": "stdout",
     "output_type": "stream",
     "text": [
      "0.032540549795299696\n",
      "2.773716265251717\n",
      "2.6834580130042607\n",
      "0.032540549795299696\n"
     ]
    }
   ],
   "source": [
    "volU =(2*R)**3*(2*sqrt(2))*totalinU/total\n",
    "print(capsizes/totalinU) # probability of capsizing in U\n",
    "print(volU) # total size of U\n",
    "print((2*R)**3*(2*sqrt(2)) *(totalinU - capsizes)/total) # safe region size\n",
    "print(capsizes/totalinU)"
   ]
  },
  {
   "cell_type": "code",
   "execution_count": 27,
   "id": "36a16168-33d0-4e90-941b-6c235c8ceb2d",
   "metadata": {},
   "outputs": [],
   "source": [
    "np.save('capsizepoints.npy',capsizepoints)\n",
    "np.save('noncapsizepoints.npy',noncapsizepoints)"
   ]
  },
  {
   "cell_type": "code",
   "execution_count": 7,
   "id": "7f24ad50-f1ea-47c3-b652-2e8b821a4c44",
   "metadata": {},
   "outputs": [],
   "source": [
    "capsizepoints = np.load(\"capsizepoints.npy\")\n",
    "noncapsizepoints = np.load(\"noncapsizepoints.npy\")"
   ]
  },
  {
   "cell_type": "code",
   "execution_count": 9,
   "id": "28014181-454e-47af-a2ec-bc8c1864abbf",
   "metadata": {},
   "outputs": [],
   "source": [
    "VolU = sqrt(2*h)*np.pi*163/210"
   ]
  },
  {
   "cell_type": "code",
   "execution_count": 10,
   "id": "2ffda5f4-2e5e-44d2-81b8-8d07d1ad3bb0",
   "metadata": {},
   "outputs": [
    {
     "data": {
      "text/plain": [
       "3.4064328416937704"
      ]
     },
     "execution_count": 10,
     "metadata": {},
     "output_type": "execute_result"
    }
   ],
   "source": [
    "VolU*(1- capsizepoints.shape[0]/(noncapsizepoints.shape[0]+ capsizepoints.shape[0] ))"
   ]
  },
  {
   "cell_type": "markdown",
   "id": "00f389e8-b531-4b42-8d8d-c66b648902dd",
   "metadata": {
    "jp-MarkdownHeadingCollapsed": true,
    "tags": []
   },
   "source": [
    "## Visualising results\n",
    "----"
   ]
  },
  {
   "cell_type": "markdown",
   "id": "71846974-1d26-438e-9d08-7ab965270314",
   "metadata": {},
   "source": [
    "First we will discreatise the stable manifold, which we will then use to find the set of points with "
   ]
  },
  {
   "cell_type": "code",
   "execution_count": 33,
   "id": "21c7ab2f-a6db-43dd-a0a7-561ebb63ada0",
   "metadata": {},
   "outputs": [],
   "source": [
    "valy0 = -0.5 # we sample points over y = valy0 and H <0.25"
   ]
  },
  {
   "cell_type": "code",
   "execution_count": 35,
   "id": "0f7798be-7cd1-4458-a806-c010d1874295",
   "metadata": {},
   "outputs": [
    {
     "data": {
      "text/plain": [
       "43"
      ]
     },
     "execution_count": 35,
     "metadata": {},
     "output_type": "execute_result"
    }
   ],
   "source": [
    "capsizes"
   ]
  },
  {
   "cell_type": "code",
   "execution_count": 34,
   "id": "96cb3b6e-1186-449f-a754-dd90df7e6d2d",
   "metadata": {
    "tags": []
   },
   "outputs": [
    {
     "name": "stdout",
     "output_type": "stream",
     "text": [
      "20.0 % completed\n",
      "40.0 % completed\n",
      "60.0 % completed\n",
      "80.0 % completed\n",
      "100.0 % completed\n"
     ]
    }
   ],
   "source": [
    "H = lambda y: (.25*y[2]**2)/h + .5*y[3]**2 + .5*(y[1]**2 +.5*y[0]**2 - y[0]*y[1]**2)\n",
    "def U(y0):\n",
    "    return True\n",
    "R  = 1\n",
    "Npoints = 10\n",
    "# need to estimate maximum values to find the volume\n",
    "X =  np.random.uniform(-R,R,Npoints)  # choose a bounding rectangle\n",
    "#Y = np.random.uniform(-R,R,Npoints)\n",
    "Y = array([valy0])\n",
    "VX = np.random.uniform(-R,R,Npoints)\n",
    "VY = np.random.uniform(-sqrt(2),sqrt(2),Npoints)\n",
    "totalinU = 0\n",
    "total = 0\n",
    "capsizes = 0\n",
    "tooclose = 0\n",
    "safepoints = 0\n",
    "for i in range(0,len(X)):\n",
    "    for j in range(0,len(Y)):\n",
    "        for l in range(0,len(VX)):\n",
    "            for m in range(0,len(VY)):\n",
    "                y0 = array([X[i],Y[j],VX[l],VY[m]])\n",
    "                total +=1\n",
    "                if total % 200 ==0:\n",
    "                    print(str(100*total/(len(X)*len(Y)*len(VX)*len(VY))) + \" % completed\")\n",
    "                if U(y0):\n",
    "                    totalinU +=1\n",
    "                    confirmedCapsize = False\n",
    "                    for CapsizeSide in ('positive','negative'):\n",
    "                        if confirmedCapsize == False:\n",
    "                            if CapsizeSide == 'positive':\n",
    "                                findDistanceSM = findDistanceSMplus\n",
    "                                dividingManifold = dividingManifoldplus\n",
    "                                capsizeregion  = capsizeregionplus\n",
    "                            elif CapsizeSide == 'negative':\n",
    "                                findDistanceSM = findDistanceSMminus\n",
    "                                dividingManifold = dividingManifoldminus\n",
    "                                capsizeregion  = capsizeregionminus\n",
    "                            iscapsize,nottoclose = isCapsizepoint(y0,t0,findDistanceSM,dividingManifold,CapsizeSide,capsizeregion)\n",
    "                            if nottoclose:\n",
    "                                if iscapsize == True:\n",
    "                                    capsizes +=1\n",
    "                                    T =TimetoCapsize(y0,dividingManifold,CapsizeSide,capsizeregion) - t0\n",
    "                                    if capsizes == 1:\n",
    "                                        capsizepoints = y0.copy().astype(np.float64)\n",
    "                                        capsizeTimes = array([T])\n",
    "                                    else:\n",
    "                                        capsizepoints = np.vstack((capsizepoints,y0.copy().astype(np.float64)))\n",
    "                                        capsizeTimes = np.vstack((capsizeTimes,array([T])))\n",
    "                                    confirmedCapsize = True\n",
    "                                else:\n",
    "                                    safepoints +=1\n",
    "                                    if safepoints == 1:\n",
    "                                        noncapsizepoints = y0.copy().astype(np.float64)\n",
    "                                    else:\n",
    "                                        noncapsizepoints = np.vstack((noncapsizepoints,y0.copy().astype(np.float64)))\n",
    "                            else:\n",
    "                                tooclose +=1\n",
    "                            "
   ]
  },
  {
   "cell_type": "code",
   "execution_count": 21,
   "id": "69f12c61-d2cb-4d42-a763-a1b8a5817ef9",
   "metadata": {
    "tags": []
   },
   "outputs": [],
   "source": [
    "%matplotlib qt\n",
    "\n",
    "from scipy.interpolate import LinearNDInterpolator\n",
    "tS = thyperbolic[tindices]   \n",
    "def capsizepointsoverSM(y0valy,CapsizeSide):\n",
    "    if CapsizeSide == 'positive':\n",
    "        xplot = xplus\n",
    "        vxplot = vxplus\n",
    "        yplot = yplus\n",
    "        vyplot = vyplus\n",
    "        q1S = q1Sminus\n",
    "        q2S = q2Sminus\n",
    "        q3S = q3Sminus\n",
    "        \n",
    "    elif CapsizeSide == 'negative':\n",
    "        xplot = xminus\n",
    "        vxplot = vxminus\n",
    "        yplot = yminus\n",
    "        vyplot = vyminus\n",
    "        q1S = q1Splus\n",
    "        q2S = q2Splus\n",
    "        q3S = q3Splus\n",
    "        \n",
    "    # plot the stable manifold over this hyperplane00\n",
    "    foundIntersection = False\n",
    "    for j in range(0,len(q1S)):\n",
    "        for l in range(0,len(q2S)):\n",
    "            for m in range(0,len(q3S)):\n",
    "                if abs(yplot[j,l,m] - y0valy) <5e-2:\n",
    "                    if not(foundIntersection):\n",
    "                        xproj = array([xplot[j,l,m]])\n",
    "                        vxproj = array([vxplot[j,l,m]])\n",
    "                        pointsy0 = array([xplot[j,l,m],vxplot[j,l,m] ])\n",
    "                        vyproj = array([vyplot[j,l,m]])\n",
    "                        foundIntersection = True\n",
    "                    else:\n",
    "                        xproj = np.hstack((xproj,xplot[j,l,m]))\n",
    "                        vxproj = np.hstack((vxproj,vxplot[j,l,m]))\n",
    "                        pointsy0 = np.vstack((pointsy0,array([xplot[j,l,m],vxplot[j,l,m] ])))\n",
    "                        vyproj = np.hstack((vyproj,vyplot[j,l,m]))           \n",
    "    print(vyproj.shape)\n",
    "    if foundIntersection:\n",
    "        interpvy0S = RBFInterpolator(pointsy0, vyproj)\n",
    "        vy0SM = lambda a: interpvy0S(a)\n",
    "        xsketch = np.linspace(-R,R,15)\n",
    "        vxsketch = np.linspace(-R,R,15)\n",
    "        X,VX = np.meshgrid(xsketch,vxsketch)\n",
    "        VY = np.zeros((15,15))\n",
    "        for l in range(0,15):\n",
    "            for j in range(0,15):\n",
    "                VY[l,j] = interpvy0S(array([[xsketch[j],vxsketch[l]]]))\n",
    "    print(foundIntersection)\n",
    "    return X,VX,VY"
   ]
  },
  {
   "cell_type": "code",
   "execution_count": 36,
   "id": "26bd9b97-7eb6-40fb-8583-a99c4f559265",
   "metadata": {
    "tags": []
   },
   "outputs": [
    {
     "name": "stdout",
     "output_type": "stream",
     "text": [
      "(243,)\n",
      "True\n",
      "(482,)\n",
      "True\n"
     ]
    }
   ],
   "source": [
    "%matplotlib qt\n",
    "Xplus,VXplus,VYplus = capsizepointsoverSM(valy0,'positive')\n",
    "Xminus,VXminus,VYminus = capsizepointsoverSM(valy0,'negative')\n",
    "fig = plt.figure(figsize=(6,6))\n",
    "ax = plt.subplot(projection='3d')\n",
    "ax.plot_surface(Xplus,VXplus,VYplus,label = 'Stable manifold for positive side at $t = $' + str(round(t0,2)),color = 'g' ,alpha = 0.3)\n",
    "ax.plot_surface(Xminus,VXminus,VYminus,label = 'Stable manifold for negative side at $t = $' + str(round(t0,2)),color = 'g',alpha = 0.3)\n",
    "\n",
    "\n",
    "ax.set_xlabel(\"$x$\", fontsize=14)\n",
    "\n",
    "ax.set_ylabel(\"$v_x$\", fontsize=14)\n",
    "ax.set_zlabel(\"$v_y$\", fontsize=14)\n",
    "xs = capsizepoints[:,0]\n",
    "vxs = capsizepoints[:,2]\n",
    "vys = capsizepoints[:,3]\n",
    "p=ax.scatter(xs,vxs,vys, c=capsizeTimes, cmap=plt.cm.copper, label = \"Capsize points\")\n",
    "#ax.scatter(xs,vxs,vys, c='r', label = \"Capsize points\")\n",
    "ax.set_xlabel(\"$x$\", fontsize=14)\n",
    "ax.set_ylabel(\"$v_x$\", fontsize=14)\n",
    "ax.set_zlabel(\"$v_y$\", fontsize=14)\n",
    "plt.title(\"Distribution of points in U,  $y = $\"+str(valy0))\n",
    "fig.colorbar(p, ax=ax)\n",
    "xs = noncapsizepoints[:,0]\n",
    "vxs = noncapsizepoints[:,2]\n",
    "vys = noncapsizepoints[:,3]\n",
    "ax.scatter(xs,vxs,vys, c = 'b', label = \"Non-Capsize points\")\n",
    "plt.show()"
   ]
  },
  {
   "cell_type": "code",
   "execution_count": null,
   "id": "5616652e-871b-4162-995d-9bdce26bffcc",
   "metadata": {},
   "outputs": [],
   "source": []
  }
 ],
 "metadata": {
  "kernelspec": {
   "display_name": "Python 3 (ipykernel)",
   "language": "python",
   "name": "python3"
  },
  "language_info": {
   "codemirror_mode": {
    "name": "ipython",
    "version": 3
   },
   "file_extension": ".py",
   "mimetype": "text/x-python",
   "name": "python",
   "nbconvert_exporter": "python",
   "pygments_lexer": "ipython3",
   "version": "3.9.7"
  }
 },
 "nbformat": 4,
 "nbformat_minor": 5
}
