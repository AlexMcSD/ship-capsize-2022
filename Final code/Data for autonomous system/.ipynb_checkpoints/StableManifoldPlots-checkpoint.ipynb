{
 "cells": [
  {
   "cell_type": "markdown",
   "id": "e5fa0e72-c553-403d-961a-5b832d60bcdc",
   "metadata": {},
   "source": [
    "# Generating Stable Manifold plots\n",
    "---\n",
    "Most plots are done in Matlab, however we organise the data used for those plos here."
   ]
  },
  {
   "cell_type": "code",
   "execution_count": 3,
   "id": "f10a8116-860a-43fe-9153-aa1d6a539381",
   "metadata": {
    "tags": []
   },
   "outputs": [],
   "source": [
    "import numpy as np\n",
    "from numpy import cos, sin, cosh, sinh, tanh, array,pi, exp,array,sqrt\n",
    "from numpy.linalg import norm,solve\n",
    "import matplotlib.pyplot as plt\n",
    "from scipy.integrate import solve_ivp\n",
    "import scipy.linalg\n",
    "import scipy.io\n",
    "from model import linearisedSystem,model,eigen,Usolve,Lsolve\n",
    "from StableManifoldImmersion import getInterpolatedImmersionS # importing the interpolation method from the .py file\n",
    "h,k = tuple(np.load(\"ModelParameters.npy\"))\n",
    "D  =lambda v: k*v\n",
    "ForcingParameters = tuple(np.load(\"ForcingParameters.npy\"))\n",
    "T,N = tuple(np.load(\"TimeInterval.npy\"))\n",
    "N = int(N)\n",
    "forcingtypevector = np.load(\"forcingtype.npy\")\n",
    "if forcingtypevector[0] == 0:\n",
    "    forcingtype = \"periodic\"\n",
    "elif forcingtypevector[0] == 1:\n",
    "    forcingtype = \"quasi-periodic\"\n",
    "else:\n",
    "    print(\"clarify forcingtype\")\n",
    "if   forcingtype == \"periodic\":\n",
    "    Amp1,w12 = ForcingParameters\n",
    "    G = lambda t : Amp1*cos(w1*t)        \n",
    "elif forcingtype == \"quasi-periodic\":\n",
    "    Amp1,w1,Amp2,w2 = ForcingParameters\n",
    "    G = lambda t : Amp1*cos(w1*t) + Amp2*cos(w2*t)\n",
    "\n",
    "\n",
    "thyperbolic = np.linspace(-T,T,N)\n",
    "f,Aplus, Aminus, xplus, xminus = model(h,k,D,G)\n",
    "dt = 2*T/N\n",
    "Pplus,Pplusinv,Pminus,Pinvminus,lambda2, omega, lambda3, lambda4  =  eigen(h,k)\n",
    "Xhyperbolicplus= np.load('Xhyperbolicplus.npy')\n",
    "Xhyperbolicminus= np.load('Xhyperbolicminus.npy')\n",
    "Deltatminus = int(- N*np.log(10)/(2*T*lambda3))\n",
    "Deltatplus = int(N*np.log(10)/(2*T*lambda4))\n",
    "# importing the computed points on the stable manifolds and the pointsSM, which allow us to define Omega and iota, the immersion. \n",
    "pointsSMplus= np.load(\"pointsSMplus.npy\")\n",
    "valxSplus = np.load(\"valxSplus.npy\")\n",
    "valySplus= np.load(\"valySplus.npy\")\n",
    "valvxSplus= np.load(\"valvxSplus.npy\")\n",
    "valvySplus= np.load(\"valvySplus.npy\")\n",
    "timekeyplus = np.load(\"timekeyplus.npy\")\n",
    "pointsSMminus = np.load(\"pointsSMminus.npy\")\n",
    "valxSminus = np.load(\"valxSminus.npy\")\n",
    "valySminus= np.load(\"valySminus.npy\")\n",
    "valvxSminus= np.load(\"valvxSminus.npy\")\n",
    "valvySminus= np.load(\"valvySminus.npy\")\n",
    "timekeyminus  = np.load(\"timekeyminus.npy\")\n",
    "Rplus = np.load(\"Rplus.npy\")[0]\n",
    "Rminus = np.load(\"Rminus.npy\")[0]\n",
    "tindicesSplus = np.load(\"tindicesSplus.npy\")\n",
    "tindicesSminus = np.load(\"tindicesSminus.npy\")"
   ]
  },
  {
   "cell_type": "code",
   "execution_count": 4,
   "id": "01c7417d-f7b2-4b13-9926-b0fe2ac3c234",
   "metadata": {
    "tags": []
   },
   "outputs": [],
   "source": [
    "iotaplus, Diotaplus,xSMplus,ySMplus,vxSMplus,vySMplus = getInterpolatedImmersionS(\"positive\",'rbf')"
   ]
  },
  {
   "cell_type": "code",
   "execution_count": 5,
   "id": "103c4003-185a-4389-ab9b-8f47a4e698ec",
   "metadata": {
    "tags": []
   },
   "outputs": [
    {
     "name": "stdout",
     "output_type": "stream",
     "text": [
      "5.6821021150042017e-14\n"
     ]
    }
   ],
   "source": [
    "error = 0 #  here we can check the error of the interpolation vs the computed values, it is often of the order of magnitude of approx 1e-13\n",
    "for i in range(0,len(tindicesSplus)-1):\n",
    "    error += np.linalg.norm(iotaplus(array([0,0,0]),thyperbolic[tindicesSplus[i]]) - Xhyperbolicplus[tindicesSplus[i]])\n",
    "\n",
    "print(error)"
   ]
  },
  {
   "cell_type": "code",
   "execution_count": 6,
   "id": "e0c07ece-61b5-4880-8e80-705920c2f54a",
   "metadata": {
    "tags": []
   },
   "outputs": [],
   "source": [
    "iotaminus, Diotaminus,xSMminus,ySMminus,vxSMminus,vySMminus = getInterpolatedImmersionS(\"negative\",'rbf')"
   ]
  },
  {
   "cell_type": "code",
   "execution_count": 7,
   "id": "099a3023-ea57-4931-a7aa-8bad4dcc8b3f",
   "metadata": {},
   "outputs": [
    {
     "name": "stdout",
     "output_type": "stream",
     "text": [
      "5.5544274760802255e-14\n"
     ]
    }
   ],
   "source": [
    "error = 0\n",
    "for i in range(0,len(tindicesSplus)-1):\n",
    "    error += np.linalg.norm(iotaminus(array([0,0,0]),thyperbolic[tindicesSminus[i]]) - Xhyperbolicminus[tindicesSminus[i]])\n",
    "\n",
    "print(error)"
   ]
  },
  {
   "cell_type": "code",
   "execution_count": 27,
   "id": "1df55095-f7a7-40b3-8831-c67fe7e85a30",
   "metadata": {
    "tags": []
   },
   "outputs": [],
   "source": [
    "def getDiscretisedManifold(R,M,xSM,ySM,vxSM,vySM): # this function uses the interpolated immersion to produce a mesh of points that approximate the stable manifold.\n",
    "    # this mesh is used for plotting. We construct it this way rather than directly from the bvp, as it is significantly quicker.\n",
    "    q1S = np.linspace(-.95*R,.95*R,M)\n",
    "    q2S = np.linspace(-.95*R,.95*R,M)\n",
    "    q3S = np.linspace(-.95*R,.95*R,M)\n",
    "    #t = thyperbolic[t0indices[0]:t0indices[-1]+1]\n",
    "    tindices = np.arange(Deltatminus,N-1 -Deltatplus,5) # for conservative system\n",
    "    #CoordsSM = np.meshgrid(q1,q2,q3,t)\n",
    "    x = np.zeros((len(tindices),len(q1S),len(q2S),len(q3S)))\n",
    "    y = np.zeros((len(tindices),len(q1S),len(q2S),len(q3S)))\n",
    "    vx = np.zeros((len(tindices),len(q1S),len(q2S),len(q3S)))\n",
    "    vy = np.zeros((len(tindices),len(q1S),len(q2S),len(q3S)))\n",
    "    for i in range(0,len(tindices)):\n",
    "        for l in range(0, len(q1S)):\n",
    "            for j in range(0,len(q2S)):\n",
    "                for m in range(0,len(q3S)):\n",
    "                    x[i,l,j,m] = xSM(array([q1S[l],q2S[j],q3S[m]]),thyperbolic[tindices[i]])   \n",
    "                    y[i,l,j,m] = ySM(array([q1S[l],q2S[j],q3S[m]]),thyperbolic[tindices[i]])   \n",
    "                    vx[i,l,j,m] = vxSM(array([q1S[l],q2S[j],q3S[m]]),thyperbolic[tindices[i]])   \n",
    "                    vy[i,l,j,m] = vySM(array([q1S[l],q2S[j],q3S[m]]),thyperbolic[tindices[i]])   \n",
    "    tS = thyperbolic[tindices]\n",
    "    return x,y,vx,vy,q1S,q2S,q3S,tS,tindices"
   ]
  },
  {
   "cell_type": "markdown",
   "id": "e9e6fa3c-684a-4b65-906f-c901d8179bf1",
   "metadata": {},
   "source": [
    "Create and save the computed meshes, to be used for plotting in the .m file"
   ]
  },
  {
   "cell_type": "code",
   "execution_count": 12,
   "id": "e35dc4c5-4b13-4000-97f1-48f729675954",
   "metadata": {
    "tags": []
   },
   "outputs": [],
   "source": [
    "xplus,yplus,vxplus,vyplus,q1Splus,q2Splus,q3Splus,tSplus,tSindicesplus = getDiscretisedManifold(Rplus,5,xSMplus,ySMplus,vxSMplus,vySMplus)\n",
    "\n",
    "file_path = 'Xhyperbolicplus.mat'\n",
    "scipy.io.savemat(file_path, {'Xhyperbolicplus': Xhyperbolicplus})\n",
    "file_path = 'xSMplus.mat'\n",
    "scipy.io.savemat(file_path, {'xSMplus': xplus})\n",
    "file_path = 'ySMplus.mat'\n",
    "scipy.io.savemat(file_path, {'ySMplus': yplus})\n",
    "file_path = 'vxSMplus.mat'\n",
    "scipy.io.savemat(file_path, {'vxSMplus': vxplus})\n",
    "file_path = 'vySMplus.mat'\n",
    "scipy.io.savemat(file_path, {'vySMplus': vyplus})\n",
    "file_path = 'tSindicesplus.mat'\n",
    "scipy.io.savemat(file_path, {'tSindicesplus': tSindicesplus})\n",
    "file_path = 'tSplus.mat'\n",
    "scipy.io.savemat(file_path, {'tSplus': tSplus})\n",
    "np.save('xSMplus.npy', xplus)\n",
    "np.save('ySMplus.npy', yplus)\n",
    "np.save('vxSMplus.npy', vxplus)\n",
    "np.save('vySMplus.npy', vyplus)\n",
    "np.save('tSindicesplus.npy', tSindicesplus)\n",
    "np.save('tSplus.npy', tSplus)                "
   ]
  },
  {
   "cell_type": "markdown",
   "id": "8055688b-8055-461b-8fae-98ab6921d2e1",
   "metadata": {},
   "source": [
    "Create and save the computed meshes, to be used for plotting in the .m file"
   ]
  },
  {
   "cell_type": "code",
   "execution_count": 12,
   "id": "08b55f45-43ad-4860-8aab-57a4e7e6113f",
   "metadata": {},
   "outputs": [],
   "source": [
    "xminus,yminus,vxminus,vyminus,q1Sminus,q2Sminus,q3Sminus,tSminus,tSindicesminus = getDiscretisedManifold(Rminus,5,xSMminus,ySMminus,vxSMminus,vySMminus)\n",
    "\n",
    "file_path = 'Xhyperbolicplus.mat'\n",
    "scipy.io.savemat(file_path, {'Xhyperbolicplus': Xhyperbolicplus})\n",
    "file_path = 'xSMminus.mat'\n",
    "scipy.io.savemat(file_path, {'xSMminus': xminus})\n",
    "file_path = 'ySMminus.mat'\n",
    "scipy.io.savemat(file_path, {'ySMminus': yminus})\n",
    "file_path = 'vxSMminus.mat'\n",
    "scipy.io.savemat(file_path, {'vxSMminus': vxminus})\n",
    "file_path = 'vySMminus.mat'\n",
    "scipy.io.savemat(file_path, {'vySMminus': vyminus})\n",
    "file_path = 'tSindicesminus.mat'\n",
    "scipy.io.savemat(file_path, {'tSindicesminus': tSindicesminus})\n",
    "file_path = 'tSminus.mat'\n",
    "scipy.io.savemat(file_path, {'tSminus': tSminus})\n",
    "\n",
    "np.save('xSMminus.npy', xminus)\n",
    "np.save('ySMminus.npy', yminus)\n",
    "np.save('vxSMminus.npy', vxminus)\n",
    "np.save('vySMminus.npy', vyminus)\n",
    "np.save('tSindicesminus.npy', tSindicesminus)\n",
    "np.save('tSminus.npy', tSminus)       "
   ]
  },
  {
   "cell_type": "code",
   "execution_count": 28,
   "id": "dd53b289-e746-4e17-a83c-fc5f67df71d5",
   "metadata": {},
   "outputs": [],
   "source": [
    "%matplotlib qt\n",
    "import scipy.interpolate\n",
    "from scipy.interpolate import RegularGridInterpolator\n",
    "from scipy.interpolate import RBFInterpolator\n",
    "xplus,yplus,vxplus,vyplus,q1Splus,q2Splus,q3Splus,tSplus,tSindicesplus = getDiscretisedManifold(Rplus,25,xSMplus,ySMplus,vxSMplus,vySMplus)"
   ]
  },
  {
   "cell_type": "code",
   "execution_count": 37,
   "id": "391ab985-8611-40ba-a14c-429fa46d06e2",
   "metadata": {},
   "outputs": [
    {
     "name": "stdout",
     "output_type": "stream",
     "text": [
      "(715,)\n",
      "True\n",
      "-0.6325354336086839\n"
     ]
    }
   ],
   "source": [
    "def SMovery0(y0valy,t0index,CapsizeSide):\n",
    "    if CapsizeSide == 'positive':\n",
    "        xplot = xplus\n",
    "        vxplot = vxplus\n",
    "        yplot = yplus\n",
    "        vyplot = vyplus\n",
    "        q1S = q1Splus\n",
    "        q2S = q2Splus\n",
    "        q3S = q3Splus\n",
    "        tS = tSplus\n",
    "    elif CapsizeSide == 'negative':\n",
    "        xplot = xminus\n",
    "        vxplot = vxminus\n",
    "        yplot = yminus\n",
    "        vyplot = vyminus\n",
    "        q1S = q1Sminus\n",
    "        q2S = q2Sminus\n",
    "        q3S = q3Sminus\n",
    "        tS = tSminus\n",
    "    t0 = tS[t0index] # the time at which SM intersects y = y0\n",
    "    fig = plt.figure(figsize=(6,6))\n",
    "    ax = plt.subplot(projection='3d')\n",
    "    # plot the stable manifold over this hyperplane00\n",
    "    foundIntersection = False\n",
    "    for j in range(0,len(q1S)):\n",
    "        for l in range(0,len(q2S)):\n",
    "            for m in range(0,len(q3S)):\n",
    "                if abs(yplot[t0index,j,l,m] - y0valy) <5e-2:\n",
    "                    if not(foundIntersection):\n",
    "                        xproj = array([xplot[t0index,j,l,m]])\n",
    "                        vxproj = array([vxplot[t0index,j,l,m]])\n",
    "                        pointsy0 = array([xplot[t0index,j,l,m],vxplot[t0index,j,l,m] ])\n",
    "                        vyproj = array([vyplot[t0index,j,l,m]])\n",
    "                        foundIntersection = True\n",
    "                    else:\n",
    "                        xproj = np.hstack((xproj,xplot[t0index,j,l,m]))\n",
    "                        vxproj = np.hstack((vxproj,vxplot[t0index,j,l,m]))\n",
    "                        pointsy0 = np.vstack((pointsy0,array([xplot[t0index,j,l,m],vxplot[t0index,j,l,m] ])))\n",
    "                        vyproj = np.hstack((vyproj,vyplot[t0index,j,l,m]))     \n",
    "    ax.scatter(xproj,vxproj,vyproj) \n",
    "    plt.title('Autonomous system stable manifold for positive capsize side with $y = $' + str(y0valy))\n",
    "    ax.set_xlabel(\"$x$\", fontsize=14)\n",
    "    ax.set_ylabel(\"$v_x$\", fontsize=14)\n",
    "    ax.set_zlabel(\"$v_y$\", fontsize=14)\n",
    "    print(vyproj.shape)\n",
    "    if foundIntersection:\n",
    "        interpvy0S = RBFInterpolator(pointsy0, vyproj)\n",
    "        vy0SM = lambda a: interpvy0S(a)\n",
    "        xsketch = np.linspace(np.amin(xproj),np.amax(xproj),15)\n",
    "        vxsketch = np.linspace(np.amin(vxproj),np.amax(vxproj),15)\n",
    "        X,VX = np.meshgrid(xsketch,vxsketch)\n",
    "        VY = np.zeros((15,15))\n",
    "        for l in range(0,15):\n",
    "            for j in range(0,15):\n",
    "                VY[l,j] = interpvy0S(array([[xsketch[j],vxsketch[l]]]))\n",
    "     #   ax.plot_surface(X,VX,VY,label = 'Stable manifold for positive side at %t = $' + str(round(tS[t0index],2)),color = 'g')\n",
    "    print(foundIntersection)\n",
    "    plt.show()\n",
    "    print(t0)\n",
    "SMovery0(.8,14,'positive')"
   ]
  },
  {
   "cell_type": "code",
   "execution_count": null,
   "id": "cc5c85e8-4d9c-47bb-a7bd-b841586cba7f",
   "metadata": {},
   "outputs": [],
   "source": []
  }
 ],
 "metadata": {
  "kernelspec": {
   "display_name": "Python 3 (ipykernel)",
   "language": "python",
   "name": "python3"
  },
  "language_info": {
   "codemirror_mode": {
    "name": "ipython",
    "version": 3
   },
   "file_extension": ".py",
   "mimetype": "text/x-python",
   "name": "python",
   "nbconvert_exporter": "python",
   "pygments_lexer": "ipython3",
   "version": "3.9.7"
  }
 },
 "nbformat": 4,
 "nbformat_minor": 5
}
