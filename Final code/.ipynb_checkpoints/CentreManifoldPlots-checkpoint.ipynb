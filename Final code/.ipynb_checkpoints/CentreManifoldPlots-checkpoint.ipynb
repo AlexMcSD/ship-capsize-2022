{
 "cells": [
  {
   "cell_type": "markdown",
   "id": "be8a5f19-67a4-402c-bd4d-aebcff364601",
   "metadata": {},
   "source": [
    "# Centre Manifold plots\n",
    "----\n",
    "Here we use a simpler interpolation proceedure, as we are primarily interesested in the plotting of the centre manifold."
   ]
  },
  {
   "cell_type": "code",
   "execution_count": 2,
   "id": "1d2dca18-1dfe-4440-9950-7d5ba3ac5129",
   "metadata": {
    "tags": []
   },
   "outputs": [],
   "source": [
    "import numpy as np\n",
    "from numpy import cos, sin, cosh, sinh, tanh, array,pi, exp,array,sqrt\n",
    "from numpy.linalg import norm,solve\n",
    "import matplotlib.pyplot as plt\n",
    "from scipy.integrate import solve_ivp\n",
    "import scipy.linalg\n",
    "import scipy.io\n",
    "from model import linearisedSystem,model,eigen,Usolve,Lsolve\n",
    "from StableManifoldImmersion import getInterpolatedImmersionS"
   ]
  },
  {
   "cell_type": "code",
   "execution_count": 3,
   "id": "275ea429-7443-42ac-b65c-94fff7cb8d8d",
   "metadata": {
    "tags": []
   },
   "outputs": [],
   "source": [
    "FileName = 'Periodic'   # Set name of file to store data too Autonomous, Periodic, Quasi-periodic_small, or Quasi-periodic_large. \n",
    "\n",
    "SaveFile = 'Data_2dof/' +FileName +'/' # route to access and save data"
   ]
  },
  {
   "cell_type": "code",
   "execution_count": 17,
   "id": "2ae37389-a147-44e6-ac53-a1843a17a46a",
   "metadata": {
    "tags": []
   },
   "outputs": [],
   "source": [
    "h,k = tuple(np.load(SaveFile +\"ModelParameters.npy\"))\n",
    "D  =lambda v: k*v\n",
    "ForcingParameters = tuple(np.load(SaveFile +\"ForcingParameters.npy\"))\n",
    "T,N = tuple(np.load(SaveFile +\"TimeInterval.npy\"))\n",
    "N = int(N)\n",
    "forcingtypevector = np.load(SaveFile +\"forcingtype.npy\")\n",
    "if forcingtypevector[0] == 0:\n",
    "    forcingtype = \"periodic\"\n",
    "elif forcingtypevector[0] == 1:\n",
    "    forcingtype = \"quasi-periodic\"\n",
    "else:\n",
    "    print(\"clarify forcingtype\")\n",
    "if   forcingtype == \"periodic\":\n",
    "    Amp1,w1 = ForcingParameters\n",
    "    G = lambda t : Amp1*cos(w1*t)        \n",
    "elif forcingtype == \"quasi-periodic\":\n",
    "    n = len(ForcingParameters)//3\n",
    "    Amp = np.zeros(n)\n",
    "    w = np.zeros(n)\n",
    "    eps = np.zeros(n)\n",
    "    for i in range(0,n):\n",
    "        Amp[i] = ForcingParameters[3*i]\n",
    "        w[i] = ForcingParameters[3*i+1]\n",
    "        eps[i] = ForcingParameters[3*i+2]\n",
    "    G = lambda t : Amp.dot(cos(t*w + eps))  \n",
    "\n",
    "thyperbolic = np.linspace(-T,T,N)\n",
    "f,Aplus, Aminus, xplus, xminus = model(h,k,D,G)\n",
    "dt = 2*T/N\n",
    "Pplus,Pplusinv,Pminus,Pinvminus,lambda2, omega, lambda3, lambda4  =  eigen(h,k)\n",
    "Xhyperbolicplus= np.load(SaveFile +'Xhyperbolicplus.npy')\n",
    "Xhyperbolicminus= np.load(SaveFile +'Xhyperbolicminus.npy')\n",
    "\n",
    "# Importing the data of points of the stable manifold\n",
    "pointsCplus= np.load(SaveFile+\"pointsCMplus.npy\")\n",
    "valxCplus = np.load(SaveFile+\"valxCplus.npy\")\n",
    "valyCplus= np.load(SaveFile+\"valyCplus.npy\")\n",
    "valvxCplus= np.load(SaveFile+\"valvxCplus.npy\")\n",
    "valvyCplus= np.load(SaveFile+\"valvyCplus.npy\")\n",
    "pointsCminus = np.load(SaveFile+\"pointsCMminus.npy\")\n",
    "valxCminus = np.load(SaveFile+\"valxCminus.npy\")\n",
    "valyCminus= np.load(SaveFile+\"valyCminus.npy\")\n",
    "valvxCminus= np.load(SaveFile+\"valvxCminus.npy\")\n",
    "valvyCminus= np.load(SaveFile+\"valvyCminus.npy\")\n",
    "\n",
    "#Data used to contruct the interpolation of the immersion\n",
    "timekeyminus  = np.load(SaveFile+\"timekeyminus.npy\")\n",
    "timekeyplus = np.load(SaveFile+\"timekeyplus.npy\")\n",
    "RCplus = np.load(SaveFile+\"RCplus.npy\")[0]\n",
    "RCminus = np.load(SaveFile+\"RCminus.npy\")[0]\n",
    "tindicesCplus = np.load(SaveFile+\"tindicesCplus.npy\")\n",
    "tindicesCminus = np.load(SaveFile+\"tindicesCminus.npy\")\n",
    "# we create the parameterisation of the stable manifolds\n",
    "tindicesCplus = np.load(SaveFile+\"tindicesSplus.npy\")\n",
    "tindicesCminus = np.load(SaveFile+\"tindicesSminus.npy\")\n",
    "tindices = tindicesCplus.astype(int)"
   ]
  },
  {
   "cell_type": "code",
   "execution_count": 10,
   "id": "9b7abfbb-e354-4299-8686-252b1936df83",
   "metadata": {
    "tags": []
   },
   "outputs": [],
   "source": [
    "Deltatminus = int(- N*np.log(10)/(2*T*lambda3))\n",
    "Deltatplus = int(N*np.log(10)/(2*T*lambda4))"
   ]
  },
  {
   "cell_type": "code",
   "execution_count": 18,
   "id": "a4c33f79-1c8a-4bdb-9b97-1dbfbbc48d8c",
   "metadata": {
    "tags": []
   },
   "outputs": [],
   "source": [
    "import scipy.interpolate\n",
    "from scipy.interpolate import RegularGridInterpolator\n",
    "from scipy.interpolate import LinearNDInterpolator\n",
    "from scipy.interpolate import RBFInterpolator\n",
    "interpxplus = LinearNDInterpolator(pointsCplus, valxCplus)\n",
    "interpyplus = LinearNDInterpolator(pointsCplus, valyCplus)\n",
    "interpvxplus = LinearNDInterpolator(pointsCplus, valvxCplus)\n",
    "interpvyplus = LinearNDInterpolator(pointsCplus, valvyCplus)\n",
    "xCMplus = lambda q1,q2,s : interpxplus(array([q1,q2,s]))\n",
    "yCMplus = lambda q1,q2,s : interpyplus(array([q1,q2,s]))\n",
    "vxCMplus =lambda q1,q2,s : interpvxplus(array([q1,q2,s]))\n",
    "vyCMplus =lambda q1,q2,s : interpvyplus(array([q1,q2,s]))\n",
    "\n",
    "interpxminus = LinearNDInterpolator(pointsCminus, valxCminus)\n",
    "interpyminus = LinearNDInterpolator(pointsCminus, valyCminus)\n",
    "interpvxminus = LinearNDInterpolator(pointsCminus, valvxCminus)\n",
    "interpvyminus = LinearNDInterpolator(pointsCminus, valvyCminus)\n",
    "xCMminus = lambda q1,q2,s : interpxminus(array([q1,q2,s]))\n",
    "yCMminus = lambda q1,q2,s : interpyminus(array([q1,q2,s]))\n",
    "vxCMminus =lambda q1,q2,s : interpvxminus(array([q1,q2,s]))\n",
    "vyCMminus =lambda q1,q2,s : interpvyminus(array([q1,q2,s]))"
   ]
  },
  {
   "cell_type": "code",
   "execution_count": 23,
   "id": "102ecdc1-f7d8-4631-bb54-4d6e12098faa",
   "metadata": {
    "tags": []
   },
   "outputs": [],
   "source": [
    "q1Cplus = np.linspace(-RCplus,RCplus,10)\n",
    "q2Cplus = np.linspace(-RCplus,RCplus,10)\n",
    "q1Cminus = np.linspace(-RCminus,RCminus,10)\n",
    "q2Cminus = np.linspace(-RCminus,RCminus,10)\n",
    "tindices = np.arange(Deltatminus,N-Deltatplus,4)\n"
   ]
  },
  {
   "cell_type": "code",
   "execution_count": 24,
   "id": "24a8796a-8192-4cc6-b677-83f169581d29",
   "metadata": {
    "tags": []
   },
   "outputs": [],
   "source": [
    "q1Cplus = np.linspace(-RCplus,RCplus,10)\n",
    "q2Cplus = np.linspace(-RCplus,RCplus,10)\n",
    "q1Cminus = np.linspace(-RCminus,RCminus,10)\n",
    "q2Cminus = np.linspace(-RCminus,RCminus,10)\n",
    "tindices = np.arange(Deltatminus,N-Deltatplus,4)\n"
   ]
  },
  {
   "cell_type": "code",
   "execution_count": 25,
   "id": "a28f8173-1944-4527-87c7-e99590c07307",
   "metadata": {
    "tags": []
   },
   "outputs": [],
   "source": [
    "xplus = np.zeros((len(tindices),len(q1Cplus),len(q2Cplus)))\n",
    "yplus = np.zeros((len(tindices),len(q1Cplus),len(q2Cplus)))\n",
    "vxplus = np.zeros((len(tindices),len(q1Cplus),len(q2Cplus)))\n",
    "vyplus = np.zeros((len(tindices),len(q1Cplus),len(q2Cplus)))\n",
    "for i in range(0,len(tindices)):\n",
    "    for l in range(0, len(q1Cplus)):\n",
    "        for j in range(0,len(q2Cplus)):\n",
    "            xplus[i,l,j] = xCMplus(q1Cplus[l],q2Cplus[j],thyperbolic[ tindices[i]])[0]\n",
    "            yplus[i,l,j] = yCMplus(q1Cplus[l],q2Cplus[j],thyperbolic[tindices[i]])[0]\n",
    "            vxplus[i,l,j] = vxCMplus(q1Cplus[l],q2Cplus[j],thyperbolic[ tindices[i]])[0]  \n",
    "            vyplus[i,l,j] = vyCMplus(q1Cplus[l],q2Cplus[j],thyperbolic[tindices[i]])[0]\n",
    "            \n",
    "tC = thyperbolic[tindices]"
   ]
  },
  {
   "cell_type": "code",
   "execution_count": 26,
   "id": "4a49e7f4-f99b-4a70-a45a-b8cdb84f1879",
   "metadata": {
    "tags": []
   },
   "outputs": [],
   "source": [
    "xminus = np.zeros((len(tindices),len(q1Cminus),len(q2Cminus)))\n",
    "yminus = np.zeros((len(tindices),len(q1Cminus),len(q2Cminus)))\n",
    "vxminus = np.zeros((len(tindices),len(q1Cminus),len(q2Cminus)))\n",
    "vyminus = np.zeros((len(tindices),len(q1Cminus),len(q2Cminus)))\n",
    "for i in range(0,len(tindices)):\n",
    "    for l in range(0, len(q1Cminus)):\n",
    "        for j in range(0,len(q2Cminus)):\n",
    "            xminus[i,l,j] = xCMminus(q1Cminus[l],q2Cminus[j],thyperbolic[ tindices[i]])[0]\n",
    "            yminus[i,l,j] = yCMminus(q1Cminus[l],q2Cminus[j],thyperbolic[tindices[i]])[0]\n",
    "            vxminus[i,l,j] = vxCMminus(q1Cminus[l],q2Cminus[j],thyperbolic[ tindices[i]])[0]  \n",
    "            vyminus[i,l,j] = vyCMminus(q1Cminus[l],q2Cminus[j],thyperbolic[tindices[i]])[0]\n",
    "            \n",
    "tC = thyperbolic[tindices]"
   ]
  },
  {
   "cell_type": "markdown",
   "id": "35610fa9-59b6-42c5-9650-43a54e984404",
   "metadata": {
    "tags": []
   },
   "source": [
    "## Centre manifold plots\n",
    "-----\n",
    "We show this for the positive centre manifold, that is the centre manifold for the positive side"
   ]
  },
  {
   "cell_type": "code",
   "execution_count": 27,
   "id": "5af14704-dc30-455d-9d35-1e1203ac0fd0",
   "metadata": {
    "tags": []
   },
   "outputs": [],
   "source": [
    "x = xplus\n",
    "y = yplus\n",
    "vx = vxplus\n",
    "vy = vyplus\n",
    "q1C = q1Cplus\n",
    "q2C = q2Cplus\n",
    "valx = valxCplus\n",
    "valy = valyCplus\n",
    "valvx = valvxCplus\n",
    "valvy = valvyCplus\n"
   ]
  },
  {
   "cell_type": "code",
   "execution_count": 28,
   "id": "da2bac9a-64e7-4e2d-abcb-a2f6f62fd687",
   "metadata": {
    "tags": []
   },
   "outputs": [],
   "source": [
    "\n",
    "import PIL  \n",
    "from PIL import Image  "
   ]
  },
  {
   "cell_type": "code",
   "execution_count": 29,
   "id": "c2b2e592-dfa5-4b24-a451-4c0544ae42c5",
   "metadata": {
    "tags": []
   },
   "outputs": [],
   "source": [
    "fig = plt.figure(figsize=(6,6))\n",
    "ax = plt.subplot(projection='3d')\n",
    "for i in range(0,len(tindices)):\n",
    "    ax.plot_wireframe(x[i,:,:], y[i,:,:], tC[i] + np.zeros((len(q1C),len(q2C))),color = 'red')\n",
    "title = \"Center manifold in $(x,y,t) $ space\"\n",
    "plt.title(title, fontsize=20)\n",
    "ax.set_xlabel(\"$x$\", fontsize=14)\n",
    "ax.set_ylabel(\"$y$\", fontsize=14)\n",
    "ax.set_zlabel(\"$t$\", fontsize=14)\n",
    "plt.show()\n",
    "plt.savefig(title + \".png\")    \n",
    "\n",
    "fig = plt.figure(figsize=(6,6))\n",
    "ax = plt.subplot(projection='3d')\n",
    "for i in range(0,len(tindices)):\n",
    "    ax.plot_wireframe(x[i,:,:], vx[i,:,:],  tC[i] + np.zeros((len(q1C),len(q2C))),color = 'red')\n",
    "title = \"Center manifold in $(x,v_x,t) $ space\"\n",
    "plt.title(title, fontsize=20)\n",
    "ax.set_xlabel(\"$x$\", fontsize=14)\n",
    "ax.set_ylabel(\"$v_x$\", fontsize=14)\n",
    "ax.set_zlabel(\"$t$\", fontsize=14)\n",
    "plt.show()\n",
    "plt.savefig(title + \".png\") \n",
    "                      \n",
    "fig = plt.figure(figsize=(6,6))\n",
    "ax = plt.subplot(projection='3d')\n",
    "for i in range(0,len(tindices)):\n",
    "    ax.plot_wireframe(y[i,:,:], vy[i,:,:],  tC[i] + np.zeros((len(q1C),len(q2C))),color = 'red')\n",
    "title = \"Center manifold in $(y,v_y,t) $ space\"\n",
    "plt.title(title, fontsize=20)\n",
    "ax.set_xlabel(\"$y$\", fontsize=14)\n",
    "ax.set_ylabel(\"$v_y$\", fontsize=14)\n",
    "ax.set_zlabel(\"$t$\", fontsize=14)\n",
    "plt.show()\n",
    "plt.savefig(title + \".png\") \n",
    "\n",
    "fig = plt.figure(figsize=(6,6))\n",
    "ax = plt.subplot(projection='3d')\n",
    "for i in range(0,len(tindices)):\n",
    "    ax.plot_wireframe(vx[i,:,:], vy[i,:,:],  tC[i] + np.zeros((len(q1C),len(q2C))),color = 'red')\n",
    "title = \"Center manifold in $(v_x,v_y,t) $ space\"\n",
    "plt.title(title, fontsize=20)\n",
    "ax.set_xlabel(\"$v_x$\", fontsize=14)\n",
    "ax.set_ylabel(\"$v_y$\", fontsize=14)\n",
    "ax.set_zlabel(\"$t$\", fontsize=14)\n",
    "plt.show()\n",
    "plt.savefig(title + \".png\") "
   ]
  },
  {
   "cell_type": "code",
   "execution_count": 30,
   "id": "a600906f-992f-4d1a-8631-8a6edfe0ad3c",
   "metadata": {
    "tags": []
   },
   "outputs": [],
   "source": [
    "colors = ('red','blue','green','black' )\n",
    "fig = plt.figure(figsize=(6,6))\n",
    "ax = plt.subplot(projection='3d')\n",
    "l=0\n",
    "for i in (0,len(tindices)//2,len(tindices)-1):\n",
    "    ax.plot_wireframe(x[i,:,:], y[i,:,:], vx[i,:,:],color = colors[l], label = \"$t = $\"+str(round(thyperbolic[tindices[i]],2)))\n",
    "    l+=1\n",
    "    title = \"Center manifold cross sections in $(x,y,v_x) $ space\"\n",
    "plt.title(title, fontsize=20)\n",
    "ax.set_xlabel(\"$x$\", fontsize=14)\n",
    "ax.set_ylabel(\"$y$\", fontsize=14)\n",
    "ax.set_zlabel(\"$v_x$\", fontsize=14)\n",
    "plt.show()\n",
    "plt.legend()\n",
    "plt.savefig(title + \".png\") \n",
    "    \n",
    "\n",
    "colors = ('red','blue','green','black' )\n",
    "fig = plt.figure(figsize=(6,6))\n",
    "ax = plt.subplot(projection='3d')\n",
    "l=0\n",
    "for i in (0,len(tindices)//2,len(tindices)-1):\n",
    "    ax.plot_wireframe(x[i,:,:], y[i,:,:], vy[i,:,:],color = colors[l], label = \"$t = $\"+str(round(thyperbolic[tindices[i]],2)))\n",
    "    l+=1\n",
    "    title = \"Center manifold cross sections in $(x,y,v_y) $ space\"\n",
    "plt.title(title, fontsize=20)\n",
    "ax.set_xlabel(\"$x$\", fontsize=14)\n",
    "ax.set_ylabel(\"$y$\", fontsize=14)\n",
    "ax.set_zlabel(\"$v_y$\", fontsize=14)\n",
    "plt.show()\n",
    "plt.legend()\n",
    "plt.savefig(title + \".png\") "
   ]
  },
  {
   "cell_type": "code",
   "execution_count": 31,
   "id": "09a7bf58-7af2-4906-911b-d059b160f435",
   "metadata": {
    "tags": []
   },
   "outputs": [],
   "source": [
    "fig = plt.figure(figsize=(6,6))\n",
    "ax = plt.subplot(projection='3d')\n",
    "for i in range(0,len(tindices)):\n",
    "    ax.plot_wireframe(x[i,:,:], y[i,:,:], vy[i,:,:],color = 'red')\n",
    "    ax.scatter(valx, valy, valvy ,color = 'b')\n",
    "\n",
    "title = \"Center manifold in $(x,y,v_y) $ space\"\n",
    "plt.title(title, fontsize=20)\n",
    "ax.set_xlabel(\"$x$\", fontsize=14)\n",
    "ax.set_ylabel(\"$y$\", fontsize=14)\n",
    "ax.set_zlabel(\"$v_y$\", fontsize=14)\n",
    "plt.show()\n",
    "plt.savefig(title + \".png\") \n",
    "\n",
    "fig = plt.figure(figsize=(6,6))\n",
    "ax = plt.subplot(projection='3d')\n",
    "for i in range(0,len(tindices)):\n",
    "    ax.plot_wireframe(x[i,:,:], y[i,:,:], vx[i,:,:],color = 'red')\n",
    "    ax.scatter(valx, valy, valvx ,color = 'b')\n",
    "    \n",
    "title = \"Center manifold in $(x,y,v_x) $ space\"\n",
    "plt.title(title, fontsize=20)\n",
    "ax.set_xlabel(\"$x$\", fontsize=14)\n",
    "ax.set_ylabel(\"$y$\", fontsize=14)\n",
    "ax.set_zlabel(\"$v_x$\", fontsize=14)\n",
    "plt.show()\n",
    "plt.savefig(title + \".png\") "
   ]
  },
  {
   "cell_type": "code",
   "execution_count": 32,
   "id": "9272c1cb",
   "metadata": {
    "tags": []
   },
   "outputs": [],
   "source": [
    "fig = plt.figure(figsize=(6,6))\n",
    "ax = plt.subplot(projection='3d')\n",
    "for i in range(0,len(tindices)):\n",
    "    ax.plot_wireframe(x[i,:,:], y[i,:,:], tC[i] + np.zeros((len(q1C),len(q2C))),color = 'red')\n",
    "title = \"Center manifold in $(x,y,t) $ space\"\n",
    "plt.title(title, fontsize=20)\n",
    "ax.set_xlabel(\"$x$\", fontsize=14)\n",
    "ax.set_ylabel(\"$y$\", fontsize=14)\n",
    "ax.set_zlabel(\"$t$\", fontsize=14)\n",
    "plt.show()\n",
    "plt.savefig(title + \".png\")    \n",
    "\n",
    "fig = plt.figure(figsize=(6,6))\n",
    "ax = plt.subplot(projection='3d')\n",
    "for i in range(0,len(tindices)):\n",
    "    ax.plot_wireframe(x[i,:,:], vx[i,:,:],  tC[i] + np.zeros((len(q1C),len(q2C))),color = 'red')\n",
    "title = \"Center manifold in $(x,v_x,t) $ space\"\n",
    "plt.title(title, fontsize=20)\n",
    "ax.set_xlabel(\"$x$\", fontsize=14)\n",
    "ax.set_ylabel(\"$v_x$\", fontsize=14)\n",
    "ax.set_zlabel(\"$t$\", fontsize=14)\n",
    "plt.show()\n",
    "plt.savefig(title + \".png\") \n",
    "                      \n",
    "fig = plt.figure(figsize=(6,6))\n",
    "ax = plt.subplot(projection='3d')\n",
    "for i in range(0,len(tindices)):\n",
    "    ax.plot_wireframe(y[i,:,:], vy[i,:,:],  tC[i] + np.zeros((len(q1C),len(q2C))),color = 'red')\n",
    "title = \"Center manifold in $(y,v_y,t) $ space\"\n",
    "plt.title(title, fontsize=20)\n",
    "ax.set_xlabel(\"$y$\", fontsize=14)\n",
    "ax.set_ylabel(\"$v_y$\", fontsize=14)\n",
    "ax.set_zlabel(\"$t$\", fontsize=14)\n",
    "plt.show()\n",
    "plt.savefig(title + \".png\") \n",
    "\n",
    "fig = plt.figure(figsize=(6,6))\n",
    "ax = plt.subplot(projection='3d')\n",
    "for i in range(0,len(tindices)):\n",
    "    ax.plot_wireframe(vx[i,:,:], vy[i,:,:],  tC[i] + np.zeros((len(q1C),len(q2C))),color = 'red')\n",
    "title = \"Center manifold in $(v_x,v_y,t) $ space\"\n",
    "plt.title(title, fontsize=20)\n",
    "ax.set_xlabel(\"$v_x$\", fontsize=14)\n",
    "ax.set_ylabel(\"$v_y$\", fontsize=14)\n",
    "ax.set_zlabel(\"$t$\", fontsize=14)\n",
    "plt.show()\n",
    "plt.savefig(title + \".png\") "
   ]
  },
  {
   "cell_type": "code",
   "execution_count": 33,
   "id": "749ef0c3",
   "metadata": {
    "tags": []
   },
   "outputs": [],
   "source": [
    "colors = ('red','blue','green','black' )\n",
    "fig = plt.figure(figsize=(6,6))\n",
    "ax = plt.subplot(projection='3d')\n",
    "l=0\n",
    "for i in (0,len(tindices)//2,len(tindices)-1):\n",
    "    ax.plot_wireframe(x[i,:,:], y[i,:,:], vx[i,:,:],color = colors[l], label = \"$t = $\"+str(round(thyperbolic[tindices[i]],2)))\n",
    "    l+=1\n",
    "    title = \"Center manifold cross sections in $(x,y,v_x) $ space\"\n",
    "plt.title(title, fontsize=20)\n",
    "ax.set_xlabel(\"$x$\", fontsize=14)\n",
    "ax.set_ylabel(\"$y$\", fontsize=14)\n",
    "ax.set_zlabel(\"$v_x$\", fontsize=14)\n",
    "plt.show()\n",
    "plt.legend()\n",
    "plt.savefig(title + \".png\") \n",
    "    \n",
    "\n",
    "colors = ('red','blue','green','black' )\n",
    "fig = plt.figure(figsize=(6,6))\n",
    "ax = plt.subplot(projection='3d')\n",
    "l=0\n",
    "for i in (0,len(tindices)//2,len(tindices)-1):\n",
    "    ax.plot_wireframe(x[i,:,:], y[i,:,:], vy[i,:,:],color = colors[l], label = \"$t = $\"+str(round(thyperbolic[tindices[i]],2)))\n",
    "    l+=1\n",
    "    title = \"Center manifold cross sections in $(x,y,v_y) $ space\"\n",
    "plt.title(title, fontsize=20)\n",
    "ax.set_xlabel(\"$x$\", fontsize=14)\n",
    "ax.set_ylabel(\"$y$\", fontsize=14)\n",
    "ax.set_zlabel(\"$v_y$\", fontsize=14)\n",
    "plt.show()\n",
    "plt.legend()\n",
    "plt.savefig(title + \".png\") "
   ]
  },
  {
   "cell_type": "markdown",
   "id": "cf6bfb9c-ee0f-487a-9263-5c0a594e96b8",
   "metadata": {
    "tags": []
   },
   "source": [
    "## Center manifold in eigenbasis coordinates\n",
    "----"
   ]
  },
  {
   "cell_type": "code",
   "execution_count": 35,
   "id": "489d1398-ef2f-4386-911a-fba44d2063e1",
   "metadata": {
    "tags": []
   },
   "outputs": [
    {
     "data": {
      "text/plain": [
       "<matplotlib.legend.Legend at 0x24d590ac750>"
      ]
     },
     "execution_count": 35,
     "metadata": {},
     "output_type": "execute_result"
    }
   ],
   "source": [
    "stableCM = np.zeros((len(tindices),len(q1C),len(q2C)))\n",
    "unstableCM =np.zeros((len(tindices),len(q1C),len(q2C)))\n",
    "centre1CM = np.zeros((len(tindices),len(q1C),len(q2C)))\n",
    "centre2CM = np.zeros((len(tindices),len(q1C),len(q2C)))\n",
    "\n",
    "for i in range(0,len(tindices)):\n",
    "    for l in range(0, len(q1C)):\n",
    "        for j in range(0,len(q2C)):\n",
    "            stableCM[i,l,j] = Pplusinv.dot(    array([x[i,l,j],y[i,l,j],vx[i,l,j],vy[i,l,j]]) - Xhyperbolicplus[tindices[i]]     )[2]  \n",
    "            unstableCM[i,l,j] = Pplusinv.dot(  array([x[i,l,j],y[i,l,j],vx[i,l,j],vy[i,l,j]]) -  Xhyperbolicplus[tindices[i]])[3] \n",
    "            centre1CM[i,l,j] = Pplusinv.dot( array([x[i,l,j],y[i,l,j],vx[i,l,j],vy[i,l,j]]) -  Xhyperbolicplus[tindices[i]])[0] \n",
    "            centre2CM[i,l,j] = Pplusinv.dot( array([x[i,l,j],y[i,l,j],vx[i,l,j],vy[i,l,j]]) -  Xhyperbolicplus[tindices[i]])[1] \n",
    "fig = plt.figure(figsize=(6,6))\n",
    "ax = plt.subplot(projection='3d')\n",
    "i=0        \n",
    "l=0\n",
    "ax.plot_wireframe(centre1CM[i,:,:], centre2CM[i,:,:], unstableCM[i,:,:],color = colors[l], label = \"$t = $\"+str(round(thyperbolic[tindices[i]],2)))\n",
    "l+=1\n",
    "title = \"Center manifold cross sections, unstable against centre directions\"\n",
    "plt.title(title, fontsize=20)\n",
    "ax.set_xlabel(\"$v^{(1)}$\", fontsize=14)\n",
    "ax.set_ylabel(\"$v^{(2)}$\", fontsize=14)\n",
    "ax.set_zlabel(\"$v_4$\", fontsize=14)\n",
    "plt.show()\n",
    "plt.legend()          \n",
    "fig = plt.figure(figsize=(6,6))\n",
    "ax = plt.subplot(projection='3d')          \n",
    "i=0        \n",
    "l=0\n",
    "ax.plot_wireframe(centre1CM[i,:,:], centre2CM[i,:,:], stableCM[i,:,:],color = colors[l], label = \"$t = $\"+str(round(thyperbolic[tindices[i]],2)))\n",
    "title = \"Center manifold cross sections, stable against centre directions\"\n",
    "plt.title(title, fontsize=20)\n",
    "ax.set_xlabel(\"$v^{(1)}$\", fontsize=14)\n",
    "ax.set_ylabel(\"$v^{(2)}$\", fontsize=14)\n",
    "ax.set_zlabel(\"$v_3$\", fontsize=14)\n",
    "plt.show()\n",
    "plt.legend()   \n",
    "            \n",
    "            "
   ]
  },
  {
   "cell_type": "code",
   "execution_count": null,
   "id": "1d3b9370-69e9-433c-8990-72443cc0cb7d",
   "metadata": {},
   "outputs": [],
   "source": []
  }
 ],
 "metadata": {
  "kernelspec": {
   "display_name": "Python 3 (ipykernel)",
   "language": "python",
   "name": "python3"
  },
  "language_info": {
   "codemirror_mode": {
    "name": "ipython",
    "version": 3
   },
   "file_extension": ".py",
   "mimetype": "text/x-python",
   "name": "python",
   "nbconvert_exporter": "python",
   "pygments_lexer": "ipython3",
   "version": "3.11.4"
  }
 },
 "nbformat": 4,
 "nbformat_minor": 5
}
