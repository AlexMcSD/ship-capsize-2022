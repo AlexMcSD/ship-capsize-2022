{
 "cells": [
  {
   "cell_type": "markdown",
   "id": "e5fa0e72-c553-403d-961a-5b832d60bcdc",
   "metadata": {},
   "source": [
    "# Generating Stable Manifold plots\n",
    "---\n",
    "Most plots are done in Matlab, however we organise the data used for those plos here."
   ]
  },
  {
   "cell_type": "code",
   "execution_count": 5,
   "id": "a2beacfb-d1ac-442a-ab1a-57ad05659550",
   "metadata": {
    "tags": []
   },
   "outputs": [],
   "source": [
    "import numpy as np\n",
    "from numpy import cos, sin, cosh, sinh, tanh, array,pi, exp,array,sqrt\n",
    "from numpy.linalg import norm,solve\n",
    "import matplotlib.pyplot as plt\n",
    "from scipy.integrate import solve_ivp\n",
    "import scipy.linalg\n",
    "import scipy.io\n",
    "from model import linearisedSystem,model,eigen,Usolve,Lsolve\n",
    "from StableManifoldImmersion import getInterpolatedImmersionS"
   ]
  },
  {
   "cell_type": "code",
   "execution_count": 6,
   "id": "7492f827-ce82-4e55-be26-a2e8fc574242",
   "metadata": {
    "tags": []
   },
   "outputs": [],
   "source": [
    "FileName = 'Periodic'   # Set name of file to store data too Autonomous, Periodic, Quasi-periodic_small, or Quasi-periodic_large. \n",
    "\n",
    "SaveFile = 'Data_2dof/' +FileName +'/' # route to access and save data"
   ]
  },
  {
   "cell_type": "code",
   "execution_count": 7,
   "id": "c62f7d2a-39af-42f9-9576-8ef2a6f3d293",
   "metadata": {
    "tags": []
   },
   "outputs": [],
   "source": [
    "h,k = tuple(np.load(SaveFile +\"ModelParameters.npy\"))\n",
    "D  =lambda v: k*v\n",
    "ForcingParameters = tuple(np.load(SaveFile +\"ForcingParameters.npy\"))\n",
    "T,N = tuple(np.load(SaveFile +\"TimeInterval.npy\"))\n",
    "N = int(N)\n",
    "forcingtypevector = np.load(SaveFile +\"forcingtype.npy\")\n",
    "if forcingtypevector[0] == 0:\n",
    "    forcingtype = \"periodic\"\n",
    "elif forcingtypevector[0] == 1:\n",
    "    forcingtype = \"quasi-periodic\"\n",
    "else:\n",
    "    print(\"clarify forcingtype\")\n",
    "if   forcingtype == \"periodic\":\n",
    "    Amp1,w1 = ForcingParameters\n",
    "    G = lambda t : Amp1*cos(w1*t)        \n",
    "elif forcingtype == \"quasi-periodic\":\n",
    "    n = len(ForcingParameters)//3\n",
    "    Amp = np.zeros(n)\n",
    "    w = np.zeros(n)\n",
    "    eps = np.zeros(n)\n",
    "    for i in range(0,n):\n",
    "        Amp[i] = ForcingParameters[3*i]\n",
    "        w[i] = ForcingParameters[3*i+1]\n",
    "        eps[i] = ForcingParameters[3*i+2]\n",
    "    G = lambda t : Amp.dot(cos(t*w + eps))  "
   ]
  },
  {
   "cell_type": "code",
   "execution_count": 8,
   "id": "63e45d0f-617b-46b4-b71d-de65d1d30409",
   "metadata": {
    "tags": []
   },
   "outputs": [],
   "source": [
    "thyperbolic = np.linspace(-T,T,N)\n",
    "f,Aplus, Aminus, xplus, xminus = model(h,k,D,G)\n",
    "dt = 2*T/N\n",
    "Pplus,Pplusinv,Pminus,Pinvminus,lambda2, omega, lambda3, lambda4  =  eigen(h,k)\n",
    "Xhyperbolicplus= np.load(SaveFile +'Xhyperbolicplus.npy')\n",
    "Xhyperbolicminus= np.load(SaveFile +'Xhyperbolicminus.npy')"
   ]
  },
  {
   "cell_type": "code",
   "execution_count": 9,
   "id": "1510e207-6049-41cd-ae1a-2b0fa0f169d9",
   "metadata": {
    "tags": []
   },
   "outputs": [],
   "source": [
    "# Importing the data of points of the stable manifold\n",
    "pointsSMplus= np.load(SaveFile+\"pointsSMplus.npy\")\n",
    "valxSplus = np.load(SaveFile+\"valxSplus.npy\")\n",
    "valySplus= np.load(SaveFile+\"valySplus.npy\")\n",
    "valvxSplus= np.load(SaveFile+\"valvxSplus.npy\")\n",
    "valvySplus= np.load(SaveFile+\"valvySplus.npy\")\n",
    "pointsSMminus = np.load(SaveFile+\"pointsSMminus.npy\")\n",
    "valxSminus = np.load(SaveFile+\"valxSminus.npy\")\n",
    "valySminus= np.load(SaveFile+\"valySminus.npy\")\n",
    "valvxSminus= np.load(SaveFile+\"valvxSminus.npy\")\n",
    "valvySminus= np.load(SaveFile+\"valvySminus.npy\")\n",
    "\n",
    "#Data used to contruct the interpolation of the immersion\n",
    "timekeyminus  = np.load(SaveFile+\"timekeyminus.npy\")\n",
    "timekeyplus = np.load(SaveFile+\"timekeyplus.npy\")\n",
    "Rplus = np.load(SaveFile+\"Rplus.npy\")[0]\n",
    "Rminus = np.load(SaveFile+\"Rminus.npy\")[0]\n",
    "tindicesSplus = np.load(SaveFile+\"tindicesSplus.npy\")\n",
    "tindicesSminus = np.load(SaveFile+\"tindicesSminus.npy\")\n",
    "# we create the parameterisation of the stable manifolds\n",
    "iotaplus, Diotaplus,xSMplus,ySMplus,vxSMplus,vySMplus = getInterpolatedImmersionS('positive', pointsSMplus,valxSplus,valySplus,valvxSplus,valvySplus,timekeyplus,pointsSMminus,valxSminus,valySminus,valvxSminus,valvySminus,timekeyminus,thyperbolic,tindicesSplus, tindicesSminus,method =\"rbf\")\n",
    "iotaminus, Diotaminus,xSMminus,ySMminus,vxSMminus,vySMminus = getInterpolatedImmersionS('negative', pointsSMplus,valxSplus,valySplus,valvxSplus,valvySplus,timekeyplus,pointsSMminus,valxSminus,valySminus,valvxSminus,valvySminus,timekeyminus,thyperbolic,tindicesSplus, tindicesSminus,method =\"rbf\")\n",
    "tindicesSplus = np.load(SaveFile+\"tindicesSplus.npy\")\n",
    "tindicesSminus = np.load(SaveFile+\"tindicesSminus.npy\")\n",
    "tindices = tindicesSplus.astype(int)"
   ]
  },
  {
   "cell_type": "code",
   "execution_count": 11,
   "id": "9b7abfbb-e354-4299-8686-252b1936df83",
   "metadata": {
    "tags": []
   },
   "outputs": [],
   "source": [
    "Deltatminus = int(- N*np.log(10)/(2*T*lambda3))\n",
    "Deltatplus = int(N*np.log(10)/(2*T*lambda4))"
   ]
  },
  {
   "cell_type": "code",
   "execution_count": 12,
   "id": "103c4003-185a-4389-ab9b-8f47a4e698ec",
   "metadata": {
    "tags": []
   },
   "outputs": [
    {
     "name": "stdout",
     "output_type": "stream",
     "text": [
      "7.654788104484293e-14\n"
     ]
    }
   ],
   "source": [
    "error = 0 #  here we can check the error of the interpolation vs the computed values, it is often of the order of magnitude of approx 1e-13\n",
    "for i in range(0,len(tindicesSplus)-1):\n",
    "    error += np.linalg.norm(iotaplus(array([0,0,0]),thyperbolic[tindicesSplus[i]]) - Xhyperbolicplus[tindicesSplus[i]])\n",
    "\n",
    "print(error)"
   ]
  },
  {
   "cell_type": "code",
   "execution_count": 13,
   "id": "099a3023-ea57-4931-a7aa-8bad4dcc8b3f",
   "metadata": {},
   "outputs": [
    {
     "name": "stdout",
     "output_type": "stream",
     "text": [
      "7.554810559056909e-14\n"
     ]
    }
   ],
   "source": [
    "error = 0\n",
    "for i in range(0,len(tindicesSplus)-1):\n",
    "    error += np.linalg.norm(iotaminus(array([0,0,0]),thyperbolic[tindicesSminus[i]]) - Xhyperbolicminus[tindicesSminus[i]])\n",
    "\n",
    "print(error)"
   ]
  },
  {
   "cell_type": "code",
   "execution_count": 14,
   "id": "1df55095-f7a7-40b3-8831-c67fe7e85a30",
   "metadata": {
    "tags": []
   },
   "outputs": [],
   "source": [
    "def getDiscretisedManifold(R,M,xSM,ySM,vxSM,vySM): # this function uses the interpolated immersion to produce a mesh of points that approximate the stable manifold.\n",
    "    # this mesh is used for plotting. We construct it this way rather than directly from the bvp, as it is significantly quicker.\n",
    "    q1S = np.linspace(-.95*R,.95*R,2*M)\n",
    "    q2S = np.linspace(-.95*R,.95*R,2*M)\n",
    "    q3S = np.linspace(-.95*R,.95*R,2*M)\n",
    "    #t = thyperbolic[t0indices[0]:t0indices[-1]+1]\n",
    "    tindices = np.arange(Deltatminus,N-1 -Deltatplus,5) # for conservative system\n",
    "    #CoordsSM = np.meshgrid(q1,q2,q3,t)\n",
    "    x = np.zeros((len(tindices),len(q1S),len(q2S),len(q3S)))\n",
    "    y = np.zeros((len(tindices),len(q1S),len(q2S),len(q3S)))\n",
    "    vx = np.zeros((len(tindices),len(q1S),len(q2S),len(q3S)))\n",
    "    vy = np.zeros((len(tindices),len(q1S),len(q2S),len(q3S)))\n",
    "    for i in range(0,len(tindices)):\n",
    "        for l in range(0, len(q1S)):\n",
    "            for j in range(0,len(q2S)):\n",
    "                for m in range(0,len(q3S)):\n",
    "                    x[i,l,j,m] = xSM(array([q1S[l],q2S[j],q3S[m]]),thyperbolic[tindices[i]])   \n",
    "                    y[i,l,j,m] = ySM(array([q1S[l],q2S[j],q3S[m]]),thyperbolic[tindices[i]])   \n",
    "                    vx[i,l,j,m] = vxSM(array([q1S[l],q2S[j],q3S[m]]),thyperbolic[tindices[i]])   \n",
    "                    vy[i,l,j,m] = vySM(array([q1S[l],q2S[j],q3S[m]]),thyperbolic[tindices[i]])   \n",
    "    tS = thyperbolic[tindices]\n",
    "    return x,y,vx,vy,q1S,q2S,q3S,tS,tindices"
   ]
  },
  {
   "cell_type": "code",
   "execution_count": 15,
   "id": "5d26f910-ba13-45b5-9d6b-54422e2a1789",
   "metadata": {},
   "outputs": [],
   "source": [
    "%matplotlib qt\n",
    "import scipy.interpolate\n",
    "from scipy.interpolate import RegularGridInterpolator\n",
    "from scipy.interpolate import RBFInterpolator\n",
    "xplus,yplus,vxplus,vyplus,q1Splus,q2Splus,q3Splus,tSplus,tSindicesplus = getDiscretisedManifold(Rplus,5,xSMplus,ySMplus,vxSMplus,vySMplus)\n",
    "xminus,yminus,vxminus,vyminus,q1Sminus,q2Sminus,q3Sminus,tSminus,tSindicesminus = getDiscretisedManifold(Rminus,5,xSMminus,ySMminus,vxSMminus,vySMminus)"
   ]
  },
  {
   "cell_type": "code",
   "execution_count": 26,
   "id": "456432b8-45d7-4c05-8c75-557f86a70039",
   "metadata": {},
   "outputs": [],
   "source": [
    "def SMovery0(y0valy,t0index,CapsizeSide):\n",
    "    if CapsizeSide == 'positive':\n",
    "        xplot = xplus\n",
    "        vxplot = vxplus\n",
    "        yplot = yplus\n",
    "        vyplot = vyplus\n",
    "        q1S = q1Splus\n",
    "        q2S = q2Splus\n",
    "        q3S = q3Splus\n",
    "        tS = tSplus\n",
    "    elif CapsizeSide == 'negative':\n",
    "        xplot = xminus\n",
    "        vxplot = vxminus\n",
    "        yplot = yminus\n",
    "        vyplot = vyminus\n",
    "        q1S = q1Sminus\n",
    "        q2S = q2Sminus\n",
    "        q3S = q3Sminus\n",
    "        tS = tSminus\n",
    "    t0 = tS[t0index] # the time at which SM intersects y = y0\n",
    "    fig = plt.figure(figsize=(6,6))\n",
    "    ax = plt.subplot(projection='3d')\n",
    "    # plot the stable manifold over this hyperplane00\n",
    "    foundIntersection = False\n",
    "    for j in range(0,len(q1S)):\n",
    "        for l in range(0,len(q2S)):\n",
    "            for m in range(0,len(q3S)):\n",
    "                if abs(yplot[t0index,j,l,m] - y0valy) <5e-2:\n",
    "                    if not(foundIntersection):\n",
    "                        xproj = array([xplot[t0index,j,l,m]])\n",
    "                        vxproj = array([vxplot[t0index,j,l,m]])\n",
    "                        pointsy0 = array([xplot[t0index,j,l,m],vxplot[t0index,j,l,m] ])\n",
    "                        vyproj = array([vyplot[t0index,j,l,m]])\n",
    "                        foundIntersection = True\n",
    "                    else:\n",
    "                        xproj = np.hstack((xproj,xplot[t0index,j,l,m]))\n",
    "                        vxproj = np.hstack((vxproj,vxplot[t0index,j,l,m]))\n",
    "                        pointsy0 = np.vstack((pointsy0,array([xplot[t0index,j,l,m],vxplot[t0index,j,l,m] ])))\n",
    "                        vyproj = np.hstack((vyproj,vyplot[t0index,j,l,m]))     \n",
    "    ax.scatter(xproj,vxproj,vyproj) \n",
    "    plt.title('Autonomous system stable manifold for '  +CapsizeSide + ' capsize side with $(y,t) = ($' + str(y0valy) + ',' + str(round(tS[t0index],2)) + '$)$')\n",
    "    ax.set_xlabel(\"$x$\", fontsize=14)\n",
    "    ax.set_ylabel(\"$v_x$\", fontsize=14)\n",
    "    ax.set_zlabel(\"$v_y$\", fontsize=14)\n",
    "    if foundIntersection:\n",
    "        interpvy0S = RBFInterpolator(pointsy0, vyproj)\n",
    "        vy0SM = lambda a: interpvy0S(a)\n",
    "        xsketch = np.linspace(np.amin(xproj),np.amax(xproj),15)\n",
    "        vxsketch = np.linspace(np.amin(vxproj),np.amax(vxproj),15)\n",
    "        X,VX = np.meshgrid(xsketch,vxsketch)\n",
    "        VY = np.zeros((15,15))\n",
    "        for l in range(0,15):\n",
    "            for j in range(0,15):\n",
    "                VY[l,j] = interpvy0S(array([[xsketch[j],vxsketch[l]]]))\n",
    "        ax.plot_surface(X,VX,VY,label = 'Stable manifold for '  +CapsizeSide + ' side at t = $' + str(round(tS[t0index],2)),color = 'g')\n",
    "    else:\n",
    "        print('Cannot find intersection of stable manifold with $(y,t) = ($' + str(y0valy) + ',' + str(round(tS[t0index],2)) + '$)$')\n",
    "    plt.show()\n",
    "    "
   ]
  },
  {
   "cell_type": "code",
   "execution_count": 27,
   "id": "3d89dcb3-dd18-4f50-9e81-b224dd84c574",
   "metadata": {},
   "outputs": [],
   "source": [
    "SMovery0(.8,14,'positive')\n",
    "SMovery0(-.8,14,'negative')"
   ]
  },
  {
   "cell_type": "code",
   "execution_count": null,
   "id": "728e93fa-32c4-4c52-a613-9cd58191de5b",
   "metadata": {},
   "outputs": [],
   "source": []
  }
 ],
 "metadata": {
  "kernelspec": {
   "display_name": "Python 3 (ipykernel)",
   "language": "python",
   "name": "python3"
  },
  "language_info": {
   "codemirror_mode": {
    "name": "ipython",
    "version": 3
   },
   "file_extension": ".py",
   "mimetype": "text/x-python",
   "name": "python",
   "nbconvert_exporter": "python",
   "pygments_lexer": "ipython3",
   "version": "3.11.4"
  }
 },
 "nbformat": 4,
 "nbformat_minor": 5
}
