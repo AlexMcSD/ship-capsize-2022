{
 "cells": [
  {
   "cell_type": "markdown",
   "id": "68ac3e55-f51c-4ea0-87ef-f5329a487c25",
   "metadata": {},
   "source": [
    "# Running simulation data\n",
    "-----"
   ]
  },
  {
   "cell_type": "markdown",
   "id": "e734d4f6-ada5-4009-b2a7-a167c5887802",
   "metadata": {},
   "source": [
    "First we import data and define functions."
   ]
  },
  {
   "cell_type": "code",
   "execution_count": 1,
   "id": "7fc0b333-778b-4e1e-84d9-20a3ac5556ef",
   "metadata": {
    "tags": []
   },
   "outputs": [],
   "source": [
    "import numpy as np\n",
    "from numpy import cos, sin, cosh, sinh, tanh, array,pi, exp,array,sqrt\n",
    "from numpy.linalg import norm,solve\n",
    "import matplotlib.pyplot as plt\n",
    "from scipy.integrate import solve_ivp\n",
    "import scipy.linalg\n",
    "import scipy.io\n",
    "from model import linearisedSystem,model,eigen,Usolve,Lsolve\n",
    "from StableManifoldImmersion import getInterpolatedImmersionS"
   ]
  },
  {
   "cell_type": "code",
   "execution_count": 2,
   "id": "c6b58282-7049-4b8e-8640-b7dd210d94a8",
   "metadata": {
    "tags": []
   },
   "outputs": [],
   "source": [
    "FileName = 'Periodic'   # Set name of file to store data too Autonomous, Periodic, Quasi-periodic_small, or Quasi-periodic_large. \n",
    "\n",
    "SaveFile = 'Data_2dof/' +FileName +'/' # route to access and save data"
   ]
  },
  {
   "cell_type": "code",
   "execution_count": 3,
   "id": "6876a7e6-1fac-41a7-86d7-1866de158a87",
   "metadata": {
    "tags": []
   },
   "outputs": [],
   "source": [
    "h,k = tuple(np.load(SaveFile +\"ModelParameters.npy\"))\n",
    "D  =lambda v: k*v\n",
    "ForcingParameters = tuple(np.load(SaveFile +\"ForcingParameters.npy\"))\n",
    "T,N = tuple(np.load(SaveFile +\"TimeInterval.npy\"))\n",
    "N = int(N)\n",
    "forcingtypevector = np.load(SaveFile +\"forcingtype.npy\")\n",
    "if forcingtypevector[0] == 0:\n",
    "    forcingtype = \"periodic\"\n",
    "elif forcingtypevector[0] == 1:\n",
    "    forcingtype = \"quasi-periodic\"\n",
    "else:\n",
    "    print(\"clarify forcingtype\")\n",
    "if   forcingtype == \"periodic\":\n",
    "    Amp1,w1 = ForcingParameters\n",
    "    G = lambda t : Amp1*cos(w1*t)        \n",
    "elif forcingtype == \"quasi-periodic\":\n",
    "    n = len(ForcingParameters)//3\n",
    "    Amp = np.zeros(n)\n",
    "    w = np.zeros(n)\n",
    "    eps = np.zeros(n)\n",
    "    for i in range(0,n):\n",
    "        Amp[i] = ForcingParameters[3*i]\n",
    "        w[i] = ForcingParameters[3*i+1]\n",
    "        eps[i] = ForcingParameters[3*i+2]\n",
    "    G = lambda t : Amp.dot(cos(t*w + eps))  "
   ]
  },
  {
   "cell_type": "code",
   "execution_count": 4,
   "id": "64a69810-da6a-45de-9006-b8f136148788",
   "metadata": {
    "tags": []
   },
   "outputs": [],
   "source": [
    "thyperbolic = np.linspace(-T,T,N)\n",
    "f,Aplus, Aminus, xplus, xminus = model(h,k,D,G)\n",
    "dt = 2*T/N\n",
    "Pplus,Pplusinv,Pminus,Pinvminus,lambda2, omega, lambda3, lambda4  =  eigen(h,k)\n",
    "Xhyperbolicplus= np.load(SaveFile +'Xhyperbolicplus.npy')\n",
    "Xhyperbolicminus= np.load(SaveFile +'Xhyperbolicminus.npy')"
   ]
  },
  {
   "cell_type": "code",
   "execution_count": 5,
   "id": "8edb23a9-43ff-4178-a458-ac8f3d3e419a",
   "metadata": {
    "tags": []
   },
   "outputs": [],
   "source": [
    "# Importing the data of points of the stable manifold\n",
    "pointsSMplus= np.load(SaveFile+\"pointsSMplus.npy\")\n",
    "valxSplus = np.load(SaveFile+\"valxSplus.npy\")\n",
    "valySplus= np.load(SaveFile+\"valySplus.npy\")\n",
    "valvxSplus= np.load(SaveFile+\"valvxSplus.npy\")\n",
    "valvySplus= np.load(SaveFile+\"valvySplus.npy\")\n",
    "pointsSMminus = np.load(SaveFile+\"pointsSMminus.npy\")\n",
    "valxSminus = np.load(SaveFile+\"valxSminus.npy\")\n",
    "valySminus= np.load(SaveFile+\"valySminus.npy\")\n",
    "valvxSminus= np.load(SaveFile+\"valvxSminus.npy\")\n",
    "valvySminus= np.load(SaveFile+\"valvySminus.npy\")\n",
    "\n",
    "#Data used to contruct the interpolation of the immersion\n",
    "timekeyminus  = np.load(SaveFile+\"timekeyminus.npy\")\n",
    "timekeyplus = np.load(SaveFile+\"timekeyplus.npy\")\n",
    "Rplus = np.load(SaveFile+\"Rplus.npy\")[0]\n",
    "Rminus = np.load(SaveFile+\"Rminus.npy\")[0]\n",
    "tindicesSplus = np.load(SaveFile+\"tindicesSplus.npy\")\n",
    "tindicesSminus = np.load(SaveFile+\"tindicesSminus.npy\")\n",
    "# we create the parameterisation of the stable manifolds\n",
    "iotaplus, Diotaplus,xSMplus,ySMplus,vxSMplus,vySMplus = getInterpolatedImmersionS('positive', pointsSMplus,valxSplus,valySplus,valvxSplus,valvySplus,timekeyplus,pointsSMminus,valxSminus,valySminus,valvxSminus,valvySminus,timekeyminus,thyperbolic,tindicesSplus, tindicesSminus,method =\"rbf\")\n",
    "iotaminus, Diotaminus,xSMminus,ySMminus,vxSMminus,vySMminus = getInterpolatedImmersionS('negative', pointsSMplus,valxSplus,valySplus,valvxSplus,valvySplus,timekeyplus,pointsSMminus,valxSminus,valySminus,valvxSminus,valvySminus,timekeyminus,thyperbolic,tindicesSplus, tindicesSminus,method =\"rbf\")\n",
    "tindicesSplus = np.load(SaveFile+\"tindicesSplus.npy\")\n",
    "tindicesSminus = np.load(SaveFile+\"tindicesSminus.npy\")\n",
    "tindices = tindicesSplus.astype(int)"
   ]
  },
  {
   "cell_type": "code",
   "execution_count": 6,
   "id": "d5630d7a-927e-4c6a-a99f-1eb8a6751e73",
   "metadata": {
    "tags": []
   },
   "outputs": [
    {
     "name": "stdout",
     "output_type": "stream",
     "text": [
      "(1, 1)\n",
      "periodic\n"
     ]
    }
   ],
   "source": [
    "print(ForcingParameters)\n",
    "print(forcingtype)"
   ]
  },
  {
   "cell_type": "markdown",
   "id": "1ca638dc-cbf2-4526-8fcf-64623688ee2d",
   "metadata": {},
   "source": [
    "Throughout this file we consider initial condtions at $t=t_0$, which are assigned here. This $t_0$ should be chosen so that the stable manifolds are known on a large enough time interval encompassing $t_0$. Knowing the stable manifold up to $t_0 + 10$ should be sufficient."
   ]
  },
  {
   "cell_type": "code",
   "execution_count": 7,
   "id": "bea836db-b3ef-4f1a-b760-6bb287ebc4a7",
   "metadata": {
    "tags": []
   },
   "outputs": [],
   "source": [
    "t0index = tindices[len(tindices)//2]\n",
    "t0 = thyperbolic[t0index]"
   ]
  },
  {
   "cell_type": "markdown",
   "id": "e1532155-5a1d-462f-89e7-10dccd275ee6",
   "metadata": {},
   "source": [
    "The dividing manifold depends on the direction of capsize we consider. We define the dividing manifold at time $t$ to be the hyperplane between the stable manifold and an unstable direction."
   ]
  },
  {
   "cell_type": "code",
   "execution_count": 8,
   "id": "2de2e4d0-87b7-4832-95e7-5d4020c4f206",
   "metadata": {
    "tags": []
   },
   "outputs": [],
   "source": [
    "def MakeDividingManifold(CapsizeSide): # this function creates the dividing manifolds for each side of capsize\n",
    "    if CapsizeSide == \"positive\": \n",
    "        Xhyperbolic = Xhyperbolicplus\n",
    "        P = Pplus #Eigenbasis matrix\n",
    "        Pinv =  Pplusinv\n",
    "        Xhyperbolic1 = Xhyperbolicplus[:,0]\n",
    "        Xhyperbolic2 = Xhyperbolicplus[:,1]\n",
    "        Xhyperbolic3 = Xhyperbolicplus[:,2]\n",
    "        Xhyperbolic4 = Xhyperbolicplus[:,3]\n",
    "        iota = iotaplus\n",
    "        Diota = Diotaplus\n",
    "    elif CapsizeSide == \"negative\":\n",
    "        Xhyperbolic = Xhyperbolicminus\n",
    "        P = Pminus # Eigenbasis matrix\n",
    "        Pinv =  Pinvminus\n",
    "        Xhyperbolic1 = Xhyperbolicminus[:,0]\n",
    "        Xhyperbolic2 = Xhyperbolicminus[:,1]\n",
    "        Xhyperbolic3 = Xhyperbolicminus[:,2]\n",
    "        Xhyperbolic4 = Xhyperbolicminus[:,3]\n",
    "        iota = iotaminus\n",
    "        Diota = Diotaminus\n",
    "    # We interpolate the hyperbolic trajectories.\n",
    "    interpXhyperbolic1 = scipy.interpolate.UnivariateSpline(thyperbolic,Xhyperbolic1,k=3)\n",
    "    interpXhyperbolic2 = scipy.interpolate.UnivariateSpline(thyperbolic,Xhyperbolic2,k=3)\n",
    "    interpXhyperbolic3 = scipy.interpolate.UnivariateSpline(thyperbolic,Xhyperbolic3,k=3)\n",
    "    interpXhyperbolic4 = scipy.interpolate.UnivariateSpline(thyperbolic,Xhyperbolic4,k=3)\n",
    "    Xhyperbolic = lambda t: array([interpXhyperbolic1(t),interpXhyperbolic2(t),interpXhyperbolic3(t),interpXhyperbolic4(t)]) # We interpolate the hyperbolic trajectory, to get a smooth function\n",
    "    def dividingManifold(y,t):    # The dividing manifold are the points (y,t) with dividingManifold(y,t) = 0.\n",
    "        if np.linalg.norm(Diota(array([0,0,0]),t)) < 10000:\n",
    "            e1 = array([1,0,0])\n",
    "            e2 = array([0,1,0])\n",
    "            e3 = array([0,0,1])\n",
    "            stable = (Diota(array([0,0,0]),t).dot(e3))/np.linalg.norm((Diota(array([0,0,0]),t).dot(e3)))\n",
    "            centre1 = (Diota(array([0,0,0]),t).dot(e1))/np.linalg.norm((Diota(array([0,0,0]),t).dot(e1)))\n",
    "            centre2 = (Diota(array([0,0,0]),t).dot(e2))/np.linalg.norm((Diota(array([0,0,0]),t).dot(e2)))\n",
    "            A = np.vstack((centre1,centre2,stable + P.dot(array([0,0,0,1])))).transpose() # The direction vectors of the dividing manifold at time $t$\n",
    "            DividingPlane = scipy.linalg.orth(A)\n",
    "            u1,u2,u3 = DividingPlane.dot(array([1,0,0])),DividingPlane.dot(array([0,1,0])),DividingPlane.dot(array([0,0,1]))\n",
    "            normal = (stable  - u1.dot(stable)*u1 - u2.dot(stable)*u2 - u3.dot(stable)*u3)/np.linalg.norm(stable  - u1.dot(stable)*u1 - u2.dot(stable)*u2 - u3.dot(stable)*u3) # normal to the hyperplane\n",
    "            d = normal.dot(Xhyperbolic(t))\n",
    "            return normal.dot(y) - d # This is zero when (y,t) lies on the dividing manifold \n",
    "        else:\n",
    "            return nan\n",
    "    return dividingManifold"
   ]
  },
  {
   "cell_type": "markdown",
   "id": "77794ada-4726-4a87-81eb-628cafc3fc60",
   "metadata": {},
   "source": [
    "If a point starts too close to the stable manifold we will be unable to determine which side it lies on with sufficient accuracy. We will require that the distance is at least greater than 0.05, which was a bound determined by numerical experiments."
   ]
  },
  {
   "cell_type": "code",
   "execution_count": 9,
   "id": "4b0cf6ed-ef1e-4b43-a58f-b18025ab7939",
   "metadata": {
    "tags": []
   },
   "outputs": [],
   "source": [
    "def MakefindDistanceSM(CapsizeSide): # makes the funciton to measure distance between a point and stable manifold\n",
    "    if CapsizeSide == \"positive\":\n",
    "        iota = iotaplus\n",
    "        Diota = Diotaplus\n",
    "    elif CapsizeSide == \"negative\":\n",
    "        iota = iotaminus\n",
    "        Diota = iotaminus\n",
    "    def findDistanceSM(y0,t0):\n",
    "        # this computes the distance between y0 and the stable manifold at $t = t_0$.\n",
    "        dist = lambda q : np.linalg.norm(iota(q,t0) - y0)**2 # distance of a point on the SM and y0\n",
    "        Ddist = lambda q: 2*Diota(q,t0).transpose().dot((iota(q,t0) -y0)[0])\n",
    "        q0 = array([0,0,0])\n",
    "        eps = 1e-3\n",
    "        minimise = scipy.optimize.minimize(dist,q0, method='Powell' ) # we minimise the distance function\n",
    "        if minimise.success:\n",
    "            q = minimise.x\n",
    "            d = np.linalg.norm(iota(q,t0) - y0)\n",
    "            return q,d, minimise.success # We output a point of minimal distance, the distance and whether the minimisation process was a success\n",
    "        else:\n",
    "            q = minimise.x\n",
    "            if dist(q) < eps:\n",
    "                d = dist(q)\n",
    "                return q,d**0.5, True\n",
    "            else:\n",
    "                print(\"Error for y0 = \" + str(y0) + \": \" + minimise.message)\n",
    "            return q0,-1,False\n",
    "    return findDistanceSM"
   ]
  },
  {
   "cell_type": "markdown",
   "id": "1e1783d6-ddc3-4130-b2cc-505e5bbb68ab",
   "metadata": {},
   "source": [
    "The functions used to determine whether a point is a \"capsize\" point, that is does it lie in the region that will pass thtough the dividing manifold and into the unsafe region. We do this by expressing the stable manifold as a graph of a function $v_y(x,y,v_x)$. To do this we sample a number of points on the stable manifold at $t=t_0$ and use RBF interpolation to obtain the function $v_y$. We then check, given a point $y_0$ whether it lies above or below this graph."
   ]
  },
  {
   "cell_type": "code",
   "execution_count": 10,
   "id": "ec6908ba-83ff-4dae-a047-8d2d31e15589",
   "metadata": {
    "tags": []
   },
   "outputs": [],
   "source": [
    "from scipy.interpolate import RBFInterpolator\n",
    "q1Splus = np.linspace(-Rplus+0.1,Rplus-0.2,25)\n",
    "q2Splus =np.linspace(-Rplus+0.1,Rplus-0.2,25)\n",
    "q3Splus =np.linspace(-Rplus+0.1,Rplus-0.2,25)\n",
    "t0 = thyperbolic[t0index]\n",
    "#t = thyperbolic[t0indices[0]:t0indices[-1]+1]\n",
    "#tindices = np.arange(t0indices[0],t0indices[-1],2)\n",
    "xplus = np.zeros((len(q1Splus),len(q2Splus),len(q3Splus)))\n",
    "yplus = np.zeros((len(q1Splus),len(q2Splus),len(q3Splus)))\n",
    "vxplus = np.zeros((len(q1Splus),len(q2Splus),len(q3Splus)))\n",
    "vyplus = np.zeros((len(q1Splus),len(q2Splus),len(q3Splus)))\n",
    "startPoints = True\n",
    "for l in range(0, len(q1Splus)):\n",
    "    for j in range(0,len(q2Splus)):\n",
    "        for m in range(0,len(q3Splus)):\n",
    "            xplus[l,j,m] = xSMplus(array([q1Splus[l],q2Splus[j],q3Splus[m]]),t0 )    # store values of the stable manifold at t = t0\n",
    "            yplus[l,j,m] = ySMplus(array([q1Splus[l],q2Splus[j],q3Splus[m]]),t0)  \n",
    "            vxplus[l,j,m] = vxSMplus(array([q1Splus[l],q2Splus[j],q3Splus[m]]),t0)\n",
    "            vyplus[l,j,m] = vySMplus(array([q1Splus[l],q2Splus[j],q3Splus[m]]),t0)\n",
    "            if startPoints:\n",
    "                pointsplus = array( [xplus[l,j,m],yplus[l,j,m],vxplus[l,j,m]]) #store x,y,vx values\n",
    "                vyvalsplus =array([vyplus[l,j,m ]]) # store vy values\n",
    "                startPoints = False\n",
    "            else:\n",
    "                pointsplus = np.vstack((pointsplus,array([xplus[l,j,m],yplus[l,j,m],vxplus[l,j,m]])))  #store x,y,vx values\n",
    "                vyvalsplus = np.hstack((vyvalsplus,array([vyplus[l,j,m ]])))  # store vy values\n",
    "vyvalsgraphplus = RBFInterpolator(pointsplus,vyvalsplus)                      # stores stable manifold as a graph     \n",
    "\n",
    "q1Sminus = np.linspace(-Rminus+0.1,Rminus-0.2,25)\n",
    "q2Sminus =np.linspace(-Rminus+0.1,Rminus-0.2,25)\n",
    "q3Sminus =np.linspace(-Rminus+0.1,Rminus-0.2,25)\n",
    "t0 = thyperbolic[t0index]\n",
    "#t = thyperbolic[t0indices[0]:t0indices[-1]+1]\n",
    "#tindices = np.arange(t0indices[0],t0indices[-1],2)\n",
    "xminus = np.zeros((len(q1Sminus),len(q2Sminus),len(q3Sminus)))\n",
    "yminus = np.zeros((len(q1Sminus),len(q2Sminus),len(q3Sminus)))\n",
    "vxminus = np.zeros((len(q1Sminus),len(q2Sminus),len(q3Sminus)))\n",
    "vyminus = np.zeros((len(q1Sminus),len(q2Sminus),len(q3Sminus)))\n",
    "startPoints = True\n",
    "for l in range(0, len(q1Sminus)):\n",
    "    for j in range(0,len(q2Sminus)):\n",
    "        for m in range(0,len(q3Sminus)):\n",
    "            xminus[l,j,m] = xSMminus(array([q1Sminus[l],q2Sminus[j],q3Sminus[m]]),t0 )    # store values of the stable manifold at t = t0\n",
    "            yminus[l,j,m] = ySMminus(array([q1Sminus[l],q2Sminus[j],q3Sminus[m]]),t0)  \n",
    "            vxminus[l,j,m] = vxSMminus(array([q1Sminus[l],q2Sminus[j],q3Sminus[m]]),t0)\n",
    "            vyminus[l,j,m] = vySMminus(array([q1Sminus[l],q2Sminus[j],q3Sminus[m]]),t0)\n",
    "            if startPoints:\n",
    "                pointsminus = array( [xminus[l,j,m],yminus[l,j,m],vxminus[l,j,m]]) #store x,y,vx values\n",
    "                vyvalsminus =array([vyminus[l,j,m ]])  # store vy values\n",
    "                startPoints = False\n",
    "            else:\n",
    "                pointsminus = np.vstack((pointsminus,array([xminus[l,j,m],yminus[l,j,m],vxminus[l,j,m]])))  #store x,y,vx values\n",
    "                vyvalsminus = np.hstack((vyvalsminus,array([vyminus[l,j,m ]])))  # store vy values\n",
    "vyvalsgraphminus = RBFInterpolator(pointsminus,vyvalsminus)             # stores stable manifold as a graph              \n",
    "\n",
    "def isCapsizepoint(y0,t0,findDistanceSM,dividingManifold,CapsizeSide,capsizeregion): # function to determine if a point is a capsize point or not\n",
    "    if CapsizeSide == 'positive': # allocates side to check\n",
    "        vyvalsgraph = vyvalsgraphplus \n",
    "    if CapsizeSide == 'negative':\n",
    "        vyvalsgraph = vyvalsgraphminus\n",
    "    SMintersection = findDistanceSM(y0,t0) # check intial distance\n",
    "    distSM   = SMintersection[1]\n",
    "    notTooCloseToSM = (distSM > 0.05) # check to make sure it is significantly far away from stable manifold\n",
    "    point = y0[0:3] # the x,y,vx values\n",
    "    if CapsizeSide == 'positive':\n",
    "        if y0[3] < vyvalsgraph(array([point])): # checking the side of stable manifold\n",
    "            return False,notTooCloseToSM\n",
    "        else:\n",
    "            return True, notTooCloseToSM\n",
    "    elif CapsizeSide == 'negative':\n",
    "        if y0[3] > vyvalsgraph(array([point])): # checking the side of stable manifold\n",
    "            return False,notTooCloseToSM\n",
    "        else:\n",
    "            return True, notTooCloseToSM"
   ]
  },
  {
   "cell_type": "markdown",
   "id": "277278af-b919-454b-8ba5-790573c6e76d",
   "metadata": {},
   "source": [
    "Here we use our function to determine the time to capsize, 0 meaning that it has already capsized."
   ]
  },
  {
   "cell_type": "code",
   "execution_count": 11,
   "id": "5a91841a-4873-4192-af85-7b185a4b836f",
   "metadata": {
    "tags": []
   },
   "outputs": [],
   "source": [
    "#This will depend on the initial time, to be set later\n",
    "# \n",
    "from numpy import nan\n",
    "def TimetoCapsize(y0,dividingManifold,CapsizeSide,capsizeregion):\n",
    "    if abs( np.sign(dividingManifold(y0,t0))- capsizeregion) >1:\n",
    "        iscapsize, notTooCloseToSM =  isCapsizepoint(y0,t0,findDistanceSM,dividingManifold,CapsizeSide,capsizeregion)\n",
    "        if iscapsize:\n",
    "            return 0\n",
    "        else:\n",
    "            return nan\n",
    "    else:\n",
    "        def event(t,y):\n",
    "            return dividingManifold(y,t)\n",
    "        event.terminal = True\n",
    "        res = solve_ivp (f, [t0,100+t0], y0 , method = \"RK45\" , events=[event],  max_step =0.05 , rtol = 1e-12 )\n",
    "        y = res .y. transpose()\n",
    "        T =res.t.transpose()\n",
    "        if CapsizeSide == 'positive':\n",
    "            if T[-1]<40 and y[-1,1] > 0:  # test for positive roll angle only\n",
    "                return T[-1] # -t0\n",
    "            else:\n",
    "                return nan\n",
    "        elif CapsizeSide == 'negative':\n",
    "            if y[-1,1] < 0:\n",
    "                return T[-1] # -t0\n",
    "            else:\n",
    "                return nan"
   ]
  },
  {
   "cell_type": "markdown",
   "id": "e9625fd0-1901-4f2e-9d74-2c37a369f650",
   "metadata": {},
   "source": [
    "## Estimating integrity Basin\n",
    "-----\n",
    "We will sample our points in the domain of $U = \\{H < 0.25\\}$ at $t= t_0$. This set is within the basin of attraction for the stable equilibrium for the undamped system, and so will provide a good measure for the loss of stability"
   ]
  },
  {
   "cell_type": "code",
   "execution_count": 12,
   "id": "12575ab9-4565-4a08-ab33-45dd85e53498",
   "metadata": {
    "tags": []
   },
   "outputs": [],
   "source": [
    "findDistanceSMminus = MakefindDistanceSM('negative')\n",
    "dividingManifoldminus = MakeDividingManifold('negative')\n",
    "strongstablepointminus =  Xhyperbolicminus[t0index] -0.1*Pminus.dot(array([0,0,1,0]))\n",
    "capsizeregionminus  = dividingManifoldminus(strongstablepointminus,t0)\n",
    "findDistanceSMplus = MakefindDistanceSM('positive')\n",
    "dividingManifoldplus = MakeDividingManifold('positive')\n",
    "strongstablepointplus =  Xhyperbolicplus[t0index] +0.1*Pplus.dot(array([0,0,1,0]))\n",
    "capsizeregionplus  = np.sign(dividingManifoldplus(strongstablepointplus,t0))"
   ]
  },
  {
   "cell_type": "markdown",
   "id": "40f18ef4-561b-4c89-8da0-8b97b9c373ad",
   "metadata": {},
   "source": [
    "We run this through once for 500 points with the check to confirm the method, then we run it for a larger number of points without the check function."
   ]
  },
  {
   "cell_type": "code",
   "execution_count": 13,
   "id": "9c9b9e9e-c850-4487-8d88-7621dfa7c21d",
   "metadata": {
    "tags": []
   },
   "outputs": [],
   "source": [
    "H = lambda y: (.25*y[2]**2)/h + .5*y[3]**2 + .5*(y[1]**2 +.5*y[0]**2 - y[0]*y[1]**2)\n",
    "def U(y0):\n",
    "    return H(y0) <.25 and abs(y0[1]) <= 1"
   ]
  },
  {
   "cell_type": "code",
   "execution_count": null,
   "id": "9f0af6eb-bcb2-4e9e-8bb3-d5df7dd33795",
   "metadata": {
    "tags": []
   },
   "outputs": [],
   "source": [
    "R  = 1\n",
    "Npoints = 30\n",
    "# need to esti`mate maximum values to find the volume\n",
    "X =  np.random.uniform(-R,R,Npoints)  # choose a bounding rectangle\n",
    "Y = np.random.uniform(-R,R,Npoints)\n",
    "#Y = array([valy0])\n",
    "VX = np.random.uniform(-R,R,Npoints)\n",
    "VY = np.random.uniform(-sqrt(2),sqrt(2),Npoints)\n",
    "totalinU = 0\n",
    "total = 0\n",
    "capsizes = 0\n",
    "tooclose = 0\n",
    "safepoints = 0\n",
    "for i in range(0,len(X)):\n",
    "    for j in range(0,len(Y)):\n",
    "        for l in range(0,len(VX)):\n",
    "            for m in range(0,len(VY)):\n",
    "                y0 = array([X[i],Y[j],VX[l],VY[m]])\n",
    "                total +=1\n",
    "                if total % (Npoints**4//100) ==0:\n",
    "                    print(str(100*total/(len(X)*len(Y)*len(VX)*len(VY))) + \" % completed\")\n",
    "                if U(y0):\n",
    "                    totalinU +=1\n",
    "                    confirmedCapsize = False\n",
    "                    for CapsizeSide in ('positive','negative'):\n",
    "                        if confirmedCapsize == False:\n",
    "                            if CapsizeSide == 'positive':\n",
    "                                findDistanceSM = findDistanceSMplus\n",
    "                                dividingManifold = dividingManifoldplus\n",
    "                                capsizeregion  = capsizeregionplus\n",
    "                            elif CapsizeSide == 'negative':\n",
    "                                findDistanceSM = findDistanceSMminus\n",
    "                                dividingManifold = dividingManifoldminus\n",
    "                                capsizeregion  = capsizeregionminus\n",
    "                            iscapsize,nottoclose = isCapsizepoint(y0,t0,findDistanceSM,dividingManifold,CapsizeSide,capsizeregion)\n",
    "                            if nottoclose:\n",
    "                                if iscapsize == True:\n",
    "                                    capsizes +=1\n",
    "                                    T =TimetoCapsize(y0,dividingManifold,CapsizeSide,capsizeregion)\n",
    "                                    if capsizes == 1:\n",
    "                                        capsizepoints = y0.copy().astype(np.float64)\n",
    "                                        capsizeTimes = array([T])\n",
    "                                    else:\n",
    "                                        capsizepoints = np.vstack((capsizepoints,y0.copy().astype(np.float64)))\n",
    "                                        capsizeTimes = np.vstack((capsizeTimes,array([T])))\n",
    "                                    confirmedCapsize = True\n",
    "                                else:\n",
    "                                    safepoints +=1\n",
    "                                    if safepoints == 1:\n",
    "                                        noncapsizepoints = y0.copy().astype(np.float64)\n",
    "                                    else:\n",
    "                                        noncapsizepoints = np.vstack((noncapsizepoints,y0.copy().astype(np.float64)))\n",
    "                            else:\n",
    "                                tooclose +=1\n",
    "                            "
   ]
  },
  {
   "cell_type": "code",
   "execution_count": null,
   "id": "a2a3b0ba-f6db-4835-95e5-68ec1618cd1e",
   "metadata": {},
   "outputs": [],
   "source": [
    "volU =(2*R)**4 * totalinU/total\n",
    "print(capsizes/totalinU) # probability of capsizing in U\n",
    "print(volU) # total size of U\n",
    "print((2*R)**4 *(totalinU - capsizes)/total) # safe region size"
   ]
  },
  {
   "cell_type": "code",
   "execution_count": null,
   "id": "3238d2a4-6668-45ec-a058-2ce9f0e936e8",
   "metadata": {},
   "outputs": [],
   "source": [
    "VolU = sqrt(2*h)*np.pi*163/210  # volume of the domain\n",
    "VolU*(1- capsizepoints.shape[0]/(noncapsizepoints.shape[0]+ capsizepoints.shape[0] )) # volume of safe points"
   ]
  },
  {
   "cell_type": "markdown",
   "id": "00f389e8-b531-4b42-8d8d-c66b648902dd",
   "metadata": {},
   "source": [
    "## Visualising results\n",
    "----"
   ]
  },
  {
   "cell_type": "markdown",
   "id": "71846974-1d26-438e-9d08-7ab965270314",
   "metadata": {},
   "source": [
    "This plots visually the points in a rectangular region which lead to capsize."
   ]
  },
  {
   "cell_type": "code",
   "execution_count": 14,
   "id": "21c7ab2f-a6db-43dd-a0a7-561ebb63ada0",
   "metadata": {
    "tags": []
   },
   "outputs": [],
   "source": [
    "valy0 = 0"
   ]
  },
  {
   "cell_type": "code",
   "execution_count": 15,
   "id": "d67e26d1-69b7-47ce-bd63-f3b3013ffff5",
   "metadata": {
    "tags": []
   },
   "outputs": [],
   "source": [
    "R  = 3\n",
    "Npointsvisual = 200\n",
    "# need to estimate maximum values to find the volume\n",
    "X =  np.random.uniform(-R,R,Npointsvisual)  # choose a bounding rectangle\n",
    "#Y = np.random.uniform(-R,R,Npoints)\n",
    "Y = array([valy0])\n",
    "VX = np.random.uniform(-R,R,Npointsvisual)\n",
    "VY = np.random.uniform(-R,R,Npointsvisual)\n",
    "totalinU = 0\n",
    "total = 0\n",
    "capsizes = 0\n",
    "tooclose = 0\n",
    "safepoints = 0\n",
    "for i in range(0,Npointsvisual):\n",
    "    y0 = array([X[i],valy0,VX[i],VY[i]])\n",
    "    total +=1\n",
    "    if total % (Npointsvisual**4 //20) ==0:\n",
    "        print(str(100*total/(len(X)*len(Y)*len(VX)*len(VY))) + \" % completed\")\n",
    "    if True:\n",
    "        totalinU +=1\n",
    "        confirmedCapsize = False\n",
    "        for CapsizeSide in ('positive','negative'):\n",
    "            if confirmedCapsize == False:\n",
    "                if CapsizeSide == 'positive':\n",
    "                    findDistanceSM = findDistanceSMplus\n",
    "                    dividingManifold = dividingManifoldplus\n",
    "                    capsizeregion  = capsizeregionplus\n",
    "                elif CapsizeSide == 'negative':\n",
    "                    findDistanceSM = findDistanceSMminus\n",
    "                    dividingManifold = dividingManifoldminus\n",
    "                    capsizeregion  = capsizeregionminus\n",
    "                iscapsize,nottoclose = isCapsizepoint(y0,t0,findDistanceSM,dividingManifold,CapsizeSide,capsizeregion)\n",
    "                if nottoclose:\n",
    "                    if iscapsize == True:\n",
    "                        capsizes +=1\n",
    "                        T =TimetoCapsize(y0,dividingManifold,CapsizeSide,capsizeregion)\n",
    "                        if capsizes == 1:\n",
    "                            capsizepoints = y0.copy().astype(np.float64)\n",
    "                            capsizeTimes = array([T])\n",
    "                        else:\n",
    "                            capsizepoints = np.vstack((capsizepoints,y0.copy().astype(np.float64)))\n",
    "                            capsizeTimes = np.vstack((capsizeTimes,array([T])))\n",
    "                        confirmedCapsize = True\n",
    "                    else:\n",
    "                        safepoints +=1\n",
    "                        if safepoints == 1:\n",
    "                            noncapsizepoints = y0.copy().astype(np.float64)\n",
    "                        else:\n",
    "                            noncapsizepoints = np.vstack((noncapsizepoints,y0.copy().astype(np.float64)))\n",
    "                else:\n",
    "                    tooclose +=1\n"
   ]
  },
  {
   "cell_type": "code",
   "execution_count": 17,
   "id": "73d8af70-5047-4ccf-99ef-20b98f5d4c77",
   "metadata": {
    "tags": []
   },
   "outputs": [
    {
     "data": {
      "text/plain": [
       "13"
      ]
     },
     "execution_count": 17,
     "metadata": {},
     "output_type": "execute_result"
    }
   ],
   "source": [
    "tooclose"
   ]
  },
  {
   "cell_type": "code",
   "execution_count": 22,
   "id": "36a16168-33d0-4e90-941b-6c235c8ceb2d",
   "metadata": {},
   "outputs": [],
   "source": [
    "np.save(SaveFile + 'capsizepoints.npy',capsizepoints)\n",
    "np.save(SaveFile + 'noncapsizepoints.npy',noncapsizepoints)\n",
    "np.save(SaveFile + 'R.npy',R)"
   ]
  },
  {
   "cell_type": "code",
   "execution_count": 18,
   "id": "311b4061-fba6-48d7-b4fe-4618a5506e52",
   "metadata": {
    "tags": []
   },
   "outputs": [],
   "source": [
    "Xmanifolds = np.linspace(-R,R,20)\n",
    "VXmanifolds = np.linspace(-R,R,20)\n",
    "VYplus = np.zeros((20,20))\n",
    "VYminus = np.zeros((20,20))\n",
    "for i in range(0,len(Xmanifolds)):\n",
    "    for j in range(0,len(VXmanifolds)):\n",
    "        VYplus[j,i] = vyvalsgraphplus([np.array([Xmanifolds[i],valy0,VXmanifolds[j]])])[0]\n",
    "        VYminus[j,i] = vyvalsgraphminus([np.array([Xmanifolds[i],valy0,VXmanifolds[j]])])[0]\n",
    "        \n",
    "Xmanifolds,VXmanifolds = np.meshgrid(Xmanifolds,VXmanifolds)\n",
    " "
   ]
  },
  {
   "cell_type": "code",
   "execution_count": 19,
   "id": "a58ced34-8fbf-45f5-8666-f86f3052f3b4",
   "metadata": {
    "tags": []
   },
   "outputs": [],
   "source": [
    "%matplotlib qt\n",
    "\n",
    "fig = plt.figure(figsize=(7,9))\n",
    "ax = plt.subplot(projection='3d')\n",
    "ax.plot_surface(Xmanifolds,VXmanifolds,VYplus,label = 'Stable manifold for positive side at $t = $' + str(round(t0,2)),color = 'g' ,alpha = 0.3)\n",
    "ax.plot_surface(Xmanifolds,VXmanifolds,VYminus,label = 'Stable manifold for negative side at $t = $' + str(round(t0,2)),color = 'g',alpha = 0.3)\n",
    "\n",
    "ax.set_xlabel(\"$x$\", fontsize=14)\n",
    "ax.set_ylabel(\"$v_x$\", fontsize=14)\n",
    "ax.set_zlabel(\"$v_y$\", fontsize=14)\n",
    "xs = capsizepoints[:,0]\n",
    "vxs = capsizepoints[:,2]\n",
    "vys = capsizepoints[:,3]\n",
    "p=ax.scatter(xs,vxs,vys, c=capsizeTimes, cmap=plt.cm.copper, label = \"Capsize points\")\n",
    "#ax.scatter(xs,vxs,vys, c='r', label = \"Capsize points\")\n",
    "ax.set_xlabel(\"$x$\", fontsize=14)\n",
    "ax.set_ylabel(\"$v_x$\", fontsize=14)\n",
    "ax.set_zlabel(\"$v_y$\", fontsize=14)\n",
    "#plt.title(\"Distribution of points leading to capsize over stable manifold for $y = 0$\")\n",
    "fig.colorbar(p, ax=ax, shrink = 0.25)\n",
    "xs = noncapsizepoints[:,0]\n",
    "vxs = noncapsizepoints[:,2]\n",
    "vys = noncapsizepoints[:,3]\n",
    "ax.scatter(xs,vxs,vys, c = 'b', label = \"Non-Capsize points\")\n",
    "#plt.legend()\n",
    "plt.show()"
   ]
  },
  {
   "cell_type": "markdown",
   "id": "0f8e9732-4bc4-4b6d-9aab-680ffe45a531",
   "metadata": {
    "tags": []
   },
   "source": [
    "## Testing our method against direct integration of the governing equations\n",
    "----\n",
    "This tests how our dividing manifold performs by checking it against direct integration of the ODES.\n",
    "First, we establish a check function, to check if a point is indeed a capsize point."
   ]
  },
  {
   "cell_type": "code",
   "execution_count": null,
   "id": "8b0b3cd7-35cc-4786-ace7-bec0f997d839",
   "metadata": {},
   "outputs": [],
   "source": [
    "def checkCapsize(y0,CapsizeSide):\n",
    "    if CapsizeSide =='positive':\n",
    "        def event(t,y):\n",
    "            return y[1] - 30\n",
    "    elif CapsizeSide == 'negative':\n",
    "        def event(t,y):\n",
    "            return y[1] + 30\n",
    "    event.terminal = True\n",
    "    res = solve_ivp (f, [t0,100+t0], y0 , method = \"Radau\" , events=[event],  max_step =0.05 , rtol = 1e-12 )\n",
    "    y = res .y. transpose()\n",
    "    T =res.t.transpose()\n",
    "#    fig = plt.figure(figsize=(6,6))\n",
    " #   plt.plot(T,y)\n",
    "  #  print(y[-1])\n",
    "    if CapsizeSide =='positive':\n",
    "        if y[-1,1] > 29:\n",
    "            return True\n",
    "        else:\n",
    "            return False\n",
    "    elif CapsizeSide == 'negative':\n",
    "        if y[-1,1] <- 29:\n",
    "            return True\n",
    "        else:\n",
    "            return False"
   ]
  },
  {
   "cell_type": "markdown",
   "id": "c0e37642-bbf0-4ee7-84d9-d0d3f2f75957",
   "metadata": {},
   "source": [
    "We sample many points in an initial grid, larger than the region used to test the integrity measure"
   ]
  },
  {
   "cell_type": "code",
   "execution_count": null,
   "id": "409b4969-6713-4bd8-bfd2-7b0fa67333a0",
   "metadata": {
    "tags": []
   },
   "outputs": [],
   "source": [
    "Npointstest = 10\n",
    "R = 2\n",
    "X =  np.random.uniform(-R,R,Npointstest)  # choose a bounding rectangle\n",
    "Y = np.random.uniform(-R,R,Npointstest)\n",
    "#Y = array([0])\n",
    "VX = np.random.uniform(-R,R,Npointstest)\n",
    "VY = np.random.uniform(-R,R,Npointstest)"
   ]
  },
  {
   "cell_type": "markdown",
   "id": "3e64cad7-593b-45b6-ace7-23e5ba55d8e1",
   "metadata": {},
   "source": [
    "We decide a specific capsize side to check."
   ]
  },
  {
   "cell_type": "code",
   "execution_count": null,
   "id": "3612819d-a961-4df2-9a36-6772d880dc54",
   "metadata": {},
   "outputs": [],
   "source": [
    "CapsizeSide = 'positive'\n",
    "findDistanceSM = MakefindDistanceSM(CapsizeSide)\n",
    "dividingManifold = MakeDividingManifold(CapsizeSide)\n",
    "strongstablepoint = Xhyperbolicminus[t0index] +Pminus.dot(array([0,0,1,0])) # This is a point that should be on the \"capsize side\" of the dividing manifold \n",
    "unstablepoint = Xhyperbolicminus[t0index] + array([0,-10,0,0]) # could perhaps improve this\n",
    "dividingManifold = MakeDividingManifold(CapsizeSide)\n",
    "capsizeregion  = np.sign(dividingManifold(strongstablepoint,t0))"
   ]
  },
  {
   "cell_type": "code",
   "execution_count": null,
   "id": "ce96049b-fdd9-4792-8169-b1ae9f5d8e68",
   "metadata": {
    "tags": []
   },
   "outputs": [],
   "source": [
    "capsizes =0\n",
    "safepoints =0\n",
    "total = 0\n",
    "tooclose = 0\n",
    "errorsSMside = 0\n",
    "for i in range(0,len(X)):\n",
    "    for j in range(0,len(Y)):\n",
    "        for l in range(0,len(VX)):\n",
    "            for m in range(0,len(VY)):\n",
    "                y0 = array([X[i],Y[j],VX[l],VY[m]])\n",
    "                total +=1\n",
    "                if total % (Npointstest**4 //20) ==0:\n",
    "                    print(str(100*total/(len(X)*len(Y)*len(VX)*len(VY))) + \" % completed\")\n",
    "             #   check = checkCapsize(y0,CapsizeSide)\n",
    "                iscapsize,nottoclose = isCapsizepoint(y0,t0,findDistanceSM,dividingManifold,CapsizeSide,capsizeregion)\n",
    "                check = iscapsize\n",
    "                if nottoclose:\n",
    "                    if check != iscapsize:\n",
    "                        errorsSMside +=1\n",
    "                        print(\"Error: \" + str(y0))\n",
    "                    else:\n",
    "                        if check == True:\n",
    "                            #times , crossing = CrossingDivM(y0,dividingManifold,CapsizeSide,capsizeregion)\n",
    "                            capsizes +=1\n",
    "                            T =TimetoCapsize(y0,dividingManifold,CapsizeSide,capsizeregion)\n",
    "                            if capsizes == 1:\n",
    "                                capsizepoints = y0.copy().astype(np.float64)\n",
    "                                capsizeTimes = array([T])\n",
    "                            else:\n",
    "                                capsizepoints = np.vstack((capsizepoints,y0.copy().astype(np.float64)))\n",
    "                                capsizeTimes = np.vstack((capsizeTimes,array([T])))\n",
    "                        else:\n",
    "                            safepoints +=1\n",
    "                            if safepoints == 1:\n",
    "                                noncapsizepoints = y0.copy().astype(np.float64)\n",
    "                            else:\n",
    "                                noncapsizepoints = np.vstack((noncapsizepoints,y0.copy().astype(np.float64)))\n",
    "                else:\n",
    "                    tooclose +=1\n",
    "                "
   ]
  },
  {
   "cell_type": "markdown",
   "id": "eef88cb3-de9a-440b-9024-9c70903aa0bf",
   "metadata": {},
   "source": [
    "Here we present the numerical results. We desire the errors to be zero"
   ]
  },
  {
   "cell_type": "code",
   "execution_count": null,
   "id": "38142c69-c6ed-4903-9925-d3e95f49f079",
   "metadata": {},
   "outputs": [],
   "source": [
    "print(errorsSMside)\n",
    "print(capsizes/total)\n",
    "print(tooclose/total)"
   ]
  }
 ],
 "metadata": {
  "kernelspec": {
   "display_name": "Python 3 (ipykernel)",
   "language": "python",
   "name": "python3"
  },
  "language_info": {
   "codemirror_mode": {
    "name": "ipython",
    "version": 3
   },
   "file_extension": ".py",
   "mimetype": "text/x-python",
   "name": "python",
   "nbconvert_exporter": "python",
   "pygments_lexer": "ipython3",
   "version": "3.11.4"
  }
 },
 "nbformat": 4,
 "nbformat_minor": 5
}
