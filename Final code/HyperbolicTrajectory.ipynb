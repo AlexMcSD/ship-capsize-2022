{
 "cells": [
  {
   "cell_type": "markdown",
   "id": "034cd95d-40eb-43ba-9bad-88ba53dc4c1f",
   "metadata": {},
   "source": [
    "# Finding hyperbolic Trajectory\n",
    "----\n",
    "We take as input the model paramters, forcing type and parameters, time interval and number of points along the time interval we would like to evaluate the hyperbolic trajectories at."
   ]
  },
  {
   "cell_type": "code",
   "execution_count": 5,
   "id": "a3de06db-8fdd-4ea8-8361-3003af6185df",
   "metadata": {
    "tags": []
   },
   "outputs": [],
   "source": [
    "\n",
    "import numpy as np\n",
    "from numpy import cos, sin, cosh, sinh, tanh, array,pi, exp,array,sqrt\n",
    "from numpy.linalg import norm,solve\n",
    "import matplotlib.pyplot as plt\n",
    "from scipy.integrate import solve_ivp\n",
    "import scipy.linalg\n",
    "import scipy.io\n",
    "from model import linearisedSystem,model,eigen,Usolve,Lsolve"
   ]
  },
  {
   "cell_type": "markdown",
   "id": "30aff196-502e-46a7-8216-73f2e5c08b1f",
   "metadata": {},
   "source": [
    "We find the hyperbolic trajectories by solving a BVP. The initial guess chosen depends upon the type of forcing applied by solving the linearised system"
   ]
  },
  {
   "cell_type": "code",
   "execution_count": 6,
   "id": "c88babb3-3fb8-4e7d-9a70-51df2e6c053e",
   "metadata": {
    "tags": []
   },
   "outputs": [],
   "source": [
    "def linearHyperbolicCosine(Amp,w,Pplus,Pminus,Pplusinv,Pinvminus,lambda2, omega, lambda3, lambda4):   # Finds the analytical solution for the displacement of the hyperbolic trajectory from the saddle point\n",
    "    # for the linearised system. Will be used as the intial guess.\n",
    "    # This function provides this in the case G(t) = Amp*cos(w*t)\n",
    "    #Pplus,Pminus is the change of basis matrix from the eigenbasis to the standard coordinates.\n",
    "    A1plus = Amp*Pplusinv.dot(array([0,0,0,1]))[0]\n",
    "    A2plus = Amp*Pplusinv.dot(array([0,0,0,1]))[1]\n",
    "    A3plus = Amp*Pplusinv.dot(array([0,0,0,1]))[2]\n",
    "    A4plus = Amp*Pplusinv.dot(array([0,0,0,1]))[3]\n",
    "    #need to replace k here with a lambda2\n",
    "    psi1 = lambda t: .25*((-2*lambda2)*cos((w+omega)*t)+2*(w+omega)*sin((w+omega)*t)  )/(lambda2**2 + (omega + w)**2)  +         .25*( -2*lambda2*cos((omega-w)*t) + 2*(omega-w)*sin((omega-w)*t)  )/(lambda2**2 +(omega-w)**2)\n",
    "    psi2 = lambda t: .25*((-2*lambda2)*sin((w+omega)*t) - 2*(w+omega)*cos((w+omega)*t)  )/(lambda2**2 + (omega + w)**2)    +         .25*(-2*lambda2*sin((omega-w)*t) - 2*(omega-w)*cos((omega-w)*t)  )/(lambda2**2 + (omega - w)**2) \n",
    "    XQplus = lambda t : Pplus.dot(array([A1plus*cos(omega*t)*psi1(t) + A2plus*cos(omega*t)*psi2(t) + A1plus*sin(omega*t)*psi2(t) - A2plus*sin(omega*t)*psi1(t),\n",
    "                                A1plus*sin(omega*t)*psi1(t) + A2plus*sin(omega*t)*psi2(t) - A1plus*cos(omega*t)*psi2(t) + A2plus*cos(omega*t)*psi1(t),\n",
    "                                A3plus*(sin(w*t)/w - lambda3 *cos(w*t)/w**2)/(1+(lambda3/w)**2),\n",
    "                                A4plus*(sin(w*t)/w - lambda4 *cos(w*t)/w**2)/(1+(lambda4/w)**2)]))\n",
    "    \n",
    "    A1minus = Amp*Pinvminus.dot(array([0,0,0,1]))[0]\n",
    "    A2minus = Amp*Pinvminus.dot(array([0,0,0,1]))[1]\n",
    "    A3minus = Amp*Pinvminus.dot(array([0,0,0,1]))[2]\n",
    "    A4minus = Amp*Pinvminus.dot(array([0,0,0,1]))[3]\n",
    "    XQminus = lambda t : Pminus.dot(array([A1minus*cos(omega*t)*psi1(t) + A2minus*cos(omega*t)*psi2(t) + A1minus*sin(omega*t)*psi2(t) - A2minus*sin(omega*t)*psi1(t),\n",
    "                                A1minus*sin(omega*t)*psi1(t) + A2minus*sin(omega*t)*psi2(t) - A1minus*cos(omega*t)*psi2(t) + A2minus*cos(omega*t)*psi1(t),\n",
    "                                A3minus*(sin(w*t)/w - lambda3 *cos(w*t)/w**2)/(1+(lambda3/w)**2),\n",
    "                                A4minus*(sin(w*t)/w - lambda4 *cos(w*t)/w**2)/(1+(lambda4/w)**2)]))\n",
    "    return XQplus,XQminus\n",
    "\n",
    "def makeBVP(x0,f,A,Pinv,N,tmin,tmax):\n",
    "    # this returns the BVP to be solved, F(X0) = 0, along with DF^(-1)\n",
    "    # x0,A,Pinv all depend only on the hyprebolic trajectory being considered, i.e. either the left or right side.\n",
    "    t = np.linspace(tmin,tmax,N)\n",
    "    dt = (tmax-tmin)/N\n",
    "    def phi(y0,t0): # evolves forward by dt\n",
    "        res = solve_ivp (f, [t0,dt+t0], y0 , method = \"RK45\" , max_step =dt/2 , rtol = 1e-12 )\n",
    "        y = res .y. transpose()\n",
    "        return  y[-1]    \n",
    "# fixed point function\n",
    "    def F(X,N):\n",
    "        # N number of points taken, X is diplacement from x0\n",
    "        Y = np.zeros((N,4))\n",
    "        X = X.reshape((N,4))\n",
    "        for i in range(0, N-1):\n",
    "            Y[i] = phi(X[i] + x0,t[i]) - X[i+1] - x0   # ensures this is a trajectory.\n",
    "        # Boundary conditions (stable/unstable coordinates are zero to keep bounded ( need displacement from equilibrium)\n",
    "        Y[-1][1] = Pinv.dot(X[0])[0]\n",
    "        Y[-1][1] = Pinv.dot(X[0])[1]\n",
    "        Y[-1][2] = Pinv.dot(X[0])[2]\n",
    "        Y[-1][3] = Pinv.dot(X[-1])[3] # unstable\n",
    "        return Y.reshape(4*N)\n",
    "    Dphi = scipy.linalg.expm(dt*A) # matrix exponential for linear flow displacement from x0\n",
    "    # Derivative for linear system\n",
    "    # Amend\n",
    "    DF0 = np.zeros((4*N,4*N))\n",
    "    for i in range(0,N-1):\n",
    "        # find linear derivative\n",
    "        DF0[4*i:4*i + 4, 4*i:4*i + 4] = Dphi\n",
    "        DF0[4*i:4*i +4,4*i+4:4*i+8] = -np.eye(4)\n",
    "    DF0[4*N-4,0:4] = np.dot(Pinv.transpose(),array([1,0,0,0]))\n",
    "    DF0[4*N-3,0:4] = np.dot(Pinv.transpose(),array([0,1,0,0]))\n",
    "    DF0[4*N-2,0:4] = np.dot(Pinv.transpose(),array([0,0,1,0]))\n",
    "    DF0[4*N-1,4*N-4:] = np.dot(Pinv.transpose(),array([0,0,0,1]))\n",
    "    Permute, L, U = scipy.linalg.lu(DF0) # numerical LU decomposition. This is computed once to maximise efficiency\n",
    "    def DF0solve(y0):   # we only store the solution function to DF*h = y.\n",
    "        x0 = np.transpose(Permute).dot(y0)\n",
    "        return Usolve(Lsolve(x0,L),U)\n",
    "    return phi,F,DF0,DF0solve\n",
    "def findTrajectory(X0,epsF,epsC,K,F,DF0,DF0solve):  # This finds X which satisfies:\n",
    "    # norm(F(X)) < epsF, by a Newton method with convervence criteria from epsC.\n",
    "    # X0 is the intial guess.\n",
    "    i = 0\n",
    "    Fx = F(X0,N)\n",
    "    X = X0.reshape(4*N)\n",
    "    normFx = np.linalg.norm(Fx)\n",
    "    delta = DF0solve(Fx)\n",
    "    foundTrajectory = False\n",
    "    while  (normFx > epsF or np.linalg.norm(delta) > epsC) and i < K:\n",
    " #       print(normFx)\n",
    "        delta = DF0solve(Fx)\n",
    "        X = X-delta # update sequence\n",
    "        i += 1 # add counter\n",
    "        Fx = F(X,N) # Evaluate at new poin#t\n",
    "        normFx = np.linalg.norm(Fx) # compute norm to check the estimate\n",
    "        if normFx > 100:\n",
    "            break\n",
    "    if (normFx < epsF and np.linalg.norm(delta) < epsC):\n",
    "        foundTrajectory = True\n",
    "    X = X.reshape((N,4))\n",
    "    X0 = X0.reshape((N,4))\n",
    "    print(\" after \" + str(i) + \" iterations an estimate with error of F =\" + str(normFx) + \" and delta = \"+ str(np.linalg.norm(delta))+ \"was produced\")\n",
    "    return X,foundTrajectory\n"
   ]
  },
  {
   "cell_type": "markdown",
   "id": "59f909c9-c827-4578-ad80-b653a6c2885e",
   "metadata": {},
   "source": [
    "The only difference between the method used to solve the BVP in the case of periodic vs quasi-periodic forcing is $f$ and the initial guess, which is determined by the analytical solution to the linearised system. As the linearised solution for the quasi-periodic case is simply a linear combination of the periodic linearised solution. Therefore, we split into two cases periodic and quasi-periodic, and then compute the intial guess, define the correct BVP to solve, and call the findTrajectory function to solve it. We then output the solution to the BVP X added to the corresponding saddle point, as the BVP is defined in terms of displacement from the saddle point.  "
   ]
  },
  {
   "cell_type": "code",
   "execution_count": 7,
   "id": "53cd8ade-8769-4048-bc3a-dee5fd29ad8a",
   "metadata": {
    "tags": []
   },
   "outputs": [],
   "source": [
    "def ForcingType(ForcingParameters,forcingtype):    \n",
    "    #forcingtype = 'periodic','quasi-periodic' supported where they are linear combinations of cosine waves.\n",
    "    # ForcingParameters = (Amplitude,frequency) or (Amplitude1,frequency1,Amplitude2,frequency2 )\n",
    "    if forcingtype == 'periodic':\n",
    "        Amp,w= ForcingParameters\n",
    "        def findHyperbolicTrajectory(N,T):\n",
    "            tmin, tmax = -T, T\n",
    "            t = np.linspace(tmin,tmax,N)\n",
    "            dt = (tmax-tmin)/N\n",
    "            XQ1plus,XQ1minus =  linearHyperbolicCosine(Amp,w,Pplus,Pminus,Pplusinv,Pinvminus,lambda2, omega, lambda3, lambda4)\n",
    "            X0plus = XQ1plus(t).transpose() #  len(t) by 4 array\n",
    "            X0minus =  XQ1minus(t).transpose()\n",
    "            phi,Fplus,DF0plus,DF0plussolve = makeBVP(xplus,f,Aplus,Pplusinv,N,tmin,tmax)\n",
    "            phi,Fminus,DF0minus,DF0minussolve = makeBVP(xminus,f,Aminus,Pinvminus,N,tmin,tmax)\n",
    "            epsF = 1e-7\n",
    "            epsC = 1e-8\n",
    "            K = 200\n",
    "            Xhyperbolicplus,foundTrajectoryPlus = findTrajectory(X0plus,epsF,epsC,K,Fplus,DF0plus,DF0plussolve)\n",
    "            Xhyperbolicminus,foundTrajectoryMinus = findTrajectory(X0minus,epsF,epsC,K,Fminus,DF0minus,DF0minussolve)\n",
    "            return Xhyperbolicplus+xplus ,Xhyperbolicminus +xminus, t, X0plus,X0minus,foundTrajectoryPlus,foundTrajectoryMinus\n",
    "    elif forcingtype == 'quasi-periodic':\n",
    "        if len(ForcingParameters) % 3 != 0:\n",
    "            print(\"Define forcing properly\")\n",
    "        n = len(ForcingParameters)//3\n",
    "        Amp = np.zeros(n)\n",
    "        w = np.zeros(n)\n",
    "        eps = np.zeros(n)\n",
    "        for i in range(0,n):\n",
    "            Amp[i] = ForcingParameters[3*i]\n",
    "            w[i] = ForcingParameters[3*i+1]\n",
    "            eps[i] = ForcingParameters[3*i+2]\n",
    "\n",
    "        def findHyperbolicTrajectory(N,T):\n",
    "            tmin, tmax = -T, T\n",
    "            t = np.linspace(tmin,tmax,N)\n",
    "            dt = (tmax-tmin)/N\n",
    "            X0plus = np.zeros((N,4))\n",
    "            X0minus = np.zeros((N,4))\n",
    "            for i in range(0,n):\n",
    "                XQ1plus,XQ1minus =  linearHyperbolicCosine(Amp[i],w[i],Pplus,Pminus,Pplusinv,Pinvminus,lambda2, omega, lambda3, lambda4)\n",
    "                X0plus += XQ1plus(t + eps[i]/w[i]).transpose()#  len(t) by 4 array\n",
    "                X0minus +=  XQ1minus(t+ eps[i]/w[i]).transpose() \n",
    "            phi,Fplus,DF0plus,DF0plussolve = makeBVP(xplus,f,Aplus,Pplusinv,N,tmin,tmax)\n",
    "            phi,Fminus,DF0minus,DF0minussolve = makeBVP(xminus,f,Aminus,Pinvminus,N,tmin,tmax)\n",
    "            epsF = 1e-7\n",
    "            epsC = 1e-8\n",
    "            K = 200\n",
    "            Xhyperbolicplus,foundTrajectoryPlus = findTrajectory(X0plus,epsF,epsC,K,Fplus,DF0plus,DF0plussolve)\n",
    "            Xhyperbolicminus,foundTrajectoryMinus = findTrajectory(X0minus,epsF,epsC,K,Fminus,DF0minus,DF0minussolve)\n",
    "            return Xhyperbolicplus + xplus ,Xhyperbolicminus + xminus, t, X0plus,X0minus,foundTrajectoryPlus,foundTrajectoryMinus\n",
    "    else:\n",
    "        print(\"Clarify forcing function type and parameters\")\n",
    "    return findHyperbolicTrajectory"
   ]
  },
  {
   "cell_type": "markdown",
   "id": "ee292e8b-a7ea-4896-a518-64c54629002a",
   "metadata": {},
   "source": [
    "Here we set the parametes of the model we will use, and from these we compute the hyperbolic trajectories"
   ]
  },
  {
   "cell_type": "code",
   "execution_count": 8,
   "id": "addaf5f2-d303-430e-91ca-1318cec26f01",
   "metadata": {
    "tags": []
   },
   "outputs": [],
   "source": [
    "FileName = 'Test'   # Set name of file to store data too Autonomous, Periodic, Quasi-periodic_small, or Quasi-periodic_large. "
   ]
  },
  {
   "cell_type": "code",
   "execution_count": 30,
   "id": "ea78927d-f5e3-4c0f-9f96-370ecaea5b2a",
   "metadata": {
    "tags": []
   },
   "outputs": [
    {
     "name": "stdout",
     "output_type": "stream",
     "text": [
      " after 5 iterations an estimate with error of F =2.0543059423341508e-11 and delta = 2.1931159219730197e-09was produced\n",
      " after 6 iterations an estimate with error of F =7.442878756353167e-12 and delta = 7.758679830701354e-10was produced\n"
     ]
    }
   ],
   "source": [
    "T,N = 10*np.pi,150\n",
    "# parametrs\n",
    "k = 1 # damping coefficient\n",
    "D = lambda v : k*v #linear damping\n",
    "h = 1 # potential parameter, need h>0\n",
    "forcingtype,ForcingParameters = \"quasi-periodic\",(.1,np.sqrt(2),0,.2,4,0) # Amplitude,frequency, epsilon(phase shift)\n",
    "#forcingtype,ForcingParameters = \"periodic\",(1, 1)  # Amplitude, frequency\n",
    "if   forcingtype == \"periodic\":\n",
    "    Amp1,w1 = ForcingParameters\n",
    "    G = lambda t : Amp1*cos(w1*t)        \n",
    "elif forcingtype == \"quasi-periodic\":\n",
    "    n = len(ForcingParameters)//3\n",
    "    Amp = np.zeros(n)\n",
    "    w = np.zeros(n)\n",
    "    eps = np.zeros(n)\n",
    "    for i in range(0,n):\n",
    "        Amp[i] = ForcingParameters[3*i]\n",
    "        w[i] = ForcingParameters[3*i+1]\n",
    "        eps[i] = ForcingParameters[3*i+2]\n",
    "    G = lambda t : Amp.dot(cos(t*w + eps))            \n",
    "\n",
    "findHyperbolicTrajectory = ForcingType(ForcingParameters,forcingtype)  # this establishes the BVP we will need to solve\n",
    "f,Aplus, Aminus, xplus, xminus = model(h,k,D,G)    # the vector field, matrices for linearised systems at equilibria, and equilibria\n",
    "dt = 2*T/N\n",
    "Pplus,Pplusinv,Pminus,Pinvminus,lambda2, omega, lambda3, lambda4  =  eigen(h,k)  # the change of basis matrices, so Pplus.dot(array([1,0,0,0])) is the eigenvector along centre direction for postivie capsise\n",
    "# direction\n",
    "\n",
    "# find hyperbolic trajectory\n",
    "Xhyperbolicplus,Xhyperbolicminus, thyperbolic, X0plus,X0minus,foundTrajectoryPlus,foundTrajectoryMinus =findHyperbolicTrajectory(N,T) \n",
    "SaveFile = 'Data_2dof/' +FileName +'/'\n",
    "np.save(SaveFile + 'Xhyperbolicplus.npy', Xhyperbolicplus)\n",
    "np.save(SaveFile + 'Xhyperbolicminus.npy', Xhyperbolicminus)\n",
    "np.save(SaveFile + 'thyperbolic.npy', thyperbolic)\n",
    "if forcingtype == \"periodic\":\n",
    "    forcingtypevector = array([0]) # this makes it easier to store the type of forcing used.\n",
    "elif forcingtype == \"quasi-periodic\":\n",
    "    forcingtypevector = array([1])\n",
    "else:\n",
    "    forcingtypevector = array([-1])\n",
    "np.save(SaveFile + \"forcingtype.npy\" ,forcingtypevector)\n",
    "np.save(SaveFile + \"ForcingParameters.npy\", np.asarray(ForcingParameters))\n",
    "np.save(SaveFile + \"ModelParameters.npy\",np.asarray((h,k))) # currently consider only same forcing constant\n",
    "np.save(SaveFile + \"TimeInterval.npy\",np.asarray((T,N)))\n",
    "        "
   ]
  },
  {
   "cell_type": "markdown",
   "id": "c99edcb1-ef2f-4a55-a3e8-20d6fe0ec1f8",
   "metadata": {},
   "source": [
    "We can plot the hyperbolic trajectory in each coordinate.e "
   ]
  },
  {
   "cell_type": "code",
   "execution_count": 25,
   "id": "b491f03e-34fb-404b-ac2c-b65bbcd57c84",
   "metadata": {
    "tags": []
   },
   "outputs": [],
   "source": [
    "fig = plt.figure()\n",
    "for i in range(0, 4):\n",
    "    plt.plot(thyperbolic,Xhyperbolicplus[:,i],linewidth = 2,label = \"Hyperbolic trajectory linear damping\")  \n",
    "    plt.title(\"Hyperbolic trajectory positive roll\", fontsize=20)\n",
    "    plt.xlabel(\"$t$\", fontsize=18)\n",
    "    plt.ylabel(str(i+1) + \"th coordinate\", fontsize=18)\n",
    "    plt.legend(fontsize=14)\n",
    "    plt.show()\n",
    "    plt.plot(thyperbolic,Xhyperbolicminus[:,i]  ,linewidth = 2,label = \"Hyperbolic trajectory linear damping\")  \n",
    "    plt.title(\"Hyperbolic trajectory negative roll\", fontsize=20)\n",
    "    plt.xlabel(\"$t$\", fontsize=18)\n",
    "    plt.ylabel(str(i) + \"th coordinate\", fontsize=18)\n",
    "    plt.legend(fontsize=14)\n",
    "    plt.show()"
   ]
  },
  {
   "cell_type": "code",
   "execution_count": 31,
   "id": "9a9c9184-9183-4c26-8bbe-7d35d5a21248",
   "metadata": {
    "tags": []
   },
   "outputs": [
    {
     "data": {
      "text/plain": [
       "Text(0.5, 0, '$t$')"
      ]
     },
     "execution_count": 31,
     "metadata": {},
     "output_type": "execute_result"
    },
    {
     "name": "stderr",
     "output_type": "stream",
     "text": [
      "The PostScript backend does not support transparency; partially transparent artists will be rendered opaque.\n"
     ]
    }
   ],
   "source": [
    "%matplotlib qt\n",
    "fig = plt.figure(figsize=(6,6))\n",
    "ax = plt.subplot(projection='3d')\n",
    "ax.axes.set_xlim3d(left=-2, right=2) \n",
    "ax.axes.set_ylim3d(bottom=-2, top=2) \n",
    "ax.plot(Xhyperbolicminus[:,0],Xhyperbolicminus[:,1],thyperbolic, label= 'Positive hyperbolic trajectory')\n",
    "ax.plot(Xhyperbolicplus[:,0],Xhyperbolicplus[:,1],thyperbolic, label= 'Negative hyperbolic trajectory')\n",
    "plt.legend()\n",
    "ax.set_xlabel(\"$x$\", fontsize=14)\n",
    "ax.set_ylabel(\"$y$\", fontsize=14)\n",
    "ax.set_zlabel(\"$t$\", fontsize=14)"
   ]
  },
  {
   "cell_type": "code",
   "execution_count": null,
   "id": "98a0604b-7c70-4dcf-ad85-3383baadbe51",
   "metadata": {},
   "outputs": [],
   "source": []
  }
 ],
 "metadata": {
  "kernelspec": {
   "display_name": "Python 3 (ipykernel)",
   "language": "python",
   "name": "python3"
  },
  "language_info": {
   "codemirror_mode": {
    "name": "ipython",
    "version": 3
   },
   "file_extension": ".py",
   "mimetype": "text/x-python",
   "name": "python",
   "nbconvert_exporter": "python",
   "pygments_lexer": "ipython3",
   "version": "3.11.4"
  }
 },
 "nbformat": 4,
 "nbformat_minor": 5
}
