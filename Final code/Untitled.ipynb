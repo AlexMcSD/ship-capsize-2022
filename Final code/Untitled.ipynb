{
 "cells": [
  {
   "cell_type": "code",
   "execution_count": null,
   "id": "e0a50eac-f475-4068-9e32-69160148c8c3",
   "metadata": {},
   "outputs": [],
   "source": [
    "import numpy as np\n",
    "from numpy import cos, sin, cosh, sinh, tanh, array,pi, exp\n",
    "from numpy.linalg import norm,solve\n",
    "import matplotlib.pyplot as plt\n",
    "from scipy.integrate import solve_ivp\n",
    "import scipy.linalg\n",
    "from System import MakeSystem, FindHyperbolicTrajectory, MakeLinearisedSolution\n",
    "%matplotlib qt\n",
    "\n",
    "V = lambda x: .5*(x[1]**2 +.5*x[0]**2 -x[0]*x[1]**2)\n",
    "N = 100\n",
    "X,Y = meshgrid(np.linspace(-1.5,1.5,N),np.linspace(-1.5,1.5,N))\n",
    "\n",
    "V = \n"
   ]
  }
 ],
 "metadata": {
  "kernelspec": {
   "display_name": "Python 3 (ipykernel)",
   "language": "python",
   "name": "python3"
  },
  "language_info": {
   "codemirror_mode": {
    "name": "ipython",
    "version": 3
   },
   "file_extension": ".py",
   "mimetype": "text/x-python",
   "name": "python",
   "nbconvert_exporter": "python",
   "pygments_lexer": "ipython3",
   "version": "3.9.7"
  }
 },
 "nbformat": 4,
 "nbformat_minor": 5
}
