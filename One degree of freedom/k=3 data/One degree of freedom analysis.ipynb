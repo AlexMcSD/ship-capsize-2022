{
 "cells": [
  {
   "cell_type": "markdown",
   "id": "ac948638-4a45-4dd9-bd7c-3f9ef144f53e",
   "metadata": {
    "tags": []
   },
   "source": [
    "# Hyperbolic trajectory\n",
    "----"
   ]
  },
  {
   "cell_type": "markdown",
   "id": "aaa3d71b-c8bd-4c33-9b58-a141256464df",
   "metadata": {},
   "source": [
    "Import modules and functions"
   ]
  },
  {
   "cell_type": "code",
   "execution_count": 1,
   "id": "781108ed-92d1-4d8d-b2ad-ab5211872e86",
   "metadata": {},
   "outputs": [],
   "source": [
    "import numpy as np\n",
    "from numpy import cos, sin, cosh, sinh, tanh, array,pi, exp\n",
    "from numpy.linalg import norm,solve\n",
    "import matplotlib.pyplot as plt\n",
    "from scipy.integrate import solve_ivp\n",
    "import scipy.linalg\n",
    "from System import MakeSystem, FindHyperbolicTrajectory, MakeLinearisedSolution\n",
    "%matplotlib qt"
   ]
  },
  {
   "cell_type": "markdown",
   "id": "3efca12f-1494-4aaf-940d-349a317de94d",
   "metadata": {},
   "source": [
    "Set parameters of the system and find the hyperbolic trajectory, as well as the linearised hyperbolic trajectory"
   ]
  },
  {
   "cell_type": "code",
   "execution_count": 2,
   "id": "8fa5c148-773a-4928-9f1b-b99a4f81ccf8",
   "metadata": {
    "tags": []
   },
   "outputs": [
    {
     "name": "stdout",
     "output_type": "stream",
     "text": [
      " after 7 iterations an estimate with error of F =2.4505287786777723e-11 and delta = 5.391677075353767e-09was produced\n"
     ]
    }
   ],
   "source": [
    "k = 3\n",
    "ForcingParameters = array([.1,.7,-.15,2])\n",
    "f,lminus,lplus,G,A = MakeSystem(k,ForcingParameters) \n",
    "\n",
    "XQ = MakeLinearisedSolution(ForcingParameters,lplus,lminus)\n",
    "tmin,tmax = -10,10\n",
    "\n",
    "N = 401\n",
    "Xhyp,t,X0 = FindHyperbolicTrajectory(f,lminus,lplus,XQ,tmin,tmax,N,A)"
   ]
  },
  {
   "cell_type": "markdown",
   "id": "bd1754b0-034c-4c01-999b-f3726d73889c",
   "metadata": {},
   "source": [
    "Produce plots comparing the hyperbolic trajectory with the linearised system."
   ]
  },
  {
   "cell_type": "code",
   "execution_count": null,
   "id": "f513ea12-99ec-4a01-b338-dcbb0b44695a",
   "metadata": {
    "jupyter": {
     "source_hidden": true
    },
    "tags": []
   },
   "outputs": [],
   "source": [
    "fig = plt.figure(figsize=(15,15))\n",
    "ax = fig.add_subplot(projection='3d')\n",
    "\n",
    "ax.plot(Xhyp[:,0], Xhyp[:,1], t,linestyle='-',  linewidth=3, marker='o', label=\"Non-linear hyperbolic trajectory, quasi-periodic\")\n",
    "ax.plot( X0[:,0], X0[:,1],t,linestyle='--', linewidth=2, marker='x', label=\"Linearised hyperbolic trajectory, quasi-periodic\")\n",
    "plt.legend(fontsize=14)\n",
    "ax.set_xlabel(\"$x$\", fontsize=14)\n",
    "plt.xlim(-1, 1)\n",
    "plt.ylim(-1, 1)\n",
    "ax.set_ylabel(\"$y$\", fontsize=14)\n",
    "ax.set_zlabel(\"$t$\", fontsize=14)\n",
    "plt.show()\n",
    "\n",
    "plt.plot(t, Xhyp[:,0], color='blue', linestyle='-',  linewidth=3, marker='o', label=\"Non-linear hyperbolic trajectory\")\n",
    "plt.plot(t, X0[:,0], color='red',  linestyle='--', linewidth=2, marker='x', label=\"Linearised hyperbolic trajectory\")\n",
    "plt.title(\"Hyperbolic trajectories $x$ component, quasi-periodic\", fontsize=20)\n",
    "plt.xlabel(\"$t$\", fontsize=18)\n",
    "plt.ylabel(\"$x$\", fontsize=18)\n",
    "plt.legend(fontsize=6)\n",
    "plt.show()\n",
    "plt.plot(t, Xhyp[:,1], color='blue', linestyle='-',  linewidth=3, marker='o', label=\"Non-linear hyperbolic trajectory\")\n",
    "plt.plot(t, X0[:,1], color='red',  linestyle='--', linewidth=2, marker='x', label=\"Linearised hyperbolic trajectory\")\n",
    "plt.title(\"Hyperbolic trajectories $y$ component, quasi-periodic\", fontsize=20)\n",
    "plt.xlabel(\"$t$\", fontsize=18)\n",
    "plt.ylabel(\"$y$\", fontsize=18)\n",
    "plt.legend(fontsize=6)\n",
    "plt.show()"
   ]
  },
  {
   "cell_type": "markdown",
   "id": "e5887bd0-3959-44c0-99d8-d6109d119b53",
   "metadata": {
    "tags": []
   },
   "source": [
    "# Stable manifold data collection\n",
    "---"
   ]
  },
  {
   "cell_type": "markdown",
   "id": "98ca2e0f-8f66-4cd0-8ddd-1da7dc4202f2",
   "metadata": {},
   "source": [
    "Import functions to collect and process stable manifold data"
   ]
  },
  {
   "cell_type": "code",
   "execution_count": 3,
   "id": "84627699-32e5-4b8f-ae52-87cd70c44e48",
   "metadata": {
    "tags": []
   },
   "outputs": [],
   "source": [
    "from StableManifoldTrajectories import FindStableTrajectory,FindUnstableTrajectory\n",
    "import scipy.io\n",
    "import scipy.interpolate\n",
    "from scipy.interpolate import RegularGridInterpolator\n",
    "from scipy.interpolate import Rbf\n",
    "from scipy.interpolate import LinearNDInterpolator\n",
    "from scipy.interpolate import interp1d\n"
   ]
  },
  {
   "cell_type": "markdown",
   "id": "5482cee5-8214-4e3b-a86a-9844309a36d3",
   "metadata": {},
   "source": [
    "## ONLY RUN ONCE\n",
    "This code collects points on the stable manifold. This takes the longest to run, so only run if no available data for the model and forcing parameters."
   ]
  },
  {
   "cell_type": "code",
   "execution_count": null,
   "id": "9600af27-d123-445c-a882-1fec647e3818",
   "metadata": {
    "tags": []
   },
   "outputs": [],
   "source": [
    "stableCoord = np.linspace(-2,2,15)\n",
    "unstableCoord =np.linspace(-2,2,15)\n",
    "tindices = np.arange(int(N//5),int(4*N//5),25)\n",
    "ySMvals = np.zeros((len(stableCoord),len(tindices)))\n",
    "xSMvals = np.zeros((len(stableCoord),len(tindices)))\n",
    "yUMvals = np.zeros((len(unstableCoord),len(tindices)))\n",
    "xUMvals = np.zeros((len(unstableCoord),len(tindices)))\n",
    "\n",
    "\n",
    "count =0\n",
    "l=0\n",
    "for J in tindices:\n",
    "    for i in range(0,len(stableCoord)):\n",
    "        p = stableCoord[i]\n",
    "        X,tnew,X0,Jnew = FindStableTrajectory(f,lminus,lplus,tmin,tmax,N,p,J,Xhyp,A)\n",
    "        ySMvals[i,l] = X[Jnew][1]   # output of function applied to (trange[J],P[i])\n",
    "        xSMvals[i,l] = X[Jnew][0]   # output of function applied to (trange[J],P[i])\n",
    "        count +=1 \n",
    "        if int(100*count/(len(tindices)*len(stableCoord)))%5 ==0:\n",
    "            print(str(int(100*count/(len(tindices)*len(stableCoord)))) + \"% complete\")\n",
    "    l+=1\n",
    "            \n",
    "count =0\n",
    "l=0\n",
    "for J in tindices:\n",
    "    for i in range(0,len(unstableCoord)):\n",
    "        q = unstableCoord[i]\n",
    "        X,tnew,X0,Jnew = FindUnstableTrajectory(f,lminus,lplus,tmin,tmax,N,q,J,Xhyp,A)\n",
    "        yUMvals[i,l] = X[Jnew][1]   # output of function applied to (trange[J],P[i])\n",
    "        xUMvals[i,l] = X[Jnew][0]   # output of function applied to (trange[J],P[i])\n",
    "        count +=1 \n",
    "        if int(100*count/(len(tindices)*len(unstableCoord)))%5 ==0:\n",
    "            print(str(int(100*count/(len(tindices)*len(unstableCoord)))) + \"% complete\")\n",
    "    l+=1\n",
    "            \n",
    "            \n",
    "            "
   ]
  },
  {
   "cell_type": "markdown",
   "id": "204cdfcb-8b7e-42c3-88e6-153df9159180",
   "metadata": {
    "tags": []
   },
   "source": [
    "xSM[i,j] stores the stable manifold x position corresponding to (stableCoord[i],t[tindices[l]])"
   ]
  },
  {
   "cell_type": "code",
   "execution_count": null,
   "id": "a36e345e-09f0-4a53-93e2-f8225d56fea1",
   "metadata": {
    "tags": []
   },
   "outputs": [],
   "source": [
    "np.save(\"tindices.npy\",tindices)\n",
    "np.save(\"t.npy\",t)\n",
    "np.save(\"Xhyp.npy\",Xhyp)\n",
    "np.save(\"k.npy\", k)\n",
    "np.save(\"ForcingParameters.npy\",ForcingParameters)\n",
    "\n",
    "np.save(\"stableCoord.npy\",stableCoord)\n",
    "np.save(\"ySMvals.npy\",ySMvals)\n",
    "np.save(\"xSMvals.npy\",xSMvals)\n",
    "\n",
    "\n",
    "np.save(\"unstableCoord.npy\",unstableCoord)\n",
    "np.save(\"yUMvals.npy\",yUMvals)\n",
    "np.save(\"xUMvals.npy\",xUMvals)\n",
    "\n"
   ]
  },
  {
   "cell_type": "markdown",
   "id": "26cf53d9-2104-41e1-8753-c66aaed96e23",
   "metadata": {},
   "source": [
    "## Importing already computed data\n"
   ]
  },
  {
   "cell_type": "code",
   "execution_count": 4,
   "id": "a8d2961f-017c-4412-8c3f-abf796a31ade",
   "metadata": {},
   "outputs": [],
   "source": [
    "tindices=np.load(\"tindices.npy\")\n",
    "t=np.load(\"t.npy\")\n",
    "Xhyp=np.load(\"Xhyp.npy\")\n",
    "k = np.load(\"k.npy\")\n",
    "ForcingParameters= np.load(\"ForcingParameters.npy\")\n",
    "\n",
    "stableCoord = np.load(\"stableCoord.npy\")\n",
    "\n",
    "ySMvals= np.load(\"ySMvals.npy\")\n",
    "xSMvals = np.load(\"xSMvals.npy\")\n",
    "\n",
    "\n",
    "unstableCoord = np.load(\"unstableCoord.npy\")\n",
    "yUMvals = np.load(\"yUMvals.npy\")\n",
    "xUMvals = np.load(\"xUMvals.npy\")\n",
    "f,lminus,lplus,G,A = MakeSystem(k,ForcingParameters) # system in stable/unstable coordinates\n"
   ]
  },
  {
   "cell_type": "markdown",
   "id": "330db6d1-04a1-4d74-b061-fe62bdb785db",
   "metadata": {},
   "source": [
    "Here we create the parameterisations for the stable and unstable manifolds."
   ]
  },
  {
   "cell_type": "code",
   "execution_count": 5,
   "id": "2053aa14-bb7f-4d12-bb3e-34e2b63c0310",
   "metadata": {},
   "outputs": [],
   "source": [
    "NewstableCoord,NewT = np.meshgrid(stableCoord,t[tindices], indexing='ij')\n",
    "\n",
    "ySM = scipy.interpolate.LinearNDInterpolator(np.vstack((NewstableCoord.reshape(-1),NewT.reshape(-1))).transpose(),ySMvals.reshape(-1))\n",
    "xSM = scipy.interpolate.LinearNDInterpolator(np.vstack((NewstableCoord.reshape(-1),NewT.reshape(-1))).transpose(),xSMvals.reshape(-1))\n",
    "\n",
    "NewUnstableCoord,NewT = np.meshgrid(unstableCoord,t[tindices], indexing='ij')\n",
    "\n",
    "yUM = scipy.interpolate.LinearNDInterpolator(np.vstack((NewUnstableCoord.reshape(-1),NewT.reshape(-1))).transpose(),yUMvals.reshape(-1))\n",
    "xUM = scipy.interpolate.LinearNDInterpolator(np.vstack((NewUnstableCoord.reshape(-1),NewT.reshape(-1))).transpose(),xUMvals.reshape(-1))"
   ]
  },
  {
   "cell_type": "markdown",
   "id": "e74a4aec-1ce2-47d2-b2ab-75011be75d46",
   "metadata": {},
   "source": [
    "## Plots\n",
    "----"
   ]
  },
  {
   "cell_type": "markdown",
   "id": "f3c9f190-b851-4c21-afb5-54a9a1b19d6f",
   "metadata": {},
   "source": [
    "This plot shows the hyperbolic trajectory alongside the stable and unstable manifolds and sample transition and non-transition trajectories."
   ]
  },
  {
   "cell_type": "code",
   "execution_count": 10,
   "id": "8d7519b5-57ab-40da-96b0-95c5ec38c487",
   "metadata": {},
   "outputs": [],
   "source": [
    "fig = plt.figure(figsize=(7,9))\n",
    "ax = fig.add_subplot(projection='3d')\n",
    "ax.plot(Xhyp[:,0], Xhyp[:,1], t,linestyle='-',  linewidth=3, marker='x',color = 'green', label=\"Hyperbolic trajectory\")\n",
    "stableCoordinterp = np.linspace(stableCoord[0]+0.1,stableCoord[-1]-0.1,15)\n",
    "unstableCoordinterp = np.linspace(unstableCoord[0]+0.1,unstableCoord[-1]-0.1,15)\n",
    "tinterp = np.linspace(-6, 6, 10)\n",
    "FontSize = 14\n",
    "XS = 0*np.zeros((len(stableCoordinterp),len(tinterp)))\n",
    "YS = 0*np.zeros((len(stableCoordinterp),len(tinterp)))\n",
    "tS = 0*np.zeros((len(stableCoordinterp),len(tinterp)))\n",
    "for i in range(0,len(stableCoordinterp)):\n",
    "    for j in range(0,len(tinterp)):\n",
    "        XS[i,j] = xSM(stableCoordinterp[i],tinterp[j])\n",
    "        YS[i,j] = ySM(stableCoordinterp[i],tinterp[j])\n",
    "        tS[i,j] = tinterp[j]\n",
    "        \n",
    "XU = 0*np.zeros((len(unstableCoordinterp),len(tinterp)))\n",
    "YU = 0*np.zeros((len(unstableCoordinterp),len(tinterp)))\n",
    "tU = 0*np.zeros((len(unstableCoordinterp),len(tinterp)))\n",
    "for i in range(0,len(unstableCoordinterp)):\n",
    "    for j in range(0,len(tinterp)):\n",
    "        XU[i,j] = xUM(unstableCoordinterp[i],tinterp[j])\n",
    "        YU[i,j] = yUM(unstableCoordinterp[i],tinterp[j])\n",
    "        tU[i,j] = tinterp[j]\n",
    "ax.plot_wireframe(XU, YU, tU, color = 'red',label = 'Unstable manifold',alpha = 0.25)\n",
    "ax.plot_wireframe(XS, YS, tS, color = 'blue',label = 'Stable manifold',alpha = 0.25)\n",
    "y0 = np.array([-2,3])\n",
    "res = solve_ivp (f, [-3,3], y0 , method = \"RK45\" ,max_step =0.05 , rtol = 1e-8 )\n",
    "y1 = res .y. transpose()\n",
    "t1 = res .t  \n",
    "ax.plot(y1[:,0],y1[:,1],t1, color = 'black', linewidth=3,label = 'Transition trajectory')\n",
    "\n",
    "y0 = np.array([-2,1])\n",
    "res = solve_ivp (f, [-3,3], y0 , method = \"RK45\" ,max_step =0.05 , rtol = 1e-8 )\n",
    "y2 = res .y. transpose()\n",
    "t2 = res .t  \n",
    "ax.plot(y2[:,0],y2[:,1],t2, color = 'brown', linewidth=3,label = 'Non-transition trajectory')\n",
    "\n",
    "ax.set_xlabel(\"$x$\", fontsize=FontSize)\n",
    "plt.legend(fontsize=FontSize,bbox_to_anchor=(-0, 1.2), loc='upper left')\n",
    "ax.set_ylabel(\"$y$\", fontsize=FontSize)\n",
    "ax.set_zlabel(\"$t$\", fontsize=FontSize)\n",
    "ax.zaxis.set_tick_params(labelsize=14)\n",
    "ax.xaxis.set_tick_params(labelsize=14)\n",
    "ax.yaxis.set_tick_params(labelsize=14)\n",
    "ax.set_box_aspect((1, 1, 1.5))\n",
    "plt.show()"
   ]
  },
  {
   "cell_type": "markdown",
   "id": "b4e96144-6281-48d6-8d7f-b6e7bce395ab",
   "metadata": {},
   "source": [
    "Time slice in original coordinates."
   ]
  },
  {
   "cell_type": "code",
   "execution_count": null,
   "id": "7fb1718b-97ae-43b5-b9f0-84dd8f8af0c0",
   "metadata": {},
   "outputs": [],
   "source": [
    "N = len(t)\n",
    "fig = plt.figure(figsize=(15,15))\n",
    "J =N//2\n",
    "fig = plt.figure(figsize=(15,15))\n",
    "FontSize = 20\n",
    "plt.plot(Xhyp[J,0],Xhyp[J,0], linewidth=3, marker='o', label=\"Non-linear hyperbolic trajectory, quasi-periodic\")\n",
    "stableCoordinterp = np.linspace(stableCoord[0]+0.1,stableCoord[-1]-0.1,15)\n",
    "unstableCoordinterp = np.linspace(unstableCoord[0]+0.1,unstableCoord[-1]-0.1,15)\n",
    "YSvals =0*stableCoordinterp\n",
    "XSvals =0*stableCoordinterp\n",
    "for i in range(0,len(stableCoordinterp)):\n",
    "    YSvals[i] = ySM(stableCoordinterp[i],t[J])\n",
    "    XSvals[i] =xSM(stableCoordinterp[i],t[J])\n",
    "plt.plot(XSvals,YSvals, color = 'blue', linewidth=3, marker='x',label = 'Stable manifold')\n",
    "YUvals =0*unstableCoordinterp\n",
    "XUvals =0*unstableCoordinterp\n",
    "for i in range(0,len(unstableCoordinterp)):\n",
    "    YUvals[i] = yUM(unstableCoordinterp[i],t[J])\n",
    "    XUvals[i] =xUM(unstableCoordinterp[i],t[J])\n",
    "plt.plot(XUvals,YUvals,color = 'red', linewidth=3, marker='x',label = 'Unstable manifold')\n",
    "plt.legend(fontsize=FontSize)\n",
    "plt.xlabel(\"$x$\", fontsize=FontSize)\n",
    "    #plt.xlim(-1, 1)\n",
    "    #plt.ylim(-1, 1)\n",
    "plt.ylabel(\"$y$\", fontsize=FontSize)\n",
    "plt.show()"
   ]
  },
  {
   "cell_type": "markdown",
   "id": "653005aa-6b3f-4cbd-b2c8-8ad884338a15",
   "metadata": {},
   "source": [
    "# Heat map\n",
    "----\n"
   ]
  },
  {
   "cell_type": "markdown",
   "id": "936ce167-2e2c-4f6f-888b-ffdc39e5e082",
   "metadata": {},
   "source": [
    "This is an interpolation of the hyperbolic trajectory."
   ]
  },
  {
   "cell_type": "code",
   "execution_count": 6,
   "id": "ca3c2d0e-99ba-41bc-87e5-9e8ade1115b1",
   "metadata": {},
   "outputs": [],
   "source": [
    "xhyp = lambda s: np.interp(s,t,Xhyp[:,0])\n",
    "yhyp = lambda s: np.interp(s,t,Xhyp[:,1])"
   ]
  },
  {
   "cell_type": "markdown",
   "id": "c97cdc46-b00d-4e4a-a07d-ba3b41cf0720",
   "metadata": {},
   "source": [
    "Load saved data"
   ]
  },
  {
   "cell_type": "code",
   "execution_count": 7,
   "id": "5edf4605-d9fd-4623-a89b-64997d7cc00b",
   "metadata": {},
   "outputs": [],
   "source": [
    "x = np.load(\"initial conditions.npy\")\n",
    "z = np.load(\"Points moving over.npy\")"
   ]
  },
  {
   "cell_type": "markdown",
   "id": "4a5d3e83-737a-4bff-90af-bb7ee54f0a48",
   "metadata": {},
   "source": [
    "Construct new data\n",
    "# Do not run if data already available!\n"
   ]
  },
  {
   "cell_type": "code",
   "execution_count": null,
   "id": "bc177104-8c1d-4b4a-aa95-5636da7ee7cd",
   "metadata": {
    "tags": []
   },
   "outputs": [],
   "source": [
    "def event(s,y):\n",
    "    #return (Minv.dot(y) - np.array([xhyp(s),yhyp(s)]))[0]\n",
    "    return y[0]- xhyp(s)\n",
    "event.terminal = True\n",
    "# functions to determine if it passes over\n",
    "def passOver(y0):\n",
    "    if event(0,y0) < 0:\n",
    "        res = solve_ivp (f, [0,100], y0 , method = \"RK45\" , events=[event],max_step =0.05 , rtol = 1e-8 )\n",
    "        y = res .y. transpose()\n",
    "        t = res .t  \n",
    "        s = t[-1]\n",
    "        if s<100 and y[-1][1] > yhyp(s):  # the trajectories which move left to right\n",
    "            return s\n",
    "        elif y[-1][0]- xhyp(s) < 0: # trajectories which stay on left\n",
    "            return -1\n",
    "    else: \n",
    "        res = solve_ivp (f, [0,100], y0 , method = \"RK45\" , events=[event],max_step =0.05 , rtol = 1e-8 )\n",
    "        y = res .y. transpose()\n",
    "        t = res .t  \n",
    "        s = t[-1]\n",
    "        if s<100 and y[-1][1] < yhyp(s):  # the trajectories which move right to left \n",
    "            return -1\n",
    "        elif y[-1][0]- xhyp(s) > 0: # trajectories which stay on right\n",
    "            return 0\n",
    "\n",
    "\n",
    "\n",
    "#creating and storing the data.\n",
    "\n",
    "x = np.meshgrid(np.linspace(-3,xhyp(0)+.5,150) , np.linspace(yhyp(0)-0.5,3,150),indexing= 'ij')\n",
    "z = np.zeros((np.shape(x)[1],np.shape(x)[2]))\n",
    "count = 0\n",
    "for i in range(0,np.shape(x)[1]):\n",
    "    for j in range(0,np.shape(x)[2]):\n",
    "        y0 = np.array([x[0][i,j],x[1][i,j]])\n",
    "        z[i,j] = passOver(y0)\n",
    "        count+=1\n",
    "        if int(100000*count/(np.shape(x)[1]*np.shape(x)[2])) % 5 == 0:\n",
    "            print(str(100*count/(np.shape(x)[1]*np.shape(x)[2])) + \"% complete\")\n",
    "np.save(\"initial conditions.npy\" , x)\n",
    "np.save(\"Points moving over.npy\", z)"
   ]
  },
  {
   "cell_type": "markdown",
   "id": "bc44d784-aeb5-44ad-aaba-1e176b71e3ed",
   "metadata": {},
   "source": [
    "Produce plots, heat map of which points transition and time to transition."
   ]
  },
  {
   "cell_type": "code",
   "execution_count": 16,
   "id": "8b290023-fb76-4b93-a29c-fb1729f8e30f",
   "metadata": {},
   "outputs": [
    {
     "name": "stderr",
     "output_type": "stream",
     "text": [
      "The PostScript backend does not support transparency; partially transparent artists will be rendered opaque.\n",
      "The PostScript backend does not support transparency; partially transparent artists will be rendered opaque.\n"
     ]
    }
   ],
   "source": [
    "X,Y = x\n",
    "YSvals =0*stableCoordinterp\n",
    "XSvals =0*stableCoordinterp\n",
    "for i in range(0,len(stableCoordinterp)):\n",
    "    YSvals[i] = ySM(stableCoordinterp[i],0)\n",
    "    XSvals[i] =xSM(stableCoordinterp[i],0)\n",
    "YUvals =0*unstableCoordinterp\n",
    "XUvals =0*unstableCoordinterp\n",
    "for i in range(0,len(unstableCoordinterp)):\n",
    "    YUvals[i] = yUM(unstableCoordinterp[i],0)\n",
    "    XUvals[i] =xUM(unstableCoordinterp[i],0)\n",
    "\n",
    "fig = plt.figure(figsize=(8,8))\n",
    "plt.xlabel(\"$x$\", fontsize=18)\n",
    "    #plt.xlim(-1, 1)\n",
    "    #plt.ylim(-1, 1)\n",
    "plt.ylabel(\"$y$\", fontsize=18)\n",
    "import matplotlib.colors\n",
    "custom_cmap = matplotlib.colors.LinearSegmentedColormap.from_list(\"custom\",[\"red\",\"orange\",\"yellow\",\"green\"])\n",
    "plt.imshow(z.transpose(), vmin = -1,vmax = 3, cmap = custom_cmap, origin = 'lower',alpha = .8,extent = [np.amin(X),np.amax(X),np.amin(Y),np.amax(Y)])\n",
    "plt.colorbar()\n",
    "plt.plot(XSvals[0:XSvals.shape[0]//2+1],YSvals[0:XSvals.shape[0]//2+1], color = 'blue', linewidth=3, marker='x',label = 'Stable manifold')\n",
    "plt.scatter(xhyp(0),yhyp(0), linewidth=3, marker='o', color = 'black', label=\"Hyperbolic trajectory\")\n",
    "plt.legend(fontsize=18)\n",
    "\n",
    "plt.ylim(np.amin(Y),np.amax(Y))\n",
    "plt.rc('xtick', labelsize=16)\n",
    "plt.rc('ytick', labelsize=16)\n",
    "plt.show()"
   ]
  },
  {
   "cell_type": "code",
   "execution_count": 14,
   "id": "eed47ff2-8f33-4536-84c2-6da728d42093",
   "metadata": {},
   "outputs": [],
   "source": [
    "X,Y = x\n",
    "YSvals =0*stableCoordinterp\n",
    "XSvals =0*stableCoordinterp\n",
    "for i in range(0,len(stableCoordinterp)):\n",
    "    YSvals[i] = ySM(stableCoordinterp[i],0)\n",
    "    XSvals[i] =xSM(stableCoordinterp[i],0)\n",
    "YUvals =0*unstableCoordinterp\n",
    "XUvals =0*unstableCoordinterp\n",
    "for i in range(0,len(unstableCoordinterp)):\n",
    "    YUvals[i] = yUM(unstableCoordinterp[i],0)\n",
    "    XUvals[i] =xUM(unstableCoordinterp[i],0)\n",
    "\n",
    "fig = plt.figure(figsize=(8,8))\n",
    "plt.xlabel(\"$x$\", fontsize=18)\n",
    "    #plt.xlim(-1, 1)\n",
    "    #plt.ylim(-1, 1)\n",
    "plt.ylabel(\"$y$\", fontsize=18)\n",
    "import matplotlib.colors\n",
    "custom_cmap = matplotlib.colors.LinearSegmentedColormap.from_list(\"custom\",[\"red\",\"orange\",\"yellow\",\"green\"])\n",
    "plt.imshow(z.transpose(), vmin = -1,vmax = 3, cmap = custom_cmap, origin = 'lower',alpha = .8,extent = [np.amin(X),np.amax(X),np.amin(Y),np.amax(Y)])\n",
    "\n",
    "plt.plot(XSvals[0:XSvals.shape[0]//2+1],YSvals[0:XSvals.shape[0]//2+1], color = 'blue', linewidth=3, marker='x',label = 'Stable manifold')\n",
    "plt.scatter(xhyp(0),yhyp(0), linewidth=3, marker='o', color = 'black', label=\"Hyperbolic trajectory\")\n",
    "plt.legend(fontsize=18)\n",
    "plt.colorbar()\n",
    "plt.ylim(np.amin(Y),np.amax(Y))\n",
    "plt.rc('xtick', labelsize=16)\n",
    "plt.rc('ytick', labelsize=16)\n",
    "plt.show()"
   ]
  },
  {
   "cell_type": "code",
   "execution_count": null,
   "id": "2324930f-5a52-4a6b-8f3c-805f0fc1298e",
   "metadata": {},
   "outputs": [],
   "source": [
    "fig = plt.figure(figsize=(5,5))\n",
    "ax = fig.add_subplot(projection='3d')\n",
    "X,Y = x\n",
    "ax.plot_surface(X,Y,z)\n",
    "plt.show()"
   ]
  },
  {
   "cell_type": "code",
   "execution_count": null,
   "id": "61fdd154-f7cb-4fb2-8462-50e04c6cfa12",
   "metadata": {},
   "outputs": [],
   "source": []
  }
 ],
 "metadata": {
  "kernelspec": {
   "display_name": "Python 3 (ipykernel)",
   "language": "python",
   "name": "python3"
  },
  "language_info": {
   "codemirror_mode": {
    "name": "ipython",
    "version": 3
   },
   "file_extension": ".py",
   "mimetype": "text/x-python",
   "name": "python",
   "nbconvert_exporter": "python",
   "pygments_lexer": "ipython3",
   "version": "3.9.7"
  }
 },
 "nbformat": 4,
 "nbformat_minor": 5
}
