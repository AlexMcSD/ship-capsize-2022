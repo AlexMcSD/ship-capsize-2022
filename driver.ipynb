{
 "cells": [
  {
   "cell_type": "markdown",
   "metadata": {},
   "source": [
    "Here we define parameters of the system, the type of forcing to be used and launch other code."
   ]
  },
  {
   "cell_type": "code",
   "execution_count": 1,
   "metadata": {},
   "outputs": [],
   "source": [
    "import numpy as np\n",
    "from numpy import cos, sin, cosh, sinh, tanh, array,pi, exp,array,sqrt\n",
    "from numpy.linalg import norm,solve\n",
    "import matplotlib.pyplot as plt\n",
    "from scipy.integrate import solve_ivp\n",
    "import sdeint\n",
    "import scipy.linalg\n",
    "import scipy.io\n",
    "from model import linearisedSystem,model,eigen,Usolve,Lsolve\n",
    "import time\n",
    "from joblib import Parallel,delayed\n",
    "plt.rc('font', size=15)          # controls default text sizes\n"
   ]
  },
  {
   "cell_type": "code",
   "execution_count": 2,
   "metadata": {},
   "outputs": [],
   "source": [
    "# Define initial paramters\n",
    "T = 15\n",
    "N = 601\n",
    "t = np.linspace(-T,T,N)\n",
    "# parametrs\n",
    "k = 1 # damping coefficient\n",
    "D = lambda v : k*v #linear damping\n",
    "h = 1 # potential parameter, need h>0\n",
    "seednumber = 123456789\n",
    "\n",
    "f,Aplus, Aminus, xplus, xminus = model(h,k,D)    # the vector field, matrices for linearised systems at equilibria, and equilibria\n",
    "dt = 2*T/N\n",
    "Pplus,Pplusinv,Pminus,Pinvminus,lambda2, omega, lambda3, lambda4  =  eigen(h,k)\n",
    "\n",
    "\n"
   ]
  },
  {
   "cell_type": "code",
   "execution_count": 3,
   "metadata": {},
   "outputs": [],
   "source": [
    "\n",
    "# # Forcing function\n",
    "# name = 'periodic'\n",
    "# g = lambda t: np.array([0 ,0 ,0 ,cos(omega*t)])\n",
    "\n",
    "# name = 'autonomous'\n",
    "# g = lambda t: np.array([0 ,0 ,0 ,0])\n",
    "\n",
    "\n",
    "name='quasi_periodic'\n",
    "g = lambda t: np.array([0,0,0,np.cos(np.sqrt(2)*t)+2*np.cos(4*t)])\n"
   ]
  },
  {
   "cell_type": "markdown",
   "metadata": {},
   "source": [
    "Create stochastic forcing\n",
    "---\n",
    "This is given by \n",
    "$$ \\dot{\\eta} = \\begin{pmatrix}-\\lambda & -\\omega \\\\ \\omega & -\\lambda\\end{pmatrix} \\eta + B \\xi $$"
   ]
  },
  {
   "cell_type": "code",
   "execution_count": null,
   "metadata": {},
   "outputs": [],
   "source": [
    "name='stochastic'"
   ]
  },
  {
   "cell_type": "code",
   "execution_count": null,
   "metadata": {},
   "outputs": [],
   "source": [
    "import sdeint\n",
    "a = 1.0\n",
    "b = 0.8\n",
    "tspan = np.linspace(-T, T, 100*N)\n",
    "x0 = np.array([0,0])\n",
    "M = np.array([[lambda3, -omega],[omega,lambda3]])\n",
    "\n",
    "def mu(x, t):\n",
    "    return np.matmul(M,x)\n",
    "\n",
    "def sigma(x, t):\n",
    "    return .5*np.array([[1, 1],[-1 ,1]])\n",
    "rng = np.random.default_rng(12345)\n",
    "noise = sdeint.itoint(mu, sigma, x0, tspan,generator=rng)\n",
    "\n",
    "np.save(f'data_{name}/tspan.npy',tspan)\n",
    "np.save(f'data_{name}/noise.npy',noise)"
   ]
  },
  {
   "cell_type": "code",
   "execution_count": null,
   "metadata": {},
   "outputs": [],
   "source": [
    "tspan=np.load(f'data_{name}/tspan.npy')\n",
    "noise=np.load(f'data_{name}/noise.npy')"
   ]
  },
  {
   "cell_type": "code",
   "execution_count": null,
   "metadata": {},
   "outputs": [],
   "source": [
    "\n",
    "dense_noise = scipy.interpolate.CubicSpline(tspan,noise)\n",
    "\n",
    "g = lambda t : np.matmul(np.array([[0,0],[0,0],[1,0],[0,1]]),dense_noise(t))\n"
   ]
  },
  {
   "cell_type": "markdown",
   "metadata": {},
   "source": [
    "## Find Hyperbolic trajectories\n",
    "----"
   ]
  },
  {
   "cell_type": "code",
   "execution_count": 4,
   "metadata": {},
   "outputs": [],
   "source": [
    "def phi(t0,dt,x0):\n",
    "    F = lambda t,x : f(x,t)+g(t)\n",
    "    result = scipy.integrate.solve_ivp(F,[t0,t0+dt],x0,method = 'RK45',max_step = dt/50)\n",
    "    result = result.y\n",
    "    result = result.T\n",
    "    return result[-1]"
   ]
  },
  {
   "cell_type": "code",
   "execution_count": null,
   "metadata": {},
   "outputs": [],
   "source": [
    "fig = plt.figure()\n",
    "forcing  = [g(s) for s in t]\n",
    "forcing = np.array(forcing)\n",
    "plt.plot(t,forcing[:,2])\n",
    "plt.plot(t,forcing[:,3])\n",
    "# plt.title(f'External forcing: {name}')\n",
    "plt.legend(('x-component','y-component'),loc='best')\n",
    "plt.xlabel('t')\n",
    "plt.ylabel('Forcing amplitude')\n",
    "plt.tight_layout()\n",
    "plt.savefig(f'figures/forcing_{name}.png')\n",
    "plt.show()"
   ]
  },
  {
   "cell_type": "code",
   "execution_count": null,
   "metadata": {},
   "outputs": [],
   "source": [
    "boundary_weight = 1\n",
    "\n",
    "epsF = 1e-6\n",
    "epsC = 1e-5\n",
    "for sign in [-1,1]:\n",
    "    print(f'side = {sign}')\n",
    "    if sign == 1:\n",
    "        A = Aplus\n",
    "        P = Pplus\n",
    "        Pinv = Pplusinv\n",
    "        x0 = xplus\n",
    "    elif sign == -1:\n",
    "        A = Aminus\n",
    "        P = Pminus\n",
    "        Pinv = Pinvminus\n",
    "        x0 = xminus\n",
    "    def F(X,N):\n",
    "        # N number of points taken, X is diplacement from x0\n",
    "        Y = np.zeros((N,4))\n",
    "        X = X.reshape((N,4))\n",
    "        for i in range(0, N-1):\n",
    "            Y[i] = phi(t[i],dt,X[i]+x0) - x0  - X[i+1]\n",
    "            # Y[i] = phi(X[i] + x0,t[i]) - X[i+1] - x0   # ensures this is a trajectory.\n",
    "        # Boundary conditions (stable/unstable coordinates are zero to keep bounded ( need displacement from equilibrium)\n",
    "        Y[-1][1] = boundary_weight*Pinv.dot(X[0])[0]\n",
    "        Y[-1][1] = boundary_weight*Pinv.dot(X[0])[1]\n",
    "        Y[-1][2] = boundary_weight*Pinv.dot(X[0])[2]\n",
    "        Y[-1][3] = boundary_weight*Pinv.dot(X[-1])[3] # unstable\n",
    "        return Y.reshape(4*N)\n",
    "    Dphi = scipy.linalg.expm(dt*A) # matrix exponential for linear flow displacement from x0\n",
    "    # Derivative for linear system\n",
    "    DF0 = np.zeros((4*N,4*N))\n",
    "    for i in range(0,N-1):\n",
    "        # find linear derivative\n",
    "        DF0[4*i:4*i + 4, 4*i:4*i + 4] = Dphi\n",
    "        DF0[4*i:4*i +4,4*i+4:4*i+8] = -np.eye(4)\n",
    "    DF0[4*N-4,0:4] = boundary_weight*np.dot(Pinv.transpose(),array([1,0,0,0]))\n",
    "    DF0[4*N-3,0:4] = boundary_weight*np.dot(Pinv.transpose(),array([0,1,0,0]))\n",
    "    DF0[4*N-2,0:4] = boundary_weight*np.dot(Pinv.transpose(),array([0,0,1,0]))\n",
    "    DF0[4*N-1,4*N-4:] = boundary_weight*np.dot(Pinv.transpose(),array([0,0,0,1]))\n",
    "    Permute, L, U = scipy.linalg.lu(DF0) # numerical LU decomposition. This is computed once to maximise efficiency\n",
    "    def DF0solve(y0):   # we only store the solution function to DF*h = y.\n",
    "        x0 = np.transpose(Permute).dot(y0)\n",
    "        return Usolve(Lsolve(x0,L),U)\n",
    "    X0 = np.zeros((N,4))\n",
    "    X = X0.reshape(-1)\n",
    "    Fx = F(X0,N)\n",
    "    delta = DF0solve(Fx)\n",
    "    for iter in range(0,150):\n",
    "        X = X - delta\n",
    "        Fx = F(X,N)\n",
    "        delta = DF0solve(Fx)\n",
    "        norm_Fx = np.linalg.norm(Fx)\n",
    "        print(f'Iteration = {iter} F_error = {norm_Fx}, x_error = {np.linalg.norm(delta)}')\n",
    "        if norm_Fx > 1000 or (norm_Fx < epsF and np.linalg.norm(delta)< epsC):\n",
    "            break\n",
    "    if sign == 1:\n",
    "        X_hyp_plus = X.reshape((len(t),4)) + x0\n",
    "    elif sign == -1:\n",
    "        X_hyp_minus = X.reshape((len(t),4)) + x0"
   ]
  },
  {
   "cell_type": "code",
   "execution_count": null,
   "metadata": {},
   "outputs": [],
   "source": [
    "np.save(f'data_{name}/X_hyp_plus.npy',X_hyp_plus)\n",
    "np.save(f'data_{name}/X_hyp_minus.npy',X_hyp_minus)\n"
   ]
  },
  {
   "cell_type": "code",
   "execution_count": 5,
   "metadata": {},
   "outputs": [],
   "source": [
    "X_hyp_plus = np.load(f'data_{name}/X_hyp_plus.npy')\n",
    "X_hyp_minus=np.load(f'data_{name}/X_hyp_minus.npy')\n"
   ]
  },
  {
   "cell_type": "code",
   "execution_count": null,
   "metadata": {},
   "outputs": [],
   "source": [
    "%matplotlib qt\n",
    "fig = plt.figure()\n",
    "ax = fig.add_subplot(projection='3d')\n",
    "ax.plot(X_hyp_plus[:,0],X_hyp_plus[:,1], t,label = 'positive trajectory',linewidth=4)\n",
    "ax.plot(X_hyp_minus[:,0],X_hyp_minus[:,1], t,label = 'negative trajectory',linewidth=4)\n",
    "ax.legend()\n",
    "ax.set_xlabel('x')\n",
    "ax.set_ylabel('y')\n",
    "ax.set_zlabel('t')\n",
    "ax.view_init(elev=15,azim=-45)\n",
    "plt.tight_layout()\n",
    "plt.savefig(f'figures/hyp_traj_{name}.png')\n",
    "plt.show()"
   ]
  },
  {
   "cell_type": "markdown",
   "metadata": {},
   "source": [
    "## Stable manifold trajectories\n",
    "---\n"
   ]
  },
  {
   "cell_type": "code",
   "execution_count": 6,
   "metadata": {},
   "outputs": [
    {
     "name": "stdout",
     "output_type": "stream",
     "text": [
      "28\n",
      "74\n"
     ]
    }
   ],
   "source": [
    "Deltatminus = int(-np.log(10)/(dt*lambda3))\n",
    "Deltatplus = int(np.log(10)/(dt*lambda4))\n",
    "print(Deltatminus)\n",
    "print(Deltatplus)"
   ]
  },
  {
   "cell_type": "code",
   "execution_count": null,
   "metadata": {},
   "outputs": [],
   "source": [
    "\n",
    "M = 25\n",
    "R = 2.5\n",
    "q1,q2,q3 = np.meshgrid(np.linspace(-R,R,M),np.linspace(-R,R,M),np.linspace(-R,R,M))\n",
    "q1=q1.reshape(-1)\n",
    "q2=q2.reshape(-1)\n",
    "q3 = q3.reshape(-1)\n",
    "Q = np.vstack((q1,q2,q3)).T\n",
    "j = int((N-1)/2)\n",
    "epsF = 1e-7\n",
    "epsC = 1e-6\n",
    "start = time.time()\n",
    "for sign in [-1,1]:\n",
    "    if sign == 1:\n",
    "        A = Aplus\n",
    "        P = Pplus\n",
    "        Pinv = Pplusinv\n",
    "        X_hyp = X_hyp_plus\n",
    "    elif sign == -1:\n",
    "        A = Aminus\n",
    "        P = Pminus\n",
    "        Pinv = Pinvminus\n",
    "        X_hyp = X_hyp_minus\n",
    "\n",
    "    def F_S(X,q,j,imin,M):\n",
    "        # N number of points taken, X is diplacement from x0\n",
    "        Y = np.zeros((M,4))\n",
    "        X = X.reshape((M,4))\n",
    "        for i in range(0, M-1):\n",
    "            Y[i] = phi(t[i],dt,X[i]+X_hyp[i+imin]) - X_hyp[i+imin]  - X[i+1]\n",
    "            # Y[i] = phi(X[i] + x0,t[i]) - X[i+1] - x0   # ensures this is a trajectory.\n",
    "        # Boundary conditions (stable/unstable coordinates are zero to keep bounded ( need displacement from equilibrium)\n",
    "        Y[-1][1] = Pinv.dot(X[j-imin])[0] - q[0]\n",
    "        Y[-1][1] = Pinv.dot(X[j-imin])[1] -q[1]\n",
    "        Y[-1][2] = Pinv.dot(X[j-imin])[2] - q[2]\n",
    "        Y[-1][3] = Pinv.dot(X[-1])[3] # unstable\n",
    "        return Y.reshape(4*M)\n",
    "    def get_DF0_Ssolve(j,imin,M):\n",
    "        DF0_S = np.zeros((4*M,4*M))\n",
    "        Dphi = scipy.linalg.expm(dt*A) # matrix exponential for linear flow displacement from x0\n",
    "\n",
    "        j = j-imin\n",
    "        for i in range(0,M-1):\n",
    "            # find linear derivative\n",
    "            DF0_S[4*i:4*i + 4, 4*i:4*i + 4] = Dphi\n",
    "            DF0_S[4*i:4*i +4,4*i+4:4*i+8] = -np.eye(4)\n",
    "        DF0_S[4*M-4,4*j:4*j+4] = np.dot(Pinv.transpose(),array([1,0,0,0]))\n",
    "        DF0_S[4*M-3,4*j:4*j+4] = np.dot(Pinv.transpose(),array([0,1,0,0]))\n",
    "        DF0_S[4*M-2,4*j:4*j+4] = np.dot(Pinv.transpose(),array([0,0,1,0]))\n",
    "        DF0_S[4*M-1,4*M-4:] = np.dot(Pinv.transpose(),array([0,0,0,1]))\n",
    "        Permute, L, U = scipy.linalg.lu(DF0_S) # numerical LU decomposition. This is computed once to maximise efficiency\n",
    "        def DF0_Ssolve(y0):   # we only store the solution function to DF*h = y.\n",
    "            x0 = np.transpose(Permute).dot(y0)\n",
    "            return Usolve(Lsolve(x0,L),U)\n",
    "        return DF0_Ssolve\n",
    "    def Find_stable_trajectory(q,j,epsF =1e-5,epsC = 1e-5):\n",
    "    # if __name__ == '__main__':    \n",
    "\n",
    "        Deltatminus = int(-np.log(10)/(dt*lambda3))\n",
    "        Deltatplus = int(np.log(10)/(dt*lambda4))\n",
    "        imin = j -Deltatminus\n",
    "        imax = j+ Deltatplus\n",
    "        M = imax -imin + 1\n",
    "        p_0 = np.matmul(P,np.hstack((q,0)))\n",
    "        S = np.arange(imin,imax+1,1) - j\n",
    "        X0 = [np.matmul(scipy.linalg.expm(s*dt*A),p_0) for s in S]\n",
    "        X0 = np.array(X0)\n",
    "        X = X0.reshape(-1)\n",
    "        Fx = F_S(X,q,j,imin,M)\n",
    "        DF0_Ssolve = get_DF0_Ssolve(j,imin,M)\n",
    "        delta = DF0_Ssolve(Fx)\n",
    "        for _ in range(0,100):\n",
    "            X = X - delta\n",
    "            Fx = F_S(X,q,j,imin,M)\n",
    "            delta = DF0_Ssolve(Fx)\n",
    "            norm_Fx = np.linalg.norm(Fx)\n",
    "            print(f'F_error = {norm_Fx}, x_error = {np.linalg.norm(delta)}')\n",
    "            if norm_Fx > 1000 or (norm_Fx < epsF and np.linalg.norm(delta)< epsC):\n",
    "                break\n",
    "        if (norm_Fx < epsF and np.linalg.norm(delta)< epsC):\n",
    "            X_S = X.reshape((M,4)) + X_hyp[imin:imax+1]\n",
    "            flag = True\n",
    "        else:\n",
    "            X_S = X0\n",
    "            flag = False\n",
    "        return X_S[j-imin],flag\n",
    "    def get_point(q):\n",
    "        X_S,flag = Find_stable_trajectory(q,j)\n",
    "        p = X_S\n",
    "        return p,flag\n",
    "    SM = []\n",
    "    # for q in Q:\n",
    "    #     SM.append(get_point(q)) \n",
    "    SM = Parallel(n_jobs=-1)(delayed(get_point)(q) for q in Q)\n",
    "    P = [p[0] for p in SM]\n",
    "    flags = [p[1] for p in SM]\n",
    "    if sign == 1:\n",
    "        SM_plus = np.array(P)\n",
    "        flags_plus = flags\n",
    "    elif sign == -1:\n",
    "        SM_minus = np.array(P)\n",
    "        flags_minus = flags\n",
    "\n",
    "elapsed = time.time() - start\n",
    "print(f'Elapsed time = {elapsed:.1f}')"
   ]
  },
  {
   "cell_type": "code",
   "execution_count": null,
   "metadata": {},
   "outputs": [],
   "source": [
    "print(np.mean(flags_plus))\n",
    "print(np.mean(flags_minus))\n",
    "np.save(f'data_{name}/Q.npy',Q)\n",
    "np.save(f'data_{name}/SM_plus.npy',SM_plus)\n",
    "np.save(f'data_{name}/SM_minus.npy',SM_minus)\n",
    "np.save(f'data_{name}/flags_plus.npy',np.array(flags_plus))\n",
    "np.save(f'data_{name}/flags_minus.npy',np.array(flags_minus))\n",
    "np.save(f'data_{name}/Q.npy',Q)\n",
    "np.save(f'data_{name}/SM_plus.npy',SM_plus)\n",
    "np.save(f'data_{name}/SM_minus.npy',SM_minus)\n",
    "np.save(f'data_{name}/flags_plus.npy',np.array(flags_plus))\n",
    "np.save(f'data_{name}/flags_minus.npy',np.array(flags_minus))\n",
    "\n"
   ]
  },
  {
   "cell_type": "code",
   "execution_count": 7,
   "metadata": {},
   "outputs": [],
   "source": [
    "SM_plus = np.load(f'data_{name}/SM_plus.npy')\n",
    "SM_minus = np.load(f'data_{name}/SM_minus.npy')\n",
    "Q = np.load(f'data_{name}/Q.npy')\n",
    "flags_plus = np.load(f'data_{name}/flags_plus.npy')\n",
    "flags_minus = np.load(f'data_{name}/flags_minus.npy')\n",
    "v_y_plus  = scipy.interpolate.Rbf(SM_plus[flags_plus,0],SM_plus[flags_plus,1],SM_plus[flags_plus,2],SM_plus[flags_plus,3])\n",
    "v_y_minus  = scipy.interpolate.Rbf(SM_minus[flags_minus,0],SM_minus[flags_minus,1],SM_minus[flags_minus,2],SM_minus[flags_minus,3])\n"
   ]
  },
  {
   "cell_type": "code",
   "execution_count": null,
   "metadata": {},
   "outputs": [],
   "source": [
    "X,VX = np.meshgrid(np.linspace(-2,2,20),np.linspace(-2,2,20))\n",
    "VY_plus = v_y_plus(X,0*X,VX)\n",
    "VY_minus = v_y_minus(X,0*X,VX)\n",
    "\n",
    "fig = plt.figure()\n",
    "ax = fig.add_subplot(projection='3d')\n",
    "\n",
    "ax.plot_surface(X,VX,VY_plus,alpha=0.8)\n",
    "ax.plot_surface(X,VX,VY_minus,alpha=0.8)\n",
    "ax.set_xlabel('x')\n",
    "ax.set_ylabel('v_x')\n",
    "ax.set_zlabel('v_y')\n",
    "ax.view_init(elev=6.5,azim=-45)\n",
    "# plt.title('Stable manifolds in y=0,t=0')\n",
    "ax.legend(('Positive stable manifold','Negative stable manifold'))\n",
    "plt.tight_layout()\n",
    "plt.savefig(f'figures/manifolds_{name}1.png')\n",
    "plt.savefig(f'figures/manifolds_{name}2.png')\n",
    "plt.show()"
   ]
  },
  {
   "cell_type": "code",
   "execution_count": null,
   "metadata": {},
   "outputs": [],
   "source": [
    "fig = plt.figure()\n",
    "fig.set_figwidth(12)\n",
    "i=1\n",
    "for y_val in [-0.5,0,0.5]:\n",
    "    ax = fig.add_subplot(1,3,i,projection='3d')\n",
    "    VY_plus = v_y_plus(X,0*X+y_val,0*X)\n",
    "    VY_minus = v_y_minus(X,0*X+y_val,0*X)\n",
    "    if i == 1:\n",
    "        ax.plot_surface(X,VX,VY_plus,alpha=0.8,label='Positive stable manifold',color = 'r')\n",
    "        ax.plot_surface(X,VX,VY_minus,alpha=0.8,label='Negative stable manifold',color='b')\n",
    "    else:\n",
    "        ax.plot_surface(X,VX,VY_plus,alpha=0.8,color = 'r')\n",
    "        ax.plot_surface(X,VX,VY_minus,alpha=0.8,color='b')\n",
    "\n",
    "    ax.set_xlabel(r'$x$')\n",
    "    ax.set_ylabel(r'$v_x$')\n",
    "    ax.set_title(f'$y={y_val}$')\n",
    "    ax.set_zlim(-5,5)\n",
    "    if i ==1:\n",
    "        ax.set_zlabel(r'$v_y$')\n",
    "    ax.view_init(elev=6.5,azim=45)\n",
    "    i+=1\n",
    "fig.legend(bbox_to_anchor=(1,1),loc='upper left')\n",
    "fig.tight_layout()\n",
    "plt.savefig(f'figures/scatter_{name}_manifolds_graph.png')\n",
    "plt.show()"
   ]
  },
  {
   "cell_type": "markdown",
   "metadata": {},
   "source": [
    "## Numerical experiments\n",
    "----\n",
    "Things to do here, test classification by straight integration (not too dividing manifold)\n"
   ]
  },
  {
   "cell_type": "code",
   "execution_count": 8,
   "metadata": {},
   "outputs": [],
   "source": [
    "\n",
    "\n",
    "def is_not_capsize(y0):\n",
    "    def event(t,y):\n",
    "        return y[1]**2 - 25\n",
    "    event.terminal = True\n",
    "    F = lambda t,x : f(x,t)+g(t)\n",
    "    res = solve_ivp (F, [0,T], y0 , method = \"RK45\" , events=[event],  max_step =dt/50 , rtol = 1e-12 )\n",
    "    result = res.y\n",
    "    result = result.T\n",
    "    y = result[-1]\n",
    "    print(y)\n",
    "    return y[1]**2 < 20\n"
   ]
  },
  {
   "cell_type": "code",
   "execution_count": 9,
   "metadata": {},
   "outputs": [],
   "source": [
    "points = np.random.rand(10000,4)\n",
    "scale = np.array([[2, 0, 0,0],[0,2,0,0],[0,0,2,0],[0,0,0,10]])\n",
    "points = np.matmul(scale,points.T-.5).T\n",
    "capsize_flags = Parallel(n_jobs=-2)(delayed(is_not_capsize)(y0) for y0 in points)\n"
   ]
  },
  {
   "cell_type": "code",
   "execution_count": 13,
   "metadata": {},
   "outputs": [],
   "source": [
    "\n",
    "np.save(f'data_{name}/points_full.npy',np.array(points))\n",
    "np.save(f'data_{name}/capsize_flags_full.npy',np.array(capsize_flags))    "
   ]
  },
  {
   "cell_type": "code",
   "execution_count": null,
   "metadata": {},
   "outputs": [],
   "source": [
    "points = np.load(f'data_{name}/points_full.npy')\n",
    "capsize_flags = np.load(f'data_{name}/capsize_flags_full.npy')\n"
   ]
  },
  {
   "cell_type": "code",
   "execution_count": 11,
   "metadata": {},
   "outputs": [],
   "source": [
    "manifold_flags = []\n",
    "for y0 in points:\n",
    "    flag = y0[3] < v_y_plus(y0[0],y0[1],y0[2]) and y0[3] > v_y_minus(y0[0],y0[1],y0[2])#\n",
    "    manifold_flags.append(flag)"
   ]
  },
  {
   "cell_type": "code",
   "execution_count": 10,
   "metadata": {},
   "outputs": [
    {
     "data": {
      "text/plain": [
       "10000"
      ]
     },
     "execution_count": 10,
     "metadata": {},
     "output_type": "execute_result"
    }
   ],
   "source": [
    "len(points)"
   ]
  },
  {
   "cell_type": "code",
   "execution_count": 12,
   "metadata": {},
   "outputs": [
    {
     "name": "stdout",
     "output_type": "stream",
     "text": [
      "quasi_periodic\n",
      "accuracy = 0.9694\n",
      "Sensitivity = 0.9274432379072063\n",
      "Specitivity = 0.9979825151311366\n"
     ]
    }
   ],
   "source": [
    "capsize_flags = np.array(capsize_flags)\n",
    "manifold_flags = np.array(manifold_flags)\n",
    "\n",
    "accuracy = np.mean(capsize_flags == manifold_flags)\n",
    "print(name)\n",
    "print(f'accuracy = {accuracy}')\n",
    "print(f'Sensitivity = {np.mean(manifold_flags[capsize_flags])}')\n",
    "print(f'Specitivity = {np.mean(~manifold_flags[~capsize_flags])}')\n"
   ]
  },
  {
   "cell_type": "code",
   "execution_count": null,
   "metadata": {},
   "outputs": [],
   "source": [
    "# def is_not_capsize(y0):\n",
    "#     return y0[3] < v_y_plus(y0[0],y0[1],y0[2]) and y0[3] > v_y_minus(y0[0],y0[1],y0[2])"
   ]
  },
  {
   "cell_type": "code",
   "execution_count": null,
   "metadata": {},
   "outputs": [],
   "source": [
    "name"
   ]
  },
  {
   "cell_type": "code",
   "execution_count": null,
   "metadata": {},
   "outputs": [],
   "source": [
    "points = np.random.rand(1000,4)\n",
    "scale = np.array([[2, 0, 0,0],[0,2,0,0],[0,0,10,0],[0,0,0,10]])\n",
    "points = np.matmul(scale,points.T-.5).T\n",
    "M=20\n",
    "R = 1\n",
    "X = np.linspace(-R,R,M)\n",
    "fig,axs = plt.subplots(1,3)\n",
    "fig.set_figwidth(12)\n",
    "i=0\n",
    "for y_val in [-0.5,0,0.5]:\n",
    "    VY_plus = v_y_plus(X,0*X+y_val,0*X)\n",
    "    VY_minus = v_y_minus(X,0*X+y_val,0*X)\n",
    "    points[:,1] = 0*points[:,1] +y_val\n",
    "    points[:,2] = 0*points[:,1] \n",
    "    capsize_flags = Parallel(n_jobs=-2)(delayed(is_not_capsize)(y0) for y0 in points)\n",
    "\n",
    "\n",
    "    # fig = plt.figure()\n",
    "    points = np.array(points)\n",
    "    capsize_flags = np.array(capsize_flags)\n",
    "\n",
    "    capsize_points = points[~capsize_flags,:]\n",
    "    safe_points=  points[capsize_flags,:]\n",
    "    # capsize_points = points[~manifold_flags,:]\n",
    "    # safe_points=  points[manifold_flags,:]\n",
    "    if i == 0:\n",
    "        axs[i].scatter(capsize_points[:,0],capsize_points[:,3],color='r',alpha = 0.4,label='Capsize')\n",
    "        axs[i].scatter(safe_points[:,0],safe_points[:,3],color='g',alpha = 0.4,label='Safe')\n",
    "        # plt.title(f'y = {y_val}')\n",
    "        axs[i].plot(X,VY_plus,color = 'b',label='Stable manifolds')\n",
    "    else:\n",
    "        axs[i].scatter(capsize_points[:,0],capsize_points[:,3],color='r',alpha = 0.4)\n",
    "        axs[i].scatter(safe_points[:,0],safe_points[:,3],color='g',alpha = 0.4)\n",
    "        # plt.title(f'y = {y_val}')\n",
    "        axs[i].plot(X,VY_plus,color = 'b')\n",
    "    axs[i].plot(X,VY_minus,color = 'b')\n",
    "    axs[i].set_xlabel(r'$x$')\n",
    "    axs[i].set_title(f'y={y_val},v_x=0')\n",
    "    if i ==0:\n",
    "        axs[i].set_ylabel(r'$v_y$')\n",
    "    i+=1\n",
    "fig.legend(bbox_to_anchor=(1,1),loc='upper left')\n",
    "fig.tight_layout()\n",
    "plt.savefig(f'figures/scatter_{name}_manifolds.pdf')\n",
    "plt.show()"
   ]
  },
  {
   "cell_type": "code",
   "execution_count": null,
   "metadata": {},
   "outputs": [],
   "source": [
    "M=25\n",
    "X = np.linspace(-R,R,M)\n",
    "VX = np.linspace(-R,R,M)\n",
    "X,VX = np.meshgrid(X,VX)\n",
    "VY_plus = v_y_plus(X,0*X,VX)\n",
    "VY_minus = v_y_minus(X,0*X,VX)\n",
    "    \n",
    "fig = plt.figure()\n",
    "points = np.array(points)\n",
    "ax = fig.add_subplot(projection='3d')\n",
    "capsize_points = points[~capsize_flags,:]\n",
    "safe_points=  points[capsize_flags,:]\n",
    "# capsize_points = points[~manifold_flags,:]\n",
    "# safe_points=  points[manifold_flags,:]\n",
    "ax.scatter(capsize_points[:,0],capsize_points[:,2],capsize_points[:,3],color='r',alpha = 0.4)\n",
    "ax.scatter(safe_points[:,0],safe_points[:,2],safe_points[:,3],color='g',alpha = 0.4)\n",
    "\n",
    "ax.plot_surface(X,VX,VY_plus,alpha = 0.5,color = 'b')\n",
    "ax.plot_surface(X,VX,VY_minus,alpha = 0.5,color = 'b')\n",
    "ax.set_xlabel('x')\n",
    "ax.set_ylabel('v_x')\n",
    "ax.set_zlabel('v_y')\n",
    "plt.show()"
   ]
  },
  {
   "cell_type": "markdown",
   "metadata": {},
   "source": [
    "## Calculating integrity measure\n",
    "------\n",
    "For this we will use the capsize criteria from the manifolds."
   ]
  },
  {
   "cell_type": "code",
   "execution_count": null,
   "metadata": {},
   "outputs": [],
   "source": [
    "H = lambda y: (.25*y[2]**2)/h + .5*y[3]**2 + .5*(y[1]**2 +.5*y[0]**2 - y[0]*y[1]**2)\n",
    "def U(y0):\n",
    "    return H(y0) <.25 and abs(y0[1]) <= 1"
   ]
  },
  {
   "cell_type": "code",
   "execution_count": null,
   "metadata": {},
   "outputs": [],
   "source": [
    "points = np.random.rand(100000,4)\n",
    "scale = np.array([[2, 0, 0,0],[0,2,0,0],[0,0,2*np.sqrt(h),0],[0,0,0,2*np.sqrt(2)]])\n",
    "points = np.matmul(scale,points.T-.5).T\n",
    "capsize_flags = []\n",
    "for y0 in points:\n",
    "    flag = y0[-3] < v_y_plus(y0[0],y0[1],y0[2]) and y0[-3] > v_y_minus(y0[0],y0[1],y0[2])#\n",
    "    capsize_flags.append(flag)\n",
    "volU = 163*np.pi*np.sqrt(2*h)/210\n",
    "integrity_measure = np.mean(np.array(manifold_flags))*volU\n",
    "print(f'For {name}: Integrity measure = {integrity_measure:.2f}, Relative integrity measure = {np.mean(np.array(manifold_flags)):.2f}')"
   ]
  },
  {
   "cell_type": "code",
   "execution_count": null,
   "metadata": {},
   "outputs": [],
   "source": []
  }
 ],
 "metadata": {
  "kernelspec": {
   "display_name": "base",
   "language": "python",
   "name": "python3"
  },
  "language_info": {
   "codemirror_mode": {
    "name": "ipython",
    "version": 3
   },
   "file_extension": ".py",
   "mimetype": "text/x-python",
   "name": "python",
   "nbconvert_exporter": "python",
   "pygments_lexer": "ipython3",
   "version": "3.10.13"
  }
 },
 "nbformat": 4,
 "nbformat_minor": 2
}
